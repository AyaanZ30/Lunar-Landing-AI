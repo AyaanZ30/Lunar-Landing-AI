{
  "cells": [
    {
      "cell_type": "markdown",
      "metadata": {
        "id": "LbZcI9ZXHl3a"
      },
      "source": [
        "# Deep Q-Learning for Lunar Landing"
      ]
    },
    {
      "cell_type": "markdown",
      "metadata": {
        "id": "E8yPRjteXgPb"
      },
      "source": [
        "## Part 0 - Installing the required packages and importing the libraries"
      ]
    },
    {
      "cell_type": "markdown",
      "metadata": {
        "id": "slEm5teGWjWU"
      },
      "source": [
        "### Installing Gymnasium"
      ]
    },
    {
      "cell_type": "code",
      "source": [
        "!pip install gymnasium\n",
        "!pip install \"gymnasium[atari, accept-rom-license]\"\n",
        "!apt-get install -y swig\n",
        "!pip install gymnasium[box2d]"
      ],
      "metadata": {
        "colab": {
          "base_uri": "https://localhost:8080/"
        },
        "collapsed": true,
        "id": "yxbzeP1GOg-u",
        "outputId": "f6d7b161-a693-4856-ce45-22e0ec78f8c1"
      },
      "execution_count": null,
      "outputs": [
        {
          "output_type": "stream",
          "name": "stdout",
          "text": [
            "Requirement already satisfied: gymnasium in /usr/local/lib/python3.10/dist-packages (0.29.1)\n",
            "Requirement already satisfied: numpy>=1.21.0 in /usr/local/lib/python3.10/dist-packages (from gymnasium) (1.25.2)\n",
            "Requirement already satisfied: cloudpickle>=1.2.0 in /usr/local/lib/python3.10/dist-packages (from gymnasium) (2.2.1)\n",
            "Requirement already satisfied: typing-extensions>=4.3.0 in /usr/local/lib/python3.10/dist-packages (from gymnasium) (4.12.2)\n",
            "Requirement already satisfied: farama-notifications>=0.0.1 in /usr/local/lib/python3.10/dist-packages (from gymnasium) (0.0.4)\n",
            "Requirement already satisfied: gymnasium[accept-rom-license,atari] in /usr/local/lib/python3.10/dist-packages (0.29.1)\n",
            "Requirement already satisfied: numpy>=1.21.0 in /usr/local/lib/python3.10/dist-packages (from gymnasium[accept-rom-license,atari]) (1.25.2)\n",
            "Requirement already satisfied: cloudpickle>=1.2.0 in /usr/local/lib/python3.10/dist-packages (from gymnasium[accept-rom-license,atari]) (2.2.1)\n",
            "Requirement already satisfied: typing-extensions>=4.3.0 in /usr/local/lib/python3.10/dist-packages (from gymnasium[accept-rom-license,atari]) (4.12.2)\n",
            "Requirement already satisfied: farama-notifications>=0.0.1 in /usr/local/lib/python3.10/dist-packages (from gymnasium[accept-rom-license,atari]) (0.0.4)\n",
            "Requirement already satisfied: shimmy[atari]<1.0,>=0.1.0 in /usr/local/lib/python3.10/dist-packages (from gymnasium[accept-rom-license,atari]) (0.2.1)\n",
            "Requirement already satisfied: autorom[accept-rom-license]~=0.4.2 in /usr/local/lib/python3.10/dist-packages (from gymnasium[accept-rom-license,atari]) (0.4.2)\n",
            "Requirement already satisfied: click in /usr/local/lib/python3.10/dist-packages (from autorom[accept-rom-license]~=0.4.2->gymnasium[accept-rom-license,atari]) (8.1.7)\n",
            "Requirement already satisfied: requests in /usr/local/lib/python3.10/dist-packages (from autorom[accept-rom-license]~=0.4.2->gymnasium[accept-rom-license,atari]) (2.31.0)\n",
            "Requirement already satisfied: tqdm in /usr/local/lib/python3.10/dist-packages (from autorom[accept-rom-license]~=0.4.2->gymnasium[accept-rom-license,atari]) (4.66.4)\n",
            "Requirement already satisfied: AutoROM.accept-rom-license in /usr/local/lib/python3.10/dist-packages (from autorom[accept-rom-license]~=0.4.2->gymnasium[accept-rom-license,atari]) (0.6.1)\n",
            "Requirement already satisfied: ale-py~=0.8.1 in /usr/local/lib/python3.10/dist-packages (from shimmy[atari]<1.0,>=0.1.0->gymnasium[accept-rom-license,atari]) (0.8.1)\n",
            "Requirement already satisfied: importlib-resources in /usr/local/lib/python3.10/dist-packages (from ale-py~=0.8.1->shimmy[atari]<1.0,>=0.1.0->gymnasium[accept-rom-license,atari]) (6.4.0)\n",
            "Requirement already satisfied: charset-normalizer<4,>=2 in /usr/local/lib/python3.10/dist-packages (from requests->autorom[accept-rom-license]~=0.4.2->gymnasium[accept-rom-license,atari]) (3.3.2)\n",
            "Requirement already satisfied: idna<4,>=2.5 in /usr/local/lib/python3.10/dist-packages (from requests->autorom[accept-rom-license]~=0.4.2->gymnasium[accept-rom-license,atari]) (3.7)\n",
            "Requirement already satisfied: urllib3<3,>=1.21.1 in /usr/local/lib/python3.10/dist-packages (from requests->autorom[accept-rom-license]~=0.4.2->gymnasium[accept-rom-license,atari]) (2.0.7)\n",
            "Requirement already satisfied: certifi>=2017.4.17 in /usr/local/lib/python3.10/dist-packages (from requests->autorom[accept-rom-license]~=0.4.2->gymnasium[accept-rom-license,atari]) (2024.6.2)\n",
            "Reading package lists... Done\n",
            "Building dependency tree... Done\n",
            "Reading state information... Done\n",
            "swig is already the newest version (4.0.2-1ubuntu1).\n",
            "0 upgraded, 0 newly installed, 0 to remove and 45 not upgraded.\n",
            "Requirement already satisfied: gymnasium[box2d] in /usr/local/lib/python3.10/dist-packages (0.29.1)\n",
            "Requirement already satisfied: numpy>=1.21.0 in /usr/local/lib/python3.10/dist-packages (from gymnasium[box2d]) (1.25.2)\n",
            "Requirement already satisfied: cloudpickle>=1.2.0 in /usr/local/lib/python3.10/dist-packages (from gymnasium[box2d]) (2.2.1)\n",
            "Requirement already satisfied: typing-extensions>=4.3.0 in /usr/local/lib/python3.10/dist-packages (from gymnasium[box2d]) (4.12.2)\n",
            "Requirement already satisfied: farama-notifications>=0.0.1 in /usr/local/lib/python3.10/dist-packages (from gymnasium[box2d]) (0.0.4)\n",
            "Requirement already satisfied: box2d-py==2.3.5 in /usr/local/lib/python3.10/dist-packages (from gymnasium[box2d]) (2.3.5)\n",
            "Requirement already satisfied: pygame>=2.1.3 in /usr/local/lib/python3.10/dist-packages (from gymnasium[box2d]) (2.5.2)\n",
            "Requirement already satisfied: swig==4.* in /usr/local/lib/python3.10/dist-packages (from gymnasium[box2d]) (4.2.1)\n"
          ]
        }
      ]
    },
    {
      "cell_type": "markdown",
      "metadata": {
        "id": "brqiMN3UW9T9"
      },
      "source": [
        "### Importing the libraries"
      ]
    },
    {
      "cell_type": "code",
      "source": [
        "import os\n",
        "import random\n",
        "import numpy as np\n",
        "import torch\n",
        "import torch.nn as nn\n",
        "import torch.optim as optim\n",
        "import torch.nn.functional as F\n",
        "import torch.autograd as autograd\n",
        "from torch.autograd import Variable\n",
        "from collections import deque,namedtuple"
      ],
      "metadata": {
        "id": "n992JtdRPi0e"
      },
      "execution_count": null,
      "outputs": []
    },
    {
      "cell_type": "markdown",
      "metadata": {
        "id": "EzlDKXvkXzGI"
      },
      "source": [
        "## Part 1 - Building the AI"
      ]
    },
    {
      "cell_type": "markdown",
      "metadata": {
        "id": "UtG6Zc83YYy3"
      },
      "source": [
        "### Creating the architecture of the Neural Network"
      ]
    },
    {
      "cell_type": "code",
      "source": [
        "class Network(nn.Module):\n",
        "\n",
        "  def __init__(self, state_size, action_size, seed = 42):\n",
        "    super(Network,self).__init__()\n",
        "    self.seed = torch.manual_seed(seed)\n",
        "    self.fc1 = nn.Linear(state_size, 64)\n",
        "    self.fc2 = nn.Linear(64, 64)\n",
        "    self.fc3 = nn.Linear(64, action_size)\n",
        "\n",
        "  def forward(self,state):\n",
        "    x = self.fc1(state)\n",
        "    x = F.relu(x)\n",
        "    x = self.fc2(x)\n",
        "    x = F.relu(x)\n",
        "    return self.fc3(x)"
      ],
      "metadata": {
        "id": "GCF4lVIB1uHN"
      },
      "execution_count": null,
      "outputs": []
    },
    {
      "cell_type": "markdown",
      "metadata": {
        "id": "UxVrBnFWZKb1"
      },
      "source": [
        "## Part 2 - Training the AI"
      ]
    },
    {
      "cell_type": "markdown",
      "metadata": {
        "id": "T364fz9qZb2j"
      },
      "source": [
        "### Setting up the environment"
      ]
    },
    {
      "cell_type": "code",
      "source": [
        "import gymnasium as gym\n",
        "env = gym.make('LunarLander-v2')\n",
        "state_shape = env.observation_space.shape\n",
        "state_size = env.observation_space.shape[0]\n",
        "number_actions = env.action_space.n\n",
        "\n",
        "print('State shape : ',state_shape)\n",
        "print('State size : ',state_size)\n",
        "print('Number of actions : ',number_actions)"
      ],
      "metadata": {
        "colab": {
          "base_uri": "https://localhost:8080/"
        },
        "id": "cHr6gOXNXYaR",
        "outputId": "d409e952-f6b8-4c1b-8b6e-7ef421b91131"
      },
      "execution_count": null,
      "outputs": [
        {
          "output_type": "stream",
          "name": "stdout",
          "text": [
            "State shape :  (8,)\n",
            "State size :  8\n",
            "Number of actions :  4\n"
          ]
        }
      ]
    },
    {
      "cell_type": "markdown",
      "metadata": {
        "id": "c_dZmOIvZgj-"
      },
      "source": [
        "### Initializing the hyperparameters"
      ]
    },
    {
      "cell_type": "code",
      "source": [
        "learning_rate = 5e-4\n",
        "minibatch_size = 100\n",
        "discount_factor = 0.99\n",
        "replay_buffer_size = int(1e5)\n",
        "interpolation_parameter = 1e-3"
      ],
      "metadata": {
        "id": "27JVgYwKaiJp"
      },
      "execution_count": null,
      "outputs": []
    },
    {
      "cell_type": "markdown",
      "metadata": {
        "id": "8hD_Vs-bYnip"
      },
      "source": [
        "### Implementing Experience Replay"
      ]
    },
    {
      "cell_type": "code",
      "source": [
        "class ReplayMemory(object):\n",
        "\n",
        "  def __init__(self, capacity):\n",
        "    self.device = torch.device(\"cuda:0\" if torch.cuda.is_available() else \"cpu\")\n",
        "    self.capacity = capacity\n",
        "    self.memory = []\n",
        "\n",
        "  def push(self, event):\n",
        "    self.memory.append(event)\n",
        "    if len(self.memory) > self.capacity:\n",
        "      del self.memory[0]\n",
        "\n",
        "  def sample(self, batch_size):\n",
        "    experiences = random.sample(self.memory, k = batch_size)\n",
        "    states = torch.from_numpy(np.vstack([e[0] for e in experiences if e is not None])).float().to(self.device)\n",
        "    actions = torch.from_numpy(np.vstack([e[1] for e in experiences if e is not None])).long().to(self.device)\n",
        "    rewards = torch.from_numpy(np.vstack([e[2] for e in experiences if e is not None])).float().to(self.device)\n",
        "    next_states = torch.from_numpy(np.vstack([e[3] for e in experiences if e is not None])).float().to(self.device)\n",
        "    dones = torch.from_numpy(np.vstack([e[4] for e in experiences if e is not None]).astype(np.uint8)).float().to(self.device)\n",
        "    return states, next_states, actions, rewards, dones"
      ],
      "metadata": {
        "id": "gJ2BgoUX3Lmz"
      },
      "execution_count": null,
      "outputs": []
    },
    {
      "cell_type": "markdown",
      "metadata": {
        "id": "JmEkbFbUY6Jt"
      },
      "source": [
        "### Implementing the DQN class"
      ]
    },
    {
      "cell_type": "code",
      "source": [
        "class Agent():\n",
        "\n",
        "  def __init__(self, state_size, action_size):\n",
        "     self.device = torch.device(\"cuda:0\" if torch.cuda.is_available() else \"cpu\")\n",
        "     self.state_size = state_size\n",
        "     self.action_size = action_size\n",
        "     self.local_qnetwork = Network(state_size,action_size).to(self.device)\n",
        "     self.target_qnetwork = Network(state_size,action_size).to(self.device)\n",
        "     self.optimizer = optim.Adam(self.local_qnetwork.parameters(), lr = learning_rate)\n",
        "     self.memory = ReplayMemory(replay_buffer_size)\n",
        "     self.t_step = 0\n",
        "\n",
        "  def step(self, state, action, reward, next_state, done):\n",
        "    self.memory.push((state, action, reward, next_state, done))\n",
        "    self.t_step = (self.t_step + 1) % 4\n",
        "    if self.t_step == 0:\n",
        "      if len(self.memory.memory) > minibatch_size:\n",
        "        experiences = self.memory.sample(100)\n",
        "        self.learn(experiences, discount_factor)\n",
        "\n",
        "  def act(self, state, epsilon = 0.):\n",
        "    state = torch.from_numpy(state).float().unsqueeze(0).to(self.device)\n",
        "    self.local_qnetwork.eval()\n",
        "    with torch.no_grad():\n",
        "      action_values = self.local_qnetwork(state)\n",
        "    self.local_qnetwork.train()\n",
        "    if random.random() > epsilon:\n",
        "      return np.argmax(action_values.cpu().data.numpy())\n",
        "    else:\n",
        "      return random.choice(np.arange(self.action_size))\n",
        "\n",
        "  def learn(self, experiences, discount_factor):\n",
        "    states, next_states, actions, rewards, dones = experiences\n",
        "    next_q_targets = self.target_qnetwork(next_states).detach().max(1)[0].unsqueeze(1)\n",
        "    q_targets = rewards + (discount_factor * next_q_targets * (1 - dones))\n",
        "    q_expected = self.local_qnetwork(states).gather(1, actions)\n",
        "    loss = F.mse_loss(q_expected, q_targets)\n",
        "    self.optimizer.zero_grad()\n",
        "    loss.backward()\n",
        "    self.optimizer.step()\n",
        "    self.soft_update(self.local_qnetwork, self.target_qnetwork, interpolation_parameter)\n",
        "\n",
        "  def soft_update(self, local_model, target_model, interpolation_parameter):\n",
        "    for target_param, local_param in zip(target_model.parameters(), local_model.parameters()):\n",
        "      target_param.data.copy_(interpolation_parameter * local_param.data + (1.0 - interpolation_parameter) * target_param.data)"
      ],
      "metadata": {
        "id": "4JEi-dS98uVr"
      },
      "execution_count": null,
      "outputs": []
    },
    {
      "cell_type": "markdown",
      "metadata": {
        "id": "o1tZElccZmf6"
      },
      "source": [
        "### Initializing the DQN agent"
      ]
    },
    {
      "cell_type": "code",
      "source": [
        "agent = Agent(state_size, number_actions)"
      ],
      "metadata": {
        "id": "DyUFpCBW4aqH"
      },
      "execution_count": null,
      "outputs": []
    },
    {
      "cell_type": "markdown",
      "metadata": {
        "id": "E8v0PtUfaVQp"
      },
      "source": [
        "### Training the DQN agent"
      ]
    },
    {
      "cell_type": "code",
      "source": [
        "number_episodes = 2000\n",
        "max_number_timesteps_per_episode = 1000\n",
        "epsilon_start_value = 1.0\n",
        "epsilon_end_value = 0.01\n",
        "epsilon_decay_value = 0.995\n",
        "epsilon = epsilon_start_value\n",
        "scores_on_100_episodes = deque(maxlen = 100)\n",
        "\n",
        "for episode in range(1, number_episodes + 1):\n",
        "  state, _ = env.reset()\n",
        "  score = 0\n",
        "  for t in range(max_number_timesteps_per_episode):\n",
        "    action = agent.act(state, epsilon)\n",
        "    next_state, reward, done, _, _ = env.step(action)\n",
        "    agent.step(state, action, reward, next_state, done)\n",
        "    state = next_state\n",
        "    score += reward\n",
        "    if done:\n",
        "      break\n",
        "  scores_on_100_episodes.append(score)\n",
        "  epsilon = max(epsilon_end_value, epsilon_decay_value * epsilon)\n",
        "  print('\\rEpisode {}\\tAverage score : {:.2f}'.format(episode, np.mean(scores_on_100_episodes)), end = \"\")\n",
        "  if episode % 100 == 0:\n",
        "    print('\\rEpsiode : {}\\tAverage score : {:.2f}'.format(episode, np.mean(scores_on_100_episodes)))\n",
        "  if np.mean(scores_on_100_episodes) >= 200.0:\n",
        "    print('\\nEnvironment solved in {:d} episodes!\\tAverage score : {:.2f}'.format(episode, np.mean(scores_on_100_episodes)))\n",
        "    torch.save(agent.local_qnetwork.state_dict(), 'checkpoint.pth')\n",
        "    break"
      ],
      "metadata": {
        "colab": {
          "base_uri": "https://localhost:8080/"
        },
        "id": "iL0bJbc7A2o6",
        "outputId": "66f60c61-069f-4553-cf77-a144cad8b128"
      },
      "execution_count": null,
      "outputs": [
        {
          "output_type": "stream",
          "name": "stdout",
          "text": [
            "Epsiode : 100\tAverage score : -88.41\n",
            "Epsiode : 200\tAverage score : -17.85\n",
            "Epsiode : 300\tAverage score : 81.34\n",
            "Epsiode : 400\tAverage score : 177.40\n",
            "Episode 425\tAverage score : 200.55\n",
            "Environment solved in 425 episodes!\tAverage score : 200.55\n"
          ]
        }
      ]
    },
    {
      "cell_type": "markdown",
      "metadata": {
        "id": "O8CNwdOTcCoP"
      },
      "source": [
        "## Part 3 - Visualizing the results"
      ]
    },
    {
      "cell_type": "code",
      "execution_count": null,
      "metadata": {
        "id": "cb9nVvU2Okhk",
        "colab": {
          "base_uri": "https://localhost:8080/",
          "height": 458
        },
        "outputId": "aceaf477-0900-4d2c-a6b0-e1fbd21fc64a"
      },
      "outputs": [
        {
          "output_type": "stream",
          "name": "stderr",
          "text": [
            "WARNING:imageio_ffmpeg:IMAGEIO FFMPEG_WRITER WARNING: input image is not divisible by macro_block_size=16, resizing from (600, 400) to (608, 400) to ensure video compatibility with most codecs and players. To prevent resizing, make your input image divisible by the macro_block_size or set the macro_block_size to 1 (risking incompatibility).\n"
          ]
        },
        {
          "output_type": "display_data",
          "data": {
            "text/plain": [
              "<IPython.core.display.HTML object>"
            ],
            "text/html": [
              "<video alt=\"test\" autoplay\n",
              "                loop controls style=\"height: 400px;\">\n",
              "                <source src=\"data:video/mp4;base64,AAAAIGZ0eXBpc29tAAACAGlzb21pc28yYXZjMW1wNDEAAAAIZnJlZQABAQptZGF0AAACrgYF//+q3EXpvebZSLeWLNgg2SPu73gyNjQgLSBjb3JlIDE1OSByMjk5MSAxNzcxYjU1IC0gSC4yNjQvTVBFRy00IEFWQyBjb2RlYyAtIENvcHlsZWZ0IDIwMDMtMjAxOSAtIGh0dHA6Ly93d3cudmlkZW9sYW4ub3JnL3gyNjQuaHRtbCAtIG9wdGlvbnM6IGNhYmFjPTEgcmVmPTMgZGVibG9jaz0xOjA6MCBhbmFseXNlPTB4MzoweDExMyBtZT1oZXggc3VibWU9NyBwc3k9MSBwc3lfcmQ9MS4wMDowLjAwIG1peGVkX3JlZj0xIG1lX3JhbmdlPTE2IGNocm9tYV9tZT0xIHRyZWxsaXM9MSA4eDhkY3Q9MSBjcW09MCBkZWFkem9uZT0yMSwxMSBmYXN0X3Bza2lwPTEgY2hyb21hX3FwX29mZnNldD0tMiB0aHJlYWRzPTMgbG9va2FoZWFkX3RocmVhZHM9MSBzbGljZWRfdGhyZWFkcz0wIG5yPTAgZGVjaW1hdGU9MSBpbnRlcmxhY2VkPTAgYmx1cmF5X2NvbXBhdD0wIGNvbnN0cmFpbmVkX2ludHJhPTAgYmZyYW1lcz0zIGJfcHlyYW1pZD0yIGJfYWRhcHQ9MSBiX2JpYXM9MCBkaXJlY3Q9MSB3ZWlnaHRiPTEgb3Blbl9nb3A9MCB3ZWlnaHRwPTIga2V5aW50PTI1MCBrZXlpbnRfbWluPTI1IHNjZW5lY3V0PTQwIGludHJhX3JlZnJlc2g9MCByY19sb29rYWhlYWQ9NDAgcmM9Y3JmIG1idHJlZT0xIGNyZj0yMy4wIHFjb21wPTAuNjAgcXBtaW49MCBxcG1heD02OSBxcHN0ZXA9NCBpcF9yYXRpbz0xLjQwIGFxPTE6MS4wMACAAAAGD2WIhAA3//728P4FNlYEUJcRzeidMx+/Fbi6NDe90qvEZseDHz6KHbzUtYrbtAAnNmzPzSzPBa58RL5fBJ+PepSMRXRfb+RFyw8XAX8TW+XnIiVx3oSJCWGPErI+Csa9OfhWT9BEGFgvzdglPaZHJYP7+snTumUdFxOMD6cnjrc7nnZNniu9o+EoSowhbZzOuetWLmCG+qYV2DkY8JHH/dz0qdBP7r73r9vLuK0f8enlb4ZEbyxTW2+3l0J3zEClxjELJ9d+m9fQyRgIt43T5ESPOW1zG8rnGnQyYAAAAwABRMIuGk9LJMifrr/XO0E/aAACZgt1XCGVFBFaHMI4PYbw5RukOLoXSL4SLNEncLyRM/t6gNLbnjKtzPp0AWlAJQpVNAQkjIYNxVNjk/O2UtKd1qKd74ZdKDjZKEeqE1auT3Vqwnw7vVSSLKGY5m2VTumHBYPuhHE02ACEEv8FHBeAzF9MYzGn/gjDsCLetGVRMncCAukUnK9EZ9NnVLsHfCdcQBtyw+JPFZzfQawPgaQ8z5JzdEZb+Lqe9rRRraqjghXW23pqRlBLhZCUJtVVWNpXrz+skSZEupONTjSFC+LTjIXdY+sFQ7MtXW7ZBsnSK6mU9tQ/0Zr2OD76zoJ+UXlNYaIVUFcjJ3ycBqlr+/F5NObJz54EmHaoxkVyqDks13qLmaQXOtdcbypnJpu9h8NN6jvsXCE0k6gKP1AbwNKKjSyt3uzMUj+Tu1QtcPvaXMwLzFQ//IkfRLG/LlWLjliyP+YzWgzpiJTCc1G8IGc6kSt3yrpOJ1k+XTOGbCHm6rnnQ84SdeSbT2mqeC1SgUDCKnvCDpEEZ+jPLsNj8tXTSY6Qjim9mpiFaR8xfHTJj66o+3nqxU969zJ6E+qg2OwDtyFkEU+YyMCg9TwoehiO0dFrSdxKT6BBhcoi8kaEQuu2BD4DP/CQjmm54rdRygdwQiiyYQlDqt8gFrbcn1mPaGh4rPWFTW8r3THq7FMLVSAKOZIKck0HLOoPwabKOolQbf6ZzfFR6TxodsAvPAuiDuNTjOlBiQLL0W2ceuvPke+6Dam/2PdLooepaQSvlecFXLDu1nfvzmt+RTI0+dVANJ5RXolzOhetQvhPLuKBJjGccJWa1vTKmVMBsqzX6SwA2A6/7c96v14V+6mm8ZspzY9WsnS9qMzDrEjFV8rDU0u6aFFiF8imVbAeVq2Ygh0rzIN3SF/DIfd4DU/WF/3yqU3/PfIygGcAVzAf3hi/XOc84ALxXoIkrrecyK1O3cMCJw1Snui/MqjJ0Fs0AHAF462cEx9ujHTW/EdpGZVgBjshDFlnX7kn2N2jFJxxfOQmUqSUtsrNfr++NfDp5AyvI6AF3bzg2pCXMbSly/kTaPr2g2s7ts13LGgXcsaJrJVeuwQ/KzoNEwqHrvlUxfuIiis3JSW/bEWfrGin2BGzM9oRNm40QyLpiKtyH+Kq2M99SZMDDWEqixLfrSdtlYBxm/tF4eRVu9398axr4vzbEzf8sVmaLuZ2qOkYANvk1tX/rTKe76hkL1XmaX3D/GHrRvKmAxzMuPA5n1Vb4++C6wtMLc6eynrx22CFgAKdS+fsKnNGbKVcXgx3b8Pap9EYRklAfnHVxnzddVQUetV806LpRWOHu0UKcqfD3VUAWx2RR25Jq5B7xpjb2X11sVo741HUyRgsirylMKwpIN4GxPXvVnAUAijN8VRbS5wTq8jfBghozqOQSu6L4GH6uHeRf1lxM891eD9ImqbPzCjLc4PFMQYPuSFfomJLyh7s7jhEtYzc//5HaM7wHCzP2LhydoJ6+SwkmXbWfqcqRjbVR3My4ApRGATQIDyuev7aFQsYLXR3u02CrLkfeRfOGD6C7NT1I7DVtOHVM7MaRmlEw+I3KQ/HA6lWvWwrMvNlc5aDI7pwlx08CiQNwS3D4JoaJkMsNHx3LgeI0XERcd9x9wJH6cnuBXYyK5ezThsr+0YIT7xUPQUfcx48c80pNhl9MiP/+zgh1PysoW7YsNHZm2aXiyfXRN2/yc4TKycB1o0ygAAAAwAAAwAAAwBbwQAAAQJBmiRsQ3/+p49wn+6GK+hjKAD+gHsAG0wegNAUnklm4Vww2qBR52SkkodjtB3mgd6Sb4QdZ+wnIXs4fk5IA4QypI069OONiD5UBCpKVV7gz3mukfEB2RN/T6FKrTSjEjiec2D4T+Xbz0zUKNvzB2TRSjS/uzsrxINFnI5sD1UT+0NZvkeJ9S7eckFnbPHZk7O+0guIQ7h8Zga3Sp5QEp+Hxte6T5Msq2fkZ8a1bUKVGqDE36+c1Zv0uuwOPiG+T59erfkcocjrVnN6xfNrfQggFvfBAtbMeMN+X1Z8aaS4pMIAN+v4CpOJyHeBWP0zDskFx0ls1raML1grUxmjWtnYakAAAAA2QZ5CeIV/C+q3bbIBlCi4X4/TQ95DZs58U3yx2jUioAAM3YpSgtFlJhfv4AYA2cJqCHiU8sKDAAAAQAGeYXRCfw3doiqEWDNFMDevMkAJPlOptmMRW4loe+hwycDrU4dDV7UbM3U0d/IjPgAlHbKU5+x5uU09MAL8YoIAAAAwAZ5jakJ/DE3OcGcUAC6f7LARfdK4taQbZ+r7UHcPHUIAAEOBX1DgLCe0zeNaD1NxAAAAokGaaEmoQWiZTAhv//6nio+Z6LXSAIUZ0vn9HqAAjp+/418oYZEfd63BoZfqaUfGPYksYepsFZBJsK1uD6KfmB2rJxjK0t6CPVSkuiRc7v5z8qqA2U4oXh5SD6QAAAMAZR++7WpVO8q9cRm2jZMO1X70BfbpWFOTkOQmIzqEAXszIdDDpPrnZFcBx0qme7JYbGEU10PTgP90xvILMrnTemnjCQAAAE9BnoZFESwr/wqSmAAb/+bV3V0cyACyD3LPsLiSAwKawpISqtkMfpSFUaosFPQaDgAGE9aMDwoi7QIOBoxKuwFVSMQHZZ5vWrfQLLKxAC7hAAAAMwGepXRCfwx8ZK9eonNYAWRp7dVrhv0uxUY+b5hHUADZtU4pgZAOi7J5MoAADGF1P+IMqQAAAC4BnqdqQn8MenI8n4VH+q0n3k56S9SgTXxhlNoOAAYNj541LmAePQDDcf/OwN6AAAAAkkGarEmoQWyZTAhv//6ni26f8ub/HuAATTl43ngxz/nVeszu8u2VGYEU6Jc4vFSSnUUiQ6Qfk6ptzPF78wqODR61cdYAAAMABmMf3bVMtrTMbKgY7ARB20Do9daVDbjUGYCXEgPJRFslhAZgo3lZVKKQF8UGdeACiHjOeKN40RDmPfsmtiQb+Xor4tzQfVnl6A6oAAAARkGeykUVLCv/CfPovJfWFBa1xcWwHN+vCfRdLcH1hostu8VszV5Ax4X2k/WABdCAtxHXKZ1Qrau8DsQuQAN2MLBYrQegGfEAAAA5AZ7pdEJ/DGBkV7PUgAkgZ4hCXMKjwU+uc5ZIw+yyV/VDUXdbJJuTN4OVugAeoky4qsyHsQQ4UNlQAAAALAGe62pCfwx/RM/rvh1gBY1PKL2h2H7UBujN1ss/WAAn0vhVu0fvwG/vpQ+YAAAAhkGa8EmoQWyZTAhv//6niGCR5/uEAGrYDydBzSiqVNWN9PqpfAThLZbqBtzlF7DXNmwH0/gxmJICul+/79ws6hniyFq3KhLfZolOMFWoVPaYWmLtFRsvzCatQmJwD85Ps+agU4m0D4h275iZEV4vaTu7OOQvoyxV0poZvqC6SGgWj2ySXtKBAAAAN0GfDkUVLCv/Cp6By7F5TBTkgA35UF2tkHakYrc4pUnkTM0HAAMjcSolL/zagDD+w83u4k34PmEAAAAoAZ8tdEJ/DGdH7PQiyoaWfpZ1Hm31iOoAG/S0XrK0kZuqnIdje80x3QAAAEQBny9qQn8Mf0bRN9AASuXJ8X7uu1/0873Xtd9wmjkdEQwaABZ2enZ43PRc3Mj5QO/FmGMgOAAJ9+Bt6q7VaCdrA1ApoAAAALNBmzRJqEFsmUwIb//+p4jX5zJm7ryDJbvQFSZW/e6ADVrUkaxlXnjO/7HTReXjNuBnn94z430EjMes0GajgQQUr/PUll8/HP54SolI9oo6eEz3fPZ5++dtOfD/jC/9fQ0Y9Y1kxFjjCqa9Pa32VQnSmGpaOmcVn3BevQoSauURVkYazhg6FfOG4zOvy74AAA9/co/271TLkYlYAYYk98+n7mxU8Pmcw+sbtFvQc146d0ACXgAAAFFBn1JFFSwr/wqegnrLdeSAIZj26L/fBUGSVX87CL0QZjehKsSWXmuX0h7prjub185ORpMQHRbyurZ1c0zuVqJnmfAAlJ32FBOH6EFrpb50JOEAAAAnAZ9xdEJ/DGdHZBVu9vlBwnARQwvwK1F8CBG8gOAAJ8SFI+WZ0OfcAAAAIwGfc2pCfwx/RvEPnDX5mzzdPRxkomAB0o/mTvRPhZSdjAccAAAAx0GbeEmoQWyZTAhv//6niNcXWRxi2IqtSki4GqijepJuQM1sayuah35B/AmKHRfXn8huKbF9SRsRkl6i9j2q6iuhOa8TVFpTL12ZdzLFB+AXcjIbpZlUnFnTcyvMSgNBuflZ7QRlZGvJ6WdhaALCFljgaTiX45F8jX4rwAT0mm0sH6xF9gQKbL2wv6kkGAQZpBenPlG7bUsxGnawz/aIROL/2IkC4PqKt6QdIb6b6deVB+UUSKkgBRRcyhrwPxN0Y0jF/BJ1bE0AAABgQZ+WRRUsK/8KnoKvqDBCa2smEDSkbQXOg0ALddLN91X1v3baVncMo0PgtZqOgghu7uYmX6t3rUIfsITBR08fSxREgYJGJmFmZCpI58KbhA0dQAID9948Q7jVTC4fIh0wAAAAPwGftXRCfwxnXsVs8p6v5tpXKj8AE3DaGBCoCAh9l+GydwJQtUv25mxfMrM0eHUgBPdmDs7l9TuwZ6XqesLIuQAAADwBn7dqQn8Mf0flphKYHYeNvWbMa3N47s8DvxuSVC2qoUrOqZ6csIZSxCKV4loAHQIp3/YSc3+Ih46b+OEAAAClQZu6SahBbJlMFEw3//6nhv0oY3QtHZEhIASjwmr/Ohbuf3+62Ppt7b/cTa/8iCK69R5RKU/6lKFveOXPb+0MR4k1tgXGeC+qVVaoXXywTwZEC75a23pLilPlv4XAABuqb8IUndL80+QqWtkmHsaaSPax4pglGP6Y6ZsmAcfavCxozh+c0l3Nve+7WoXJEYFJ788sIsZd38EBWqP3gDegRpWXDRtgAAAAQAGf2WpCfwyISTzMyRXb4ATV59JHATEPgkZZ7HpY6qeJMZUSwo18AevW7L9jRPtLQf625bwQAOLAWNd+AlZGAb0AAACdQZvcSeEKUmUwUsN//qeHC+hq6xqW7zIAE5/UNrwKtLaoVw2GHEbbG98UqiSPaw8aaF0Kq5Sp2I9wCLFdojHe63mc7sXfQiZSI0Bb8KYCAaGTzWnxyXYAAAMAHK668J/BTZvTfNwghP0I925XIxFbI9cTKnL2APkysz2VU+JP33a1EdLYtnNMyTisua77fuM0Owm9qkcMmly4ytVCJgAAAEABn/tqQn8KMzQqmjOWETN268AE2m/Yl6KpBZkao26KPRc2L6zRs4qaT+Wm2EhrRKPOb8wrAAWKWfXF1vdwYJOBAAABH0Gb4EnhDomUwIb//qeHVCf71rkYfis6N8AfRDxFm/7Z7Zk7mK7CKnAJ9o/rvZtAvRVK5PYtKL59z+alCEOI0S9FcG3WczdFeVuWWN9Lgi7VOEeDlDU2It0DZv1ay7vIUOeIa1ByOWzJhSnigGDg3RfCa9oMgT5a7booANLZS34xGef7tGmtL9rEB8GIn81LQ1ueeBSdzhhyxVr02mYXKSz9SwPc3oYv6M3Go3GQ0q/GcUfMAVsR5GkgnKUXGkhnZpOPEk75l/OPu/e921OAfsVvFC2CvaWchHfeP0IWx7AIu6PylnE57SMO+4KCb+ku1cjKvA8rtESajltTJozq3054/u4juV3husocortVTFGGYZd8wDoDY99AirRWkC0hAAAAR0GeHkUVPCv/CIz+0X2TnFKnakGxYgtd2KgCG0nJZY1wB0zCcxco6Kx77ztvvFR+kzgyuQNCi8yuVZwAdlZxSbba/wACY4K+AAAANQGePXRCfwomh6Ka7QWMW8Y8GgBGgUFy4ApW3fKMc3IlT6TK3DgKq2JJwxNKyzxxAAADAPWAAAAAYgGeP2pCfwkyiUDa0Pg08ovstABanyLLWO6aAk4C/jlISYS5M4msdfa10U+x3zeVxWRdVnifJTABnXbT7fRL1ZqiTliJCHXZdHcoLufT3ben91M3FUhnuEVATx5AAHTMGoeBAAAByUGaJEmoQWiZTAhv//6niGdEhABDej3FsS7AyefePUvKtZ8xTmCxruCf5+fwQo63MwNOZyc1REAi+jUxsmx1arStdovG0gzQfhVT/6AJc+8gNbK7JNyAzWCtL84fmfswgZccOxM8JzInG+yIPdfaz1ES3LOzWyVLoXrYNZ+Ggk8doF0iJBogAAajBaPDl4DcDPeBYU5LGyZmhvG+2UkAIA24Kes4jwF8pFqmxsYJN9nb5IxUhzSwNt/m+RaZTuKGoyBqDrfKXgG13a0NnUCDYHZdjDfCZImfU8VzQi1/6XA0bcSydHlBRFS7r7bCTaDyZZPDXbwG6QPzbLTCORmrw5I0MlShnKQz90KjMgVOByGi8kAe+r6f2Uo0t4gExVzPiX5GU/RNbb7PbLfeFV+xTkNthvQLX8Cvez9Bp5l7g+whE8giK9WwwKnOcGmNzVic21iuT7v48C2PFzNiZb+YLQE8gebRf59OVgxI6Bg5YxHeualOppNqNCjNYzVlAt6w5ZqeSAzrcgvkNjI7KZjoUrKJUB9yWG3CisU/YKgr4sdiAi/v6VBQ31tH7LJaqRL2ka1jLn6KExwz/+9zxdgCFzWC9gY7UMJAnYAAAADqQZ5CRREsK/8JfGVmiRIVYAAljn7Mm16v/+F2J16pRMZpW2kSrubVIEk2IMgB8Z1stZeWVK+pS+TSzF+7ONp0RRuOhwTWO9wzRvz1pE7aWiD4ybU6WV5+HEk1xOWTfpjllMV/P5eYC+HSNRxTocYDtA0NVb73F0UMuj5efuufBGusT8R7kLMOSL2lFY2ofest4sw78OIARH4rCSuUd2p5GD/eRG34ePLOnAvfvBJE2ELFZEJovo67wK7bvzwAWJoAwkMy1IQXmfUJe8ma3Kiqqc3wWwIVs4WkMznQ0QEheHcWZSSAQkxUACZhAAAAXgGeYXRCfwk/aY37cJjdTLP1J8MeyeXowfvlIAPZCZ6Jo9Y+PeI2zTyeDh+A8LjHe8truJnRGtMphWEJscAhTy+1FXFChafKUsIndmmDN4sEuZPJgGvCWYKAlcj3DAgAAACfAZ5jakJ/Cz8kU2wj+vGpgBu0ohCPNkgjF8f3ZIywXfzKShKxE3/KK9V35l27M0sNjvwDehml5t86R1XuOToLi5WtiOqASVc5dE/cRSWTZlcNfl9CDOTXmjrUVEiLRPRVLtCRm2GkDl1w5BJAaMRn7phlZPR7otZ5kv7h4r6af94Os77lqx7WzSr/QjXPKZCHkt93iB5vpdABGQqakB8xAAABM0GaZUmoQWyZTAhv//6ni2vPychZ+OQATkiAHMh/PxC5xsMFKqaqmck//6g4y+mktNn5r61qU3WEx/54ccqXlmP2Sp0zkAADPen7oeT9kUr3bOyD80hDlsYZpB7A0SreDqSK7tDLDexpYfRZEmGNwyfZcD7pXeWpzrLPc6GA2FDO+mT/pZr5vH7HbU9JWILmSKwNQ0zMuUMPg4FJ83IF+J9z/lVLeYYFpVkVo0oqcEV44pKQpMfq8IJrfZb4MYGatDQ61G72FGoQeaz5FQ9czAXzi3yBzb36u24y+ZifdpcnsW482gBIH3ZAU4Cn8c7Z3t5oS8An9q2nFkbsf2Sk49MnFioOKqZuWwBucLADohdcHFovbXyd0nLKmG/5Uq7Trqygsr3/uqPgLcijACCz0TuYD5kAAAGgQZqJSeEKUmUwIb/+p4qeDzJicwip7H3wPY0SoRnKc68Dh4hov4986iZ+kwyJ2/6xQLxpbDcU6vbE7pQrfH9PcQAAAwEHpY9FnCRS9/0uSkraCqv1BmbE2zPTY9LHDwWX9HQMRvJXPvOaGYpsfa+GYE2LhcnmrrE/2J5aRvxIosirURk0Ro1eiA+Qwm34iLsysUjgWX+TZmM/AR9Bj6bouSDXdItwrD0BDz0j7ttREsQXLd152spxzm7wYxNXEIf/2xHAYjwk2Nrp/uwUj5uBTDkMqiQFYzHTVK/XDw93P3E/X8vEnRfHmWK3qZVbgujHuh+TCwZ+/yWH1ocOkE6fGnSjPkF9sf4vZxN8oYmgHLh65webNppITdz67UGzpDnQoNganh53b6qTLtdmWfCB2M4+0ISJZ3vW9Xe+eTyM3uCXkowa5Zb2+tZh2Vi+qxbQ7bA3gXQDdt0WQSigOqh6UBqEu2TDZMtGR1ksM1GJqzpeKjFdxQmq1qY3ZAo+OhPcXSWzg6MBi5E6du8gOZK4PQcr5t5wd5f9GQSmYwfgRMEAAADXQZ6nRTRMK/8NrqKACUlra45Dyio2Z89naDgeTma28/wPnHiyTMLpb6nhAWKDi+0zTNSoHBmUd4xKmSDnNM4smrwrUPd4unu2DtUC0CcvjHJxR50usV/w76BTlvELFdo3SiV8ibglqYF/EiEnQUP8/XS65AsbRolVEt1QMFNXpa53yHsDhaekWrfvEudnTqUeqShOHLFAkyNG3S2/vvxXHnt8xmbK3C6KMwRn4ahDDoRcQUEEnT0A3CqH4zU5mMeIm6CqiFShPTqlZPVDEB0jLu1wwcAABN0AAACMAZ7GdEJ/D6M5oYQAsDXyr2XVbbR5nUTa79bJx5w74LglkS8sBWcg65CfpC5gYBqGCWaxpvSDXaL/pFqonYO9OIMJsa/pvUsSKPtk89EbDEjeT0+aPxzDv3d+xJ1vNUbkDPjGszRY9Pz7S65Ki90XWYiZGHu+BE92IGEkxfA5kYh9i49v6H1eugAAsoAAAACtAZ7IakJ/D4jENFKALG3MYgRx/mK5B6tO+l0sK0Gb1kt9VxwbESi+AFoqniRX8rj+tCgfUagG2xds8srHZd0ltiAvt2GnT9DDi5u9uTsFue0FujjTFiIxcjpXaue+tFWhgU6q/ax4hWUgwX4Jribvf1MqRx9k0XHK2EAwPLIUVfvgf6PWMpyWZ0/hVNdHbn7Y3Cqmq+kZXjpXOqKa74azxKksNzzmozF6AdZuKPgAAAElQZrNSahBaJlMCG///qeFomX+kWd30oQDJ6GesJZUy+BaUxJKgAqlAEdcOnp830sCCPD47mpD7OI9H41o2UFx7tt01WaIXhEzU9VBJDUrzwqDulIvNP8IQfrY+a4i0SPtkoNjnRkGauX7bSNU95IjEUbASVsTYeW5fYCYqHR5aX5kPOj1XlfIFG9PaBxeHuOhN4+882y8MIAYl1ezgRgQQ8oW5zvsG/FZ3k+sTHf5JLibXufvZRY0TpsS8grkv83uaeEVWg/WaIBYoCO8b+m0e0qdBcB9Ic3CZXk4p797d6/Oh1Z7nqwjTms230SeCG3P8zsTMo6q6pVSJpv2UUamgGpTHLVmT3qhzD0tSNtMEqqPpez4VjrMVT8XFSmHqa1+tnWAK+EAAADMQZ7rRREsK/8HFdAF+t8EZAIVZ6eV/4dJpxNbV2NOxBllbIRpqPpFzLJQrg/AueTYm85HGyOgwcXEsrJ2mJis4hKe24YvOsiwdcYKgy/6PtZV+QpqS3/++g0G2Q+VmWVwyPHQSau5urzTZWsZaoqNeqXO1IuR1SjnWmk4yXsdaxlmL8O7yuxDlqpSkqL3x9F5r4bgeW38bDJqn731xyUnYUHOI6Ojmi6mcDt/a6y11m6Cj/j/X6OFS9hxANE+umJUXMzElG17EAAAAwKuAAAAnQGfCnRCfwh2HgFiAif3CasX35NADWY5soflie7SvCYbPkgBtRL/BSZhd8zOl3tT94Z+91y7rInBq+B4IU1/uutm2/w3UxVAuB3+eW1+2zH/bCnTE96z9uD2YuxgJ19Z3row3xzRScsJ9mht865vedo6PnfRZfw7MoKzZOcLATxkDYNj2Aaw9WFCW35ge9SJlJWChwRKNl57pYoAQ8AAAACvAZ8MakJ/Bui3+S2LwrFzY4VNu8Bzpxg7NT4OACuFs6zjKESJiZEQOVv0bRJkKGQCg62A8qS5Shzi0UNKVN23aSyMetriCAiP+eQbU9XQ6DVorFFKyEh+KnDCbKoNvysddp3r6PP7RTTXuJeDpfyZFEGn/yXAOVP5XhkuWI7Otj0gH9Y+XANPRq3cYf9JngM59AQ4wwaYzojpkZBj8bJoytt1eA/aHJSBetxF83QC4wAAAVJBmxFJqEFsmUwIb//+p4UXS+ZL+QgVCBbRIyf9kXdtiPW7DZroBzKSaA0C5Og0JOwKDohqJB54GYLizSoufV2jooU/8pgsXTEOdcHl4SX2IBp2Vq+AB4EwYkx11jSdflpBWt3Fv3fomViffSueyOUHfwS0gURvVfC2HNVdwazeX8+KBRxeCKj8Ppnp/FfquFjSBgVTWDGOsKXZjCXPyyaW10yLTyBVAjBy4gUnnaH3PTX6d3UxTFEydiO6F3cZxajBQTq3gD4qltikFniiRi2uW8/525qpfYegnmS8jqpvI+WCmfCPM5MzoAEgDK+/I3XdTHt2hI3jq6FdLvhkIOF+s27m/3+rTGafYWothL5KqR+gqQExJ19N2ISOmJVo3Y7XMSsPxIj9zduD/eCOA168dPr826XPJW3EuM87m6IF33eNyxIrUR46VnaVsaYUrfgDuwAAAKJBny9FFSwr/wZzr+hcltGjgy9bcAPp1CM9au5kxBDBH448FzlR0AASeT9VehhidLn1lEWXuUVGi+ertvc0WZY6OYFO9ruSJSeoAbXAump+QrmOGoTSYd9HW7WM8uWMMmFzkHo+77dh79l6QW1kIvu0b3coorY50bkszOJykZu40ca8qL5EAg0P2hSdo0++IFOeyx3XwglOpYqOo7ucgc+ADukAAACRAZ9OdEJ/Byru8/GsIFztMeKGBjqADdac89NC26vPXGUBx0cUU9d3A2HBc6AM9gsXEQwlNnzPlbtZ8OMIQE8APVdq8u9rwJNaZ7cnLLR6wTYdpGlDr38nUNYXng2zbFT0pkVcYJ/IfB7BRlf4bzIZb67ifd4SIv434JTkfwv4VmRDIY52rtnDVEp9bQ4UUQCmgAAAAKUBn1BqQn8BuJE07jSD0rSzmEglGJgZwDO5o2ChVfvL1wAmrx701kO+/xzNwfktAef4OlIMdpYezHSOcHNS7JVwyO5MUjJe8+f1SoOlv/hqW0st529R2Zgr3jov9T9aHlV8lurZZNIcmh3Y8CWsaH41hHaE4rr1TSlmYJjwm5zYFHUHiqdG3i1w83VDkdU65voOjJR8W3S/HySHwAgFJezAcXAAz4AAAAEwQZtVSahBbJlMCG///qeEAdvCeZLD6uOHUn7ku6jvj98B1VuaEXB0U4e4Kupr7PvNmhwgwVxRR36ULL+pX0KQKL06xmqxdBabHKCF+iMm6MSPyN+75za1Z4M1yWPIPYUGzp1e5jaXdp8kB5iPqO8DRxCG2Io7sbxeFrHO/YhzQDyjynYFH5ifFg6pqNO2RLsl0RDxVX0+rUguKM5hziU2rYNFSGvBXFBoLGuT+HAe/VaxX8LoAk/ySWNwesufcDPM9is8nivUDrm7LjevB4me0w3KejvR1MadS00FhRBgcjhDjMB2z3DfWECBkzwMkmOzXLICRBtAlqwlhzVftRZr0zEGRPtGChBXyOec3fiUvekOM3NzibqGVC/Vpw6Q15keWWV2QHEkoPi9JGsBc6AxYQAAANpBn3NFFSwr/wFs5QMqwr8Ik0oXwoTNO7JyYkwaJcGlc4Cbebrg6MBORog7PUYjHYNZCwSHGImxDXTgXeBzY4eCAZRl15EGN6oXaod4cFf2k4weove+li6F62BAE2/wppzQDHJSqANJWVpLpSvEhIRQb1WqJJVBEapmiRzrHFLlnx26L4TYLNwe7imN3bKtR1jAdEI/NtjuaeVdUQCllU2Wdd2GbwH6HLnQKbY4BcaVlQEGJmcxZjo5sqbHrkUZyrST9uCBvy0AjgclqHezCVBYFpGGf3gh2UAV8AAAAMABn5J0Qn8Bt/KO+K8cFA2J/RsNpiNFbgAWiptRALTb5MZYg2j4k9lC9ou1HJ0IgBpL4R9ykH3LIdctb+6PYGy282E5lbGbBYk6v19hNRNqlkXaEVx+OeaqpQdDDhFKMTpyuv+BXaNLQfrJPUgKOwCoDUCjUkrauWEVgb6fYuwjyftMEeaPxuUjpN6kCAQUN0YgJp62DV2WXV0pon6b293iZC1TWlWyv9YCLufrdowWNs8iSnPBYzWvYlwDk1LgB6QAAADCAZ+UakJ/Aa4S6rtm5YbZrYBACHP0qrZm4bl2F6neHD0yaLExHO/068LSo3+QAN7nDbfWJ4Z0GV+1HzNdZHrqZocIFSV2Zx3XO4A2CXWwBKYZcIfPECjuock+/Z15VBUPBv1ppZHFVH3+nbdV5ysAlzeLiZhRTxZAnQW9XHJQh+qxl2dKh1zdub/y+9KN1TjVOKVgTQ70tg1Fulk1BW8ZhZyinGQtdrpDzm626wbV8QD0BIbA/b4nYH2VUko90M4aAZUAAADFQZuZSahBbJlMCG///qeEAbLMu0c3tl+k9CvKc3ca5dAE8gq7TTE5r71TB1LEoXzJK/qAPADSoYFyof9vCtwZ/ywdpgc4nebWfjf0WiJIZDmDj5p4+ngGOByRfP9fiUojQ3KFj12qS1nPiejuxhnWHTchw0oF7j/S/9C8H3/T8P1AFPd7U4OvHGBf7gSeRu6kUHEhRUfIVhbvc5jbjiETbJilsomLNAn8D/BVbnJA7XP89PgFAm0ShsFPQdTIlGbp7TQAPWAAAAC+QZ+3RRUsK/8BbOT5GIcHubYFLAKo4c4NEQu8ggCCRbWjKAFo8NspX9Xj+lonrZAQb/7Kh8Jb7Hmd/88PhDM1xVk+XfLXO3QjUPjo/6MyqB4V+qXJALIUh9vY/r/6KR7Z+uqeJC/r6XXgkS5bXoyHrgXJuP6WZhfgj/zcU8P4aFknwMghoyKSBNpMdIL9PjwWIrXaROu69WubvmrwiI14ZEBQNsg2RCTeQkn7LO85M1LE2nZ5vpQJvTgkAAAS8QAAALsBn9Z0Qn8Bo/J88anWukbOCGCBHDB3B5FuwARD/5/UmfJ3w6mPNjr9va5tApRc3IFFb7AvdsNjuqN+Vk6QBlsGzMH9xD8Y/qO/yGfYEDLmXxTjJXUntmp8dO6V81DPnHkrKiLNdGdznIfDAL7XEhfUoSc51vTSJG3JRduwVWavyGbD8+QaUxD4Bqs09Vxt1d+lVmD3GBPBv+LiyVh9sJOZ6cMuhSc/CZFjN/M36aIEzfYJ4yjR7ot/gAtpAAAArAGf2GpCfwDECy0vuhFC6ssObngYqgGN2+lQkFfSDBQKqdoOrNSNrdbf4gzinqh74rZmGKxu3ZkGthV76foiHIGqTuXUHpuv+MTYcU6cmZF2mIgj9OHBc72BnxDLdj2HVdwrncKIqE6o2gLNPe+1micS/W9uaRwm7TCM8djQXidpFWjwSCAkii/aoaObozj6YUIscKx5tYmJuVg7WzZJ3rIfClTNNHgJzOsAE3AAAAERQZvdSahBbJlMCG///qeEAJqOfGSWSAzdB6OveF1q1CIEqdxOTv74ZKJqy900IY5PWQGxtW5F/PQqZoNF9MEGp+uNHgo7CO2MK3vG0Iq7YlLMaiOUI4IZk0upg0ynt+Vt/PjgpVI6zV4u/RTLo5cyOYAOK7DYdzxP76inPo8lyMHrZVZIvNtgIG17ztq9Y0aGJ6LLtqrR3CKoDxb2bq68KyVCR16majp5Haf8S/9zC4XeeN5/PoxT59/50oFpVQ/Ps9n3SGBqLmPT3m0l9HnG0J6ZKyRgl1Sg62Z4QxWd9aitDw9dgob8d/365EbPZ001h04YFeaNBNDwGDNFrkzI6kkdenrTgTtkh074IoQ8AEPBAAAA0kGf+0UVLCv/AWzkzHCs1QpMi8AK1Ygeu39fI8A+TiKusXR6cSLA86ANxiH69TGXdZg00AEGxoNQabjKVfButXhoIdj3snySCM0f2uTXJ4Y5ECJSDRGqpKswXsypLfPCGg46x4IdIuTsPbrJFdBQVQUbQvcGc7Vyj3m7ptjuWF+ci6beSFDq4NhDn+oVhqgyiYZqKLonrfVPg+ga1C3pX9whr4OVEUxdHOSmA6PSMdgFC6KctC+5+fWjKFWQrcDXKrfrl+m2g+Jn6ppX+WAoQAAfMAAAAL0Bnhp0Qn8Ao8PS97JE710UhxHj3UicRKfnA6AAmsPM9IMlRB88WwCoDAs7wa4W7rzRnI+brw/e87+luFIJ41tAgKWaQDEvYt/Yal7lCFms8IX7tRPx2MTM/zO3n4ys6Aifve0k96lLPJ6iiVkR9pFuN0PvqDRw2Xsr5nv/oUQDl3/8DFLoF5A/fPRX+110J/Ik74lpRtNfUncV9bJJYIBgIdyIoHjIOWd3CEeSHh+ewRJ4ZdzyCalzoekAR8EAAADBAZ4cakJ/AKM345mcSNLH5k6si4y2CH9UQD4rweF0UXOGOe7X086QDQgATV29hN7C7+qgbRyB1mF39py9l+gpT8Z64ljxGef3zM4STDzEEspmRvfYXxdqjLBYHkpg5d4Nj5cJ7p0LTW3G2YThChxcEOAuVtL+e5wrP32l6SOSJ0hj+HFASahumMvsVqK4Hns+4XvtL62eQyRXXjx8yyVRs7jYZmZdeC+qGIbys+ru/IbrnJjPTlRDMVjXESccNIAUUQAAAShBmgFJqEFsmUwIb//+p4QAm3Te04jyGwp//nLiUJmesqAE6VgQ+n8ooscmO/UZJg74KuN9juRdbgzF0hjxdMhsUi6fiKK28yepIEc38134I9Gji5PvLK6TY2r3qDeiU+sPtkpE667D+yu1ayUoi3FI+FlsenxMv1/aOeNHO6lxPG5TzyUGGiIBOFHz5YLoRADEKuignmVQlcTdkm7+LoyQZrT9sZMB8anGvY4frVZYYZE5rLjYcBX7NS53G6k2XZOKid1D2psSpP83LJYqn0Yb5vBUp7XQ4kGXFObd8UshCBD8SjsEo3AbVlTFiamiirLNo8z4DGj1YzlcQGZ4iL8rUIpt3UnSzKcU75a9+ZWfj6fFSjB9J6yIHZylxmS4NytogH8FMYABZwAAALlBnj9FFSwr/wFs5Mx9luRGPGW1JIAcbcCAQXKFfHcSc3cpXL/bXzCaEmIlK0RhkhMZLhYk5VTE2SaPG9tvLpy+dbjo2iv7zPuaR/klMpSWr8uZ8u7syMKMDC9GDUBfLyikMWWFrkKDMwX5LAlL99r1E/rliyw+qzHWwM5RoRrTac2E0PYFVQJCSiYLquf/vZTnjCi2+nZ3S5jMbzFpIzQcJIvBkMFz9VirxqnLXyDcnZIP4ac8lAAW0AAAAL8Bnl50Qn8Ao6K1n8MZykcAn75/CIAONw3d/W94zg4AdRcDmwigbMPFaNyhqIkm4WgMb7fE0oIH8fpeeoKzNKtGt0t/YBPvll/YwmoE1J4vxB9Ry8lFNRLYSpLDd4kNmwbWYv1kpYVF+plhrFSONwZYvGt9btvlAaBbr4WO2PWIxNyG0nofBUF719h50CA/j+joeACgVJsYT0yfKWrrb7hEbccvKqpDaML4oBrwDMTkCotDqhFWymK7a15F6AChgQAAAIIBnkBqQn8AnTMR1/WD5hF28GPAEPcfJUc9AVhMlSxyb/cldRTyQbiq8S4OxAGBCvIiYXAu5ST1Yla5TUKX47CYcMR5C2gLExvrohKUSJNSl2P14R5QO7ij3E6eiRAYPUaHekjcQqcpM1audPisCiGFMfeew0vnaimfqNGWt2AGQAR8AAABaUGaRUmoQWyZTAhv//6nhACTdN7UVHZPsDqUfvAPAFXlGS8ou5jlyORfZOwmThtnGByrACe8a+N2NFuyX8ZSRTW4HURyAV4ekpIaFMdBqBRgUk8YiCeu47Q22I5uZaIOgxmBhr2sqaN1U3wVU/zhr52Zs5HBCdnZBu8R5RLAogmI+1+IjM+KdpjZG2jdNcPmlMs/28/7Nx6gzg77M5T+FZUklmtGVfgEo1gT9GWwPqu7D8NT6C0awDYHDWlbuGeRxmnEZpESNQN1znDeFgPTG4XKtJlMaHJeLaai+6hHM8eqqL+DRUFH/hSfSUT/9MIEpB7OOAvVCfCQ6MBwfgwyD+jTaqY2rTxr2HJ2AGGcHx66q9hFVEk5bDocbNFoWZAJf/m51gMKc+56bRxTw5CHDVEnSOEzzFeBXwGZz4XhXvFzSfdVW8Z2wccZA9/IsTJbrTQYDZOqQCGVbnDRW70gxSdvZ0Qj+jHOCRkAAAC+QZ5jRRUsK/8BbOTMMVlbx8yzcdTEVPusbAC6jjq0Ui5Ixx999go1N1R32q2TLnp6Y2vvntSRU9jKRWCr3J9GH/Sj0J+KF52ajvwKd7hEFiNE7V0Pixetd/5cuu+91pd1SKoqU4tJVgsi7AWpSgaCidH2jYQZdpaKvKoweCR8Ixr7gRGHDt/PIpQSEdOloF+uU2FmkLYWIG+A1KHt8wWozwPdwSbOpi6KI3Totrr6SW1K0xebOUB9eNPcAAAXsAAAALsBnoJ0Qn8AmteENjRtQByisHLvzDp9if3TpbBfu7+b1oCJZjLWsIaL1FTglQ1o4ypYuD3E8ncbEVbYXvqV7KuGSmFc4jijMdQNbSVDfupuRZ7+8df5igD/LQG0AHhSjC0gt0FXfIAJCYWs+GVNMRCXZz6QvmxGvDn7cfCgIoCHQtBlfvMIdZj7CmuT25BnlRIPYmlFpZ4Sar+fRhsQskQ40G2pTJRmUCBuDG8EZlrpBvMn/TOi4hiEKAcdAAAArgGehGpCfwCZJvkkHgmPSas4JwlkaZLveAnVf8//AAAbb7uC2X/aVZMW+cDc+ZdDsI9fKzllXxFK4M11h9s4CWdwSqgRuDzpJ3UNK89cD2aNxMJwpHmtheDiDf2jWT0A57uAccpiO5aKO2KHipcyyD7euZDAukjLjUiC4M1dJDWvjicLhNOYWrkSn71Z/b5cyk2RsaNwAJeVzRm43RWRPzy/IKyIBFU39YfdkPABnwAAAThBmolJqEFsmUwIb//+p4QAOeHl0lyAL/ZNYb+w9lIqe8HOqhbaCW8VE3eVdOBugnQDnduPSpxoRlCdTsfm0/iulZ1OPh96YPYK7Ulq3XTTC65NrEGA4NdVgal+m0CySbYj6o6z1cEdktMjyO9QAQbQNoYBQF8e1BAVemoLCOi+xXOh7SBrYlX7f36OssnPZoOzuXCY4lK09fkiiGlZMh2UfAaUESSemtWj6msT0WFB9ouyrEqDhp9RdS/gWaEfUGzIsL9p/Vn/960aHuQl3hw5gBbq2Rn7dpgNtv/8Z738sydJzyMuJParhchmqZI5eVgVk1EPSXbM3RWociP7pKMd88GpaezIH06xnp+7npr8XFP6V99d3g0OCS/4+08z9BmWmIIpEEyG1/HyYH7BT2JmzQVFArIQMWEAAADkQZ6nRRUsK/8BbOTJkGUgBQaKM8cNSrKoo8SNnDQodLGtkRzhHAAchbYe9xGt32tTeNrfkereHiNwMTlAbG5q9tFUQTO3y/GTzwMSrjV9D730nVlFabc2y3Mwdu6Rk2HKlqHHFoRUI3AtXWS/pVj+RJGtrynohPhf8m62REZTv4oONfBRdaslnUMhqAcIL6kDKQyNcUTev7fhDYaOnRtrLDOKsobURqiuPrBWmADd8qdu/WLPklhMdUXnnbXn7dJFGnxwEpEE1XwiTMti8pebLRH1OtXpGZezRUHmhDMqGyOxwFJBAAAAiwGexnRCfwA+MwJ3iz54FUzwz1I4aNRdEAQiMKgjOvvL5P2hY5VDnZGyCrIA6KRdpVfCbPYF42xyJG3Lgki5r796o1JRSaH7khE3rKeakvBE5iyvUSPgMjA9p4bRtU2OcZOTXPbNF+0PBGZSadobMLZjCJvU5fE/Fr0oNmWU5Lll5YDYnp8oLL8aEXAAAACpAZ7IakJ/AD5SiYAIwKwebOphTMa3ueCRzOcMqQB0v8+KK189weIAhL8P/CGfvxc/uMdJTEpT4w8t1hBG/iUzUKleKbc20tGjEzi1BIiBkJc9FPDg3WDtzWukKJwBp+dLf2EsYjqtY98klMa7A/PgZtIKL+LEYmSllUxkzWqozGGSrqE9hLnB8Sh1s+pZgRQftJg4uhwgaRT/7mZ4S7NlXOrEey4lULwN6AAAATNBms1JqEFsmUwIb//+p4QAOeGZSIlSeHhqPivo60mpR7PAWwAgj2JjQZ1Ef4KAORfCGBDwKDM0agUkKneuvBdc1Odgdj8tCfsOLvVuvzxzXw8w1QSsch818LCpgn3XR945dgyHCIzWZ894Cvl9jBzTGeoCZWGQ0GXzfGRx9vjAMYGw42TAdm9i9zIB2A0vrVqc57rorx4REkaAXqmfVvkv30zzLdWNuzOY9XV5iQ7703RGWvRve3T2WmsvORRGe7obE3K9RkrpUG1xqjIO0arQmKiAFpJcxCXtUbwRFFdM6gDEIRfeEffmkB5929G48CSz6gM9oycb7gNMNx+wyl7j91kpo+wcNnBODrM4PeDVYiiTnzdizw7ZwMeOz3YAXQS3gwDCx52gBTw68jwSss8LIF3BAAAA1UGe60UVLCv/AWzkyZq6u7WC2FJisawjGojs86j37oAiQam+aGTm7CP6wSB2HmGVMuupx3CXiT+HIORPIcVcFsO7EIN1rPIQMJ0RlTCeHgH26mXQjsddEUMcHYcx4Vi1IXIwioUSR2Ljf3cQ741HzKvtJks+c9NQKK77N+6POuV+eCIlhoGmWGTCgrBMR6OT0hNiQybCh/P4kq9gU24yE/Izvy8bfQOhRMJl+wo6eRvrhy7mX9Led2K1+6Hof/nZ6CyEtt2HCtWXMWnoO6/hcfQ4LGQ7oAAAAMwBnwp0Qn8APLcLdH2tEsK1oe2/eVwBB/o5u11+5WMfPtCWwpoG//WiPSgQZqWVzTxxgYGM2NXriufnJKEA+Jc4YRjQcigjFizK1Talq22yXn1rhFOjW2Nn90Rrgpc45180oKupphDMEamPaxXD0FwIu8OOwSvNwg4JDIxdPJHPZRgroSd5bM4JVOP3YEPC3rZ0xHf/zeM30c7zJij0vuNwnMev74oojWOUho9lOM3vZhvbZnELMKF8ceIMbpKsC/yKcTFziK3wwSUeD5gAAADQAZ8MakJ/ADtaMgMZLfC0AQjyu7Dsm6hrHwFqWReFrFInxPEdPzHSq2Dv7bac1r8m3nKJQmP4a7DIcXQ1H+S2gbJ+7abc4T7LkWbqwFnLvw43X+EhW/JswArxTRt5/GKJ7/Q3jvoYK0Cm/rNtPLgDhzze2JsBloUndtQUBNrFw1idfpR2EWVsVJHIH9vltILOcvQHS+nPEeCOWfiSL7zt+m34NSAtTyQ2ZXu0wdc4FVmefSElbhoF2zKlaV006btZBhT3py8NpeIHaHp3dYAj4QAAATpBmxFJqEFsmUwIb//+p4QAOeFwPpAUO1BkOOMxvb9UUcVU8ZQ+Qf5QKEWeLXRuv87/HmWvZ50r8BV/q4Wsfy3a10ed76GP+/tVWKEbBHCIVYazUYWwEvmIpGTm/lkueppUmBmC8rEOlb/PewUjLvySs3WE0EQ4d08d6UbJ6YA6qq1/shm/9DrIYhgPhEj22V+50y71mlMBaftdB2uo31rJzbdNJemVi0vf2C7m2CbN/pGv1nJCKfGPj/fAz4R2TiVyBhRgTLaaZCYPW9+eWeAxdJ1Fj3uwPRnRKFJaDo//gZQA9OqaRth48/o8GFM8M+3VPGCy1xqoUMI+vWtXUyvha6qrcQCWHsTmmlY9Qfq/9a3jSlpVsLo/9awPTa+N3nYrv+t4lEv2IjxW+IwNBdvU6jBVtMT0vAAccQAAAIVBny9FFSwr/wFs5MmaurnI3K8fJH6/MuuDV1fWQ6FTyuVTgq0ho69pgE0E1jQgBao9f7izJesPMu6jzdoZNl4u97SsvH8Lfjv/7ofRf0SCNkYbypS6tuMQZ7KmzOAH+HXUX6GcDy25tKLuR2jC6ewEFfSU96QwfOoj/OIZIzPvGjSngwGfAAAAuQGfTnRCfwA80t7DJrifwHm6W7vTv7oA1sVfEFy081F1IiyNK9kR9GcYI/6W6/nTg0s+xnZ7nA+jl63kaZAFJszl0fO8KKM59d1KpYE8ICVt0ZZDx+OKGPhJpF9uSok78cBHat6II+tTTzFqCosjdn9Y+36VoRMWuX1dtjEXhYp72brbk/8a/Jg0br91sQj2monRjXn2LdLbbHgFSh8qa3YkFNXhNhg6TH5btdlQKixAbWFG/tcvAHHAAAAAsAGfUGpCfwA4rxmQ6HlrXs61Hpi2AEqoyvtZV6xgvUNkB/UpntAafHTVlWpXBnh++KiGGIodikTL4Hds594Obl1VFX3jizyEdgVFWZjMJe7ozI4fGh2d5Ip117+AyiI95PYDf6zK3oqZc22nwuAhR/qzcrXR/Z+IoYP3LmqG5yLfy18RlWynbRLka09AJu4c/At4xVgY2lowqIIYVNRYrv5ZrIXsXnROHEKNAgLHYAz4AAABQEGbVUmoQWyZTAhv//6nhAA52OQPyHzX1lkOAAZ87Rvt587GDw0I91cMQ3yPCwcsqbVGoxFoVEKyr6MXPcGZGtmE44JefHt6b7MEcbtEZHYIA37xfJkjOKdlSlDe9VFgcBzNK5Reh2RxVmRQNuO7msIc/RyUCBkeReT6HPUzPBfnvVAFeDRJxjDFBD3J2gQHnArVvRXQIge61ASf3z1yR/n3BoOMR/EIvAB4a2ISHS5TwqOUUjlCEJBMQ316Dn6s+u1C1nXtwLeaCsyhypTE8IlPQCOKkXnCXy9ppM/8Nf9ECUtvUmL5zOX0MIIPT4xhHb4xkwYIy2pAk82cHXjRtk0iqWaZT9+anTVG9p2kL5tOuR8WRijiWGP4GXxUgtWjV7QSef40RTuesrFmIB4m6WWfs0vvH2mpaj+AcAqauJeBAAAA4UGfc0UVLCv/AWzkyZq6nygij0R752OnI0AJY6ytHDXeHcLSvZRYgWvkEa0ojflL/KoKgxNIUNxTMl/miKOa8gydGP8jsHUPgJRHT8zfd1xvvOSrfI2IHQejOgd6HNmzOXLTpcix8/v2csEVGSTEe6EJ7aeoQj//6g4ZxwQwUlwyG9goSrV6+oFQa/7C0LK9+6QHjb/3CcxbEOSIAQ1/vieAhgpckbGjeHpHAixXWJ26PVoZzyMlQiDezEpOf39mgl4nyhRpHyRi83CkCz8a/bneYIh6zKz6pxi5QkDi0ABvwAAAANUBn5J0Qn8AOfszvxRbHBadOAFoqZSF638WQ8cmcLI6ug1xeB6GWOsC0vi0h3bCJd5g1ARQfIyCTm6mIA7LoYMe3fjXF25WfpUS4KArdU7zvEL50KQWspp3H+4iKCq80VZREo/kANbfyRL7Sst04jDm7xm/bexSQrw2kwXvK3JoGIy64kYfdXm8F617yofUKR2VQB93HgRnMCvaN6OyevgednTsM2FPCw9uT6JbNL8xioEPTCvxcs2tSUVhI7aVftRHhzKBBteInGGPVAf0b8ILCbGA7oAAAAC6AZ+UakJ/ADivG5tyjcGlO/gBx7LrDL1WxVY5eSXpmzICiwNfYaJcevVVvDel293Du3QqLq0xEX9q3YYS1QoRvrtwnRwokllmdOLBXot+fghVQaq4MbmcV1ekpkvbiqPEilYJf1PsTA1NNiidXiIl3wYej93oIUpYm4igUd4EM7kzEhL9ZmzJHumdNzJ+zbHBsp/lq4UKkZNW01O7gVEj89nxfTi9MB7/zHXNrkmpN+IBehQvT7JXkA6ZAAABIkGbmUmoQWyZTAhv//6nhAB/de/BVv7gBbp/vS0AOGs65/Tkn1Laiw1QhdxCd970Gwz3wCAkRDxAhxSPIyc8nehFjV+zCAXG1QW/YArUs3MVXJeWSRDWON9WysAPqQsn9sP8TJJCVoMT7MgsqiYfCAy4nHVknvvaDfoz04M8jaPLNyp7sHWUYWKHe72O5Flo7WDYy/vie6i0NC3dCBedgPS7aTaSYxdFaq6SsWHoDuXptQ7lCirr2fABtvy2M/DZ1NE/UwgCwMoRH7mxF5EA/LKSfx4pGju6AlVqNPaACSfjFbuKMHvwX4/lCxQFbE74WdS7y92TEcEMuQd/yIuzMeSvNS6XXjqN/zFzWaz36mAjQa0Sk0ZtUH1E5X0n3geIABUwAAAApkGft0UVLCv/AWzky6TFQk4L5esKaNHMNQzYgAmXuB4LFnTHiTXEK+oZJvFaJkC+sw3SeN2UjgwYEJwqm8jQyEWv/0TpVgBdA6r3d87+6XOlNe8hHtenwhYdPcgNwsSUGVWpaynGRdCJ2zUtQLtcH97SC5cotzz3Lo1LLYH6RELwVt9ML6a9SBSTk8LBcRzvFFpO0DO5wd4C4pf37X8wxKuEGvvwCgkAAACqAZ/WdEJ/ADzXPaGLI6BUAJiNzYodx2NRhztV9f/1ccmlJoJ37g/5NtpH41t0dYU6F6jDu3NMmpnVSuze8O5kl5MxxD0M38MpHmbtUbPJ/neqYcriAvch0byPFfZ+VGi3hhgRfrUnIysSTppXDDqpmv8p1eAwqkQGt672mE32BNBbqr3mJFYtpEanSm1M/3QaORA0qyBO0MaZoUvnGSxRxZXkECOvIavEDakAAAC7AZ/YakJ/AIbtrTY0VZMokjj+HRx3+7hZgAON5D+y1qVuD3gYarVsWhdnfklgjOo4wVgCKpdftrjxooxU9gliDcvJfUZPEtBd+AMEjwc5HBDdlujod3UMr/uRAeotndgiA6ryp3eLs1P9IJ31lp3j7XjE5WaTBkN8DYxy286d2zkCtZ3HDT/xX/qzuuy4C5KHjlz0593GYp1f+v4OfTUwU/ZxZ+OYcKH3CqCi9HFQgIgWjpaDzzgCzAABQQAAARhBm91JqEFsmUwIb//+p4QAf32VFbWHqpnXgjI4HGMFwXfKJ61ozTl8uCnNiZqwu5KoRz588Y7dQCZoFQn32PhgxLJseZy6AYB/xiPAt8lxwyfG0vwgihtm9t2RWG3ukawvNW4wQ9weurKFFO3Q6T3Z27TKbl3h5CV2btS6l4MCU53BtqI15Q629BGb3QdVXy8UXIa/fShRz8fZnwvJ3l/5BG4Lrnz2b43mpYgpwS5bHRaRXhD1+w+pJ3IptOZ9DRL8vL2tdgwAl6I56q21o2+S0vHZRB4wD+GAUAovLQw/EPwLy5gco58AZbzysklWJ17j+rdLdyI75I27NaORBZlxb5U36l3xP/TQ1H4xEvAm23Cl+IGfzmsXAAAAuUGf+0UVLCv/AWzky8KTwBCPN9Qv9z87hxWwxZqzq4oBTlzW+8MeyDfEQCHH75pWaj9vyVo/X7SzaoVI+O5MFvAVp3v8bUfMWNpaLZR8QZZKiAOy6dwhOoNz2wHMO3+f9YUc3fr5KQMrfy+IQy8UwojJ0lHaDYzMwzDPrKX/RqfOA6W+MmTSKpFT1lVAPJq2kkdTqvqyZ+MuF+EgMScP3c06e1PeDeemzsw4mzY1TLMVHrsFdVvAAA5YAAAAvgGeGnRCfwCK+uU1/azAGYFXeLtEMDNcdUOUzeExfMEkC8cqFtR0WIEnWNIOwfKlU54WpTa5clT/qoz5pWFU7dbuLIQeZO5LOrg6afeCTvwp+tmmMyYQi8tYp0pFdw39mp9dBc83U4mQTFy6GgWl9ACzemlisdvHwqvbE7qknUpEAOJaYX0F8xRd3rL0hdDE+ksMTGL18gPanvQfw4/Gmo7vmOuL/fWDkF5fwSiDCG/NN3nVCOJSFqKApYAAYEEAAACzAZ4cakJ/AIrGHiobrrdOQVBYIQJUIsAIyMdNZxizPGorydPZ+GTteT3etqaG5WFlnpUr+tG8LD75DHrAIjeFRxkUaO2nnpmX2YMxpGUb9dfq8vudjMRF6FaJNWiYzTYmAgnQhbuA6DfW6abMa4ht8pQpEzcLUuKBvwep36oHWpRCPWCILeP/2WGE+j2lHByAzBHxy5HJ6fE4196aFjtkgybjkiRkDIthv4kNbNaAKEAAD/EAAAEaQZoBSahBbJlMCG///qeEADjcJ5ksRMCHFdwAlpMK/pjw3V0QW7okFUfPL+wqkAYFckhlt/rvY5ELUY1dgo6d9OAQsDDAP+IgFju3Vxn/L/rB6E9vcBsNcpY0BsDiE2agFvsvKVHnnDuwk+9ym/V++MEJVv734CHGpsF0EjglOsAfFkRhGuyFTEqJfiS8IW+pGLmWJEKVtIuFbVyaXTDFzMpYnbeOwoVcRxC4Y6Ydkd+jdi0y2P8I5k6BJ733Sam2V7MG9aQMcEdfNH6VV2v0tLYrzsNdEqdaKh6L9TCLzmRLhhFNlVzQ2jt9hiyP9GxJXaVXlvFJXxmLvKnmOTXqVH5OTkm5C5oHCZms2dMzDTRccLSnjbJJgB6wAAAAwEGeP0UVLCv/AWzky490Q60u5BABxvN8SbPyYt4K4Xx3IdI3OgAmQeyOsibyCOa/K3aNeq8v7CY8I4Lvmu8OpSLRLaZwvI33rvWBjO5iFd5LbLAG/RAMDSAMCSaAlMmwFX/VGYEhRf4AJ/OhLBU9fS1WwfyOYn39x7wJpNuMLNz/8s6OjihkxP7Z5SE5TX1S2CgO/vFsMsczIitsM0zEEeYjmL9H4IznWe9anJUDSxmOXwdeaom6K7NKY+KEx4Af4AAAAKwBnl50Qn8Ai0LwBm+V2Jbj9DBdd14vged+efLM4RDyRSZwBOmSUW89Zlc+r8Lvx9+mr3j2KMepQi50A0d09eomPp1GB9IQBdQHNZWwe1M+o1/KwigO76BVsZx+EBca7Qdzt9HM83EXHU5FeVfgpefaHnL5qCB7lGl39T309I3f6ftb2g6pIY0H5L6t+7nfJ1qosWPp81CwieYSIiY+DC+THlKLIKct4AqgAALvAAAAjQGeQGpCfwA6AXOwRsiAEX9iY/VdCKtRF0h0FsDaiSCcF4CiyUSEb6U4mHc4Czx/lZaeoOap/pGHy3gimBkpR2YEnA41hcuuxpjDFMkOhVhBrZpZbcK2e3La+VAATunzzOaEwO9E8FTWQSF974cBOcDurE6qurSeJGKCh/kTaMonux72khag9u6uMAACLgAAAQxBmkVJqEFsmUwIb//+p4QAMi6ivSJiqTSXNuLnqDrLHe70/fi3e76RNRnw7ylhwnY58jORCsi9E9KvQxAv8zxU/8z46akUFMyjqr52niHlcZAy0Dd5EZgFYSFpQ69kM1PTZwpi7wj3FeAM8Lk8VBCsrOiTP0iKgd6Zp7bvOmLkjEIFPmKFgTtsWUKXoQF16Y4iW7upDm5InPfd0zeaTqv1wcQgiJS9njRhkpwer3DGT5RPGsdZ3igzsWcerWQFw3kT2h6p0+4zYJc5DlCsxeqTTyJh4te094dnrCox60q0/YA1qfwIHV+32S3QIdTGyex4kGj85zd9ZZDSAinimpMKah8FYS2CvqDc1YHTAAAA1EGeY0UVLCv/AWzky490NjS07IgFmf66ccAsCEHioBLqMOHpch2GXRwFd1l+RzbT83EvvqKVpvD6t4EP86SyLRsz0u3scz9UA+0uMMHm4kKzwS/EhjS3FceijRArqUvxXGlsCMhA9JJxAZwjpP2SvZUGJU8Qg4ZM2uA9iaVS/AtI9vfrAdVesPsTLbfsXi8uSAxeXv9tdFqbPgSqjndR1zBtid2BDQ4wy6fuBky3jBbEYrdfFaYCQzgc03ECgs77Yw4xlwwPECMOvo2efDcfqG8gAAcsAAAAjwGegnRCfwA0vkSrHPgBUQcr02ZrDmy5yE9fcHJ7v5eNi9sEyN50GsjmqJBIZ5klq+rUhwsTNA5HKGOFf3nbG4ZRh9NYRrTzjcAXblmrJFlLzSVFlUVgRfnQBje6JnAe+GQFNNKULAZ5FVqO4am5HpDHqo1eEkAg4vRBA4bS0a7yrd3snpG4Odh9z00gABQRAAAAgAGehGpCfwA2K9AAdH6Us37EGfm2/o6l5r+9c6sOG51Zab6oVIMjmPCsmH7yQMVo5QH58VfEYyd2lZol24w+q6uCsi/TUFNJBduWJFjPz2QvsD03+Kn10T9Etdw0RSO3t5toIZ2gmK8EcKncMev4vhpXukyZSrTevpy8dBMAAKqBAAABNEGaiUmoQWyZTAhv//6nhAAyfsp+C5WayT/DnJYMN6NJb4AJxIuOt/YCoHT93lP4LlYIw3y9ePQs2YzRrwZU8i92NOmRt2Jj+VDnPP61u3ExRJJetajjFcYJJGOhbXbycDU3B/3aXPLGnaVSVsiC82al6EFUDDN8unPprJVsm/MBBxtwiC80x8dlJTt6weB00hHEKSm7C0cxMH+5kNWfRwtAG36LX3k5XMXwwLotzIlynbL9v+6QZZK9QvKRPTY/33kOn7nvvnZjWnQxtGuqJhzHE/G92PpEfZLnhKWBjmG32bL9bxKbm07fjRpntGsfYsjFEksT3YoqdI+VEvHJjkEWQ1at+c4m0z8uS0FRpBxsmEdmOqCDxMQImThxWpdMJGqjkSi+RVmyE4JRpBvfzXoCeCPhAAAA50Gep0UVLCv/AWzky490NfTUIRAEDrBL9N6rr4gvLyD1A13BBOXQaRIDneeXmfjAcrSfJpK1d817CuEA3bOpP9LwdSRdUbwoLVnDFJIsUd0c6mDaBodWch0bUN0vJRUkKpaEpGO4a3/kfn/0YVTHpEIuyhIHXqVlKekF0Ez81r1yS9X54EEck7wpeQx8X3fDVYB1S2m5bQScQbMMiLTlzuQV9fgYCwGBcD/mAK+TjNwm0+g6462D4rQRzSoJ4Vwjf99K+SZ+9XaHjVo+Dk+cDM5SUQGtZSsdHYWh3fDRNsTGW4a9qwAyoQAAAJsBnsZ0Qn8ANL4WO4HFTYALzEMDD8NtLCR2QcKaTGRbtghwGHVBunNNO7Z1uUFiyb3b9PIsvyB9PZxG9UlOjK6RnOUnOLezzf0EIVSBDpGN3BYMP72wjaNUgL5RMqR+v7/iUIixx0rz/0wt8qIArNwpBIzNoB0AOifL6hsH4uXb7i+rRDOGFLN72mY0DXdGP+2sBGw2T+phQABnwAAAALkBnshqQn8AMkJkjquvWkoCAFhqkzylsk8jamVVOVbExpmvxEUxUHQ0CNWuSRDOnQcL5ttGMF0w7RSjXkM2lpmsHqLb6WhNpgkSj0RVBywnXY4dRqpk4EY3Z2+sdUqjOxsaqUp7Q0iMznigdY+DefuqYgFvs7l6gETzkad1pJ5qGo/yWRguxIJ6j+9hgSX9xdhovNNxZ8T1rRI4znidfkTwbkNjGwaXugTPSbNTcxMmrkWmilFf0AAXcAAAARhBms1JqEFsmUwIb//+p4QAEm+RsN3XehZrXPnf9++aJGcujNFLv9gYaiFBj0DDlYDboIOhgrgQ3/ZGMM2PMutFrFM1NjNoLycPXIkkM/ntgQura5L3mSGkcf0Cq8cjxbtFdrcipqod/KZVj1Dyqgl2eT2t7eBNZtpe5XziBRCEHN/EMgpz/G4pbpkAOj3LXAz1HrTr4tLmsLxNDIopA1OAvQbJEqeU0UXmLFlIFepS3moTi6WSt0T7lRmm8gxeDzE2Bao7YzNGxGD2Xz/afv5R3ipJS3OX3UT7aJS6AdsC0QI3wa0FCFVHCSwKpPUDlRT+d5yaLKB+T35ze7GA+CqiawYZmeCVnAyIU7ys4YSgGYeeRtNtOAKnAAAA1kGe60UVLCv/AWzky490G6V1s8dQGbSgCtU8u6j8rm8zbv/4w7hOST+Ocijw66yhl2Dp4u6vc220fEnwMqfnxvuolzTpt5HYX7GOdFA8EHsCKHCBbDFLuZ/g9ZDPKlyi/L+nlzq4kikWaB6DMnMxySH4mjkv0H2EVV4BwkWZN4L6C58JU3lzg0Z4Eyiz7y3hGeXT4OnGe44sZl/psaUr5xgFrzpKjF8zpXmU+OAkmQtr99fk5bdPSCAfiqJ/4dyJEym1M8F9TC2mAC23lxpaB/8IYEvAccAAAADBAZ8KdEJ/ABNWdx3GLLOwBeY/QKr2GX3EE1+bHA71QvNwlIah5NcbiMugOzFIsAGe6rv5A2seZF8jcJ4OFyXgW8AApyazlYS+ne4tmd/MFKaVnCALQEphkWF8R8b7TaEwvUD8xK67XGriy/6Kcxq6U8GAvEVOYjKnXT7kqcVnSXUthveuQevKD52oxajCyatFWWDv37AMMaxrNTwJwCQQLUg/wQMy19NKTMP9x/wdBj9Lg77IvuNIpq9Oh4/pB9QBDwAAAMcBnwxqQn8ACaxfRhIhVEelOu7xADit3HRoRN0AgamuJXw/dV9qSyYeixHYs0+3W3UPJ3kENolFvRHxQC0VtcTSdw/4XzgKM2wfVQzUunJO3GyFXgy0e2x8YnqE97HLdDYqM73k5DBFE6/rVGQsm/teTR2WAT0ZCoVE16EXmMYrJxIllNiPPgVW+4uicLZmB9mlz75rzss30uFdudY0+2hm1vkPrGssB61gvFNK53pFvMbYBVcYi4yeBdtPZ8lunLjYnTdHGhWxAAABRkGbEUmoQWyZTAhv//6nhAAHy4TzWasmz33+OtTVimQAiDS+Shj0LuNP3EhPVh51z0KnAHkLQUQfiNLzerYYGzVRika0A/a7DrY17Thbwl3HAxvJZhbsiH8A5M3CRtvfZRvjVySta8O1GuTtqP0Jzrv6T/6tN6PmcTLscNZK5hfRM86lqs96U7FeuwXMbj+JXX+7Bs7Cdt+hIVSdR2c+J6H49ma9VVkTHg6umVZnT3C0+98qMAGjozQ3rJWseWKIH7X8C7V06iAOHCDjowIfNWT/oTOQvlOZAVhOplx4gRShJcjXXVIHPJv5vikUpQ4gDIabeKKI610tskM5yV+uw60dHEc4DPO7WpNP4l323tenl4txX5rluutpdOcB9uXMoUvrDxurkbVFIGVYFD+TU4NMfr/xqZUuHT9oBojkVQaQKTdnycHTAAAA6EGfL0UVLCv/AWzky490G12AqAGgPkFWUALR0xOmu+S4eW+/wHcQatC1P0ikiCwp5vG3I70DB/rVN2r1vDyV2yAra/vqA1nWUj8dsk99rLXznAX7URaOfXJc+PCBOTbtrlUX6i51StFVZpy8nWMG3jYLJCRd21I5xNwJZib0BDp/zByOB0QEYLcvZMrmO4g6zsUmivmbYey1ZOX8HGnBf/BzOAllUln31/R6iMdFBz08SEpl1Mr7V3APvvgrW8vwmHmxsp14i5lnsF4042a8VlNNYLslF4ORYgH7fT7QjQkeVfp28eRuAb0AAADYAZ9OdEJ/ABP214BNfK4wRKRfdixAoEKWLg3ogaGEEANEIcM92LNQU0f4rC1DHX8VkJi8/9xHVH34x3PtfdtiYAbwVTmKhMzJK3uyJSTz2gG9SO0gHr4TFWzYK1OANHMEzeoIlrLSJ4FclFI7J6+e+fqqbFfd3p2OIWBUHKPJp8HyFm7E7J9eLj8DKOMpA9pp8b9yEFOOEIcAAVkFDH9GQ68/+O8oKVtzCztj94TBZjItKLX040XzLAukWLfJzIeHCXWRNS1SWTIuEgLMZgnHXr75rQlehAakAAAAxgGfUGpCfwATWIwwtCAG6P8/gvvyphQcJYyc++xC337bIOs5VCiQUy4UNhDM0+PM+43cfaUPA4aAXjEdmC3Kzxrh55qCR/6aGXHFpzksbPV0nU3RRt1rbPtWk7m0ZT2V9ESUU9peLxgga7WL8oCirp4j0ce/dlcv+9KlhUfd2I+nPnDioXvAj+E9X2/gY873a/5upLJbperKoeyI/y52ZIIwHunwie9JnPZpPcWbfsCp6nQK0hwWdd+Pa3MoFnmZvs3BHqhmQAAAAQBBm1VJqEFsmUwIb//+p4QAAzvsp+GEHTdFQinrrsBo51oa1mH/T/M3Df/n+gZV5zBD/et/hgVkeWlQ1tyJdbz0cmBO0gRglSNppoat9CP67itMgx/n91m327lbvgXeEZKgGFHCWCTIwD7lNSaRcEq1l7hKtFCnWkxQGhZAJy9ZD5u2uZCbVHOiZeGl63Ivjq+GI2eDXes6jZLxwpREyvdQmLH6ZnKYYXqN3f19lGqo5BhGq+Ld8133sP/xyxn23Cikdqwce0OksHEatrYL6jGpOTrOMefnmHTvqm2qx+3naiH81PUn25oiHt3ymn4vyshRMlmesuazTMLUxK8YQQ7pAAAA00Gfc0UVLCv/AWzky490E3saZWoOMH1yUQuCBn3YywVXBpaAWAFs83zXqbcpiMBL25MVrBpIRGpKMeUZYwFQ8217VhlpJB7jfwmRsa8S6HhlO/kOO39O0Ex4eKGo/LEXJHFTpS7za/Kwiyeh/T+KYQ6+Gz6q4QKeTTGpjnCk2UKCVrS4e+0jdhDtsiribW/WViZTpE6hJjvF7l3ZQq16q3osXjfZ2y4FYMUDOh7n2ngcqBvn2JJSR1CNskPzQNt1bk0lkhUfroJTVO9L4TfVFCLAG1AAAADHAZ+SdEJ/AAfva8CSVvTLYBNJzZOsC8ALr7/uOMZf96gHzJXsxvfiGe4m23W8DUEB0barphgQx8vVrTJtEChlewtgF0IDfHfkJ59x55AvV4AfpXkh864WTJH37juKzLUgMMT1trcc649boL7BjgCrB/teiq3UhDucLeWIwKme5lrZqQjnW+PRWbWXgS/6eJ1zktAqRLqIlz7c6NHXchFbBWXbySy4XYH4NWaD3rDm+4tU+TAHdeFJXshSXyDDVg+k+abi+gMmXAAAAJ4Bn5RqQn8AB/Hmj6EofCJdUSL9bTaYjSr8ADgx9otwdXju0OqtmK9aq6QrvKVIhDy/SSq+olNNrXjMH5RLuLwVevuLuL75CNgJYaUZU9lOwyTV7Kk4a7KSWSujRDPUGdLtuRxPEo88y6te/B/c+AqM9ZxlbG0s8YRIb7DdG26P0L6ogiKaqU+c9zmyJNTsPHTcos0VBSPED2uovA1DwwAAARtBm5lJqEFsmUwIb//+p4QAAv/CbuQbwY2lvgAldxAfYbAKysxAneOne0HgZiSvlVdnD0B0XPLchglBv/xT5PfxdBnOsFz+LZfQDZc2tstwnGluiFEV5yUEiDU76WeYaclJJH2sv5C6l3vGAXfQjNoGj6qLmuj8e7lmLHOhl+7iTLevPNRSST3aEWgBpwqvNlqmshBBfzTJ0sB1FyX5DLc0Is6Ct2tFZ+ckxvQYYQGnbmPv6/Y4bTUpv/ug2C2B5ZtAkquAK2c4o/438D0nZPn/756RlcIOo7of44RtTiTWy2sD8Qxb/+FUFrKnTF9O6n82kzKeU57e7TQ5r4f8X9bGS+QvF1F2wz0lQhevaXaFdUSjJ8LtQ6JHWAyoAAAA4EGft0UVLCv/AWzky490E3sbTK2YxAFb83x8bB1mmKT4r0E6NPRvipAREOP7hS/T7/vpKnloiyPro28Cr5Cw53H2k468uUtFV2kd0BP2HxILmdPtDep3lCSyNAa+1V2e0Qunbk2iBkoc11NTnl9D1wqfSMiu1xU8NS1cdMWArJKLEevsFAD8UxPkf3kA5dkiTRBmtstyrXw3l5AFA3eq16xP9+YRDTZOuSwgUsfbWUwSTci3r1Gbj67CMiOkxO64OonCZ8wPBCrqx9+py97hg5i+h0IuXCpM6uXIcOD+RBDxAAAAkAGf1nRCfwAH72x3x4BqIrAYtlEBrXrSMFoBwUix5MwBtBLQJCa/USbX4j6zCn2rfYfJ1wSoxtpQXzICxIS9qLRICwdXq2SBlTJCOOn8fpLdZVhmYmokt0bLoEzNp2tHl6diJvGi4MP1GOdl8OAi3pZ3xkSJhfepKJFWjEk3D77fTd3FgHBD0fwAO/dvacwoIQAAAKoBn9hqQn8AB/HmY2vQ8GoUwoCAEX9iY/VdCKtRF0h0FsDaiSCcOYR2ri97Jwzh6QUsgyfU01ZIdNmthfq4Ct7Z52r5fzeCcv6d5kGDQtBBPtJtJgkMqjQZJ1vxXaPo3pfAQWfqLCKgGdHlV6haU55YCaS33i2MYPlQbnY43wqHaUWUv9aclf/UtK8sI25M+ZrPclCXyRuNGfwqFDXGRKPE75jcIAY/1QDegAAAAUNBm91JqEFsmUwIb//+p4QAArXvChT68Jb/3R0VIXOYIfk8AEP1rNfpqaOrWxWyvABnI55cYqP2sMaSIYF6kCzXhRiwsBeADnuYw9xWgsLW4l3ik95t5LuxtKGgbP3ArYrYcAI+ivgiLbhN/f6oiVS48WVVzcfea4JZ5bOjnqZLcxOVKD0uqvfQYPUWKcTgyOsLyh3hN6BGhMEVQRblWR1XrguUaftWMeA3YZctsC+t5Q5d/LPw4HgwVwC6veuv9ElrOFSmXiqGttD5Q1nrRPFedSQdXf+AjBsxHDBrVS5vlfKNkWC+MlMbuV1T2KO+pbwxPqgH8XSrJ3dWGCmYo12chF+j/8zSwZgLMqIrscwxEvaqJWbkbFz+yTOzkmLIiPyI8ob/SpQEJEBlZv3uEIapJWPbnwb3L5HgvFL53KQd+dIBHwAAAKJBn/tFFSwr/wFs5MuPdBN7G0yIZw8v5UgBYfLrvy5UxtlOK37/n7NJX2+z8Pqa+cGDdojdJQmD6T8dNceefnfgk9i9hMcovq4jJ8kge98wPx/LhLXKh2t04KcMaEHE1CFZknhcpZlfhXNxCPLKkzixbpQ6RarNapwXl+J5vIzClNIDUjo2X804QQR5fa4xFPicQM8ohQh//ueGCDA9CUAALSAAAACUAZ4adEJ/AAfvZi+kcNCAFSJOEHkg90jRi72tzat7sq//Ie7MisdfWtYLSigxIsFRAYUf9Bg4N7HUo1cASHE5ix/42Lhkl+v8jeWQ02IWGO1bkm205AjTtp8/seUjztkpt9bs26x5Ks5LdR4E5QLPvtsDZXT8QxoGg0dVFQlWrtfRXMiE1lcNqCSC180SrgSw5qhvQQAAALMBnhxqQn8AB/HjKsfhXUADwP/fSCUPSPfSgDidnix/cqFzDVObgLvaUYOEZMwRFtfvGoaD+ElMz0BPy6Cu8kKupW+LUOHjvkISM4JyORDToloIebijbab8j5u/1QoN38ImoaL+slz7AhLjumXBPLJaZTeuKlRw1aBk4wU3fvYY0JPNf4M2gJwyAWHpftjIwiOze8He0qDIR79yuluZNUT4WgkXqajARHzaoSVaePLo6KD5gQAAAR5BmgFJqEFsmUwIb//+p4QAAR75G1d6wOAEw5y+IAoc+L1CMLD1pjOA1SPtLRyuQ98rtlrrOdpKTqfXa28EKJ5/foofiemOswb3AO8sb+UD+MkD+CGPmZpTKr5YscOdvz8QMsztnHS3I2soxfbJFnT/I4TYEhKIzhekl227zAhnrhc1P+kJ3o4ORQRbWt52QlsXHAyYCmccRaHcP3fbxXJURIs16vguE8FvPsH0s/nNVwx64t8JzjXV7vVN7Vn3II7wpq6ThFR0NnS/lvIfecQWZtxDg2SVniTGMw4QWBarXZWJkQlYY8l9iJYX7NvQHqcZ8GKMWQssL42G3BZLrcWxzoCPxc3lev9/3ueoZw/VK8T9OMyzcAdaVACneBbQAAAAxEGeP0UVLCv/AWzky490E3sbTIfpkP46NGvBGlUptAA4OoG8VwCyWzPM/MXdUdVlhI7KCGJvcv0gXVefgonY4wZujXoymVv1L1ecJxbpsEO/tC+MBRguUB73AqUbzMbUc04ugHIg0DM6ckDQv/agNcGclWD9FsvHrspQu1uR65sYzeHBiSKkPUqrO+Y2W2v9fImzitmZVaSKUH55TuoaY/ARLE3RnsGdvh47hvQZPPMfDLErEpPeU039ETotZMO3Ja/CDAgAAADEAZ5edEJ/AAfvZdmS7W2BjwA3NGWDvYq9jDoubuVK2/lBao1h0mv9PrqMnJGdfuVjH0F0UvSTzdHKbYcVGSI4UpuMes57rFn4p6xrjtUJic5DugkJ7OvvnuaG9yXKV0xYcSCn4jOihE8hBoq9OmNRfQ79c+MYDQaajRT+oHcmvw5VWeOtms7NwTKG0jFkPdYwHKmY/AAtLEIX3IJckg6yh/1pljFV5Z4882o3uY7SfeKH0xFTz6oY+j1pvOjS5ZHm3BfEvQAAAL8BnkBqQn8AB/Hi+PTEEY3a6qHmnNQBUiTmk4tIiMkoAS9vbIpEbWFpUdMW7DJ4t+BSBybWc8CLqvE2+PmQ5AtQtUXmIywjS5nX4WjIhc8f+rYZ1eW/vxlVSHB/gFpjYLfAd5mhnep7/OsML5cdLOdIM2k896NB2ENvYMF9OGsB6Ilj5f7UsRjjmx3QlZXy1ksg3Z1Qan4P9eeWQWwgRc84U/yHDy5506AD8DGRNq4qa3K7aPg8DLRqu2CxLZgz4AAAASFBmkVJqEFsmUwIb//+p4QAAP77KizOgot874hAyoAG06uLGdIL538usEbPb7g8/TtQHzwiXm7uQF2mPzl+GFxRIg8l2f3YjYOxtGSWe6EbJnwWBzG2ClALAVqWNgzsHMXZ4Ovw5xQU3xY185Ril/lt0D+UL7bDc+gns7fB/hm1jm79d9N4ZX6BwvlzDh7LscJErIiUfwdvAlXQ7BHCtPg9zq7on2TDvVNMBVTkxJ10NhHy09Xm+gZYWaWHL8jfaL4eAoBpDRndBCTjqxFoCMWGtrEHM8voDvK6pRcH/DOpVh67iu+c3NW8Vf63YfKoz8YZhV+vPBp6W7AqiQUHGT+fqt82Guz4nE8YlpxcAyHXkj2whkA8ov4WQPNR6rXJuipJAAAAukGeY0UVLCv/AWzky490E3sbTIfpvuEIOWdoWgAlJa2OtF8E0iBfCkacpykJ77IIdCMpRU/kYe+SolGixFYjhSQXfXEvH88gZD4uevCI0elUqyxgdNDyzlkZjHbtHjyx/3wKeVROrzJCwKchOvFYiydT8XxodcRQaQIzJFwzBd0zrF/6/11TpXEyLNy8OedJKJN4j5aQ1hqGqIXyFWm7xEx7xZLK5sOKNWQGcR76uR0x8vFyIOr4lB8toAAAANIBnoJ0Qn8AB+9l2ZLB40MAcv6UpYRI+WQl0NYJWxy6QVFC4wO8amL0hHEDHoLZNZiaKnKyNyQqioVjf9UVwYS4vCGidZIqjA49W8Xr0GXzjwlofUwjgQt+nPHbp3sody7ZMRpyzscYsT0FE6+m4xPOQq9C8cWz+9Dr8MLZjE5ODkAXminNqBKCQSxWehYGYGdAwa6lreDJ0/Me8aS14/M+/o65QtA8YldmzrNGdLo7JzmpTMt5/eeGYba49d1f7kXQ1sbCk0s3QEFD4s6SR2i4ScEAAAC9AZ6EakJ/AAfx4vj0h4ujyJJ8gXAJZM9dFO6vDhAAbb7uC2X/aVbRIejN8XaEdDXgLrA2tVA6ipasufCJwEgL9dHFsnizmvD5XoC7cHrYEMFTxONw1hK83IMHjG0eErZSWHgGYEDnoS6v+ECnxfclOYvSBWrsNu5psYZaTRubP4/BVQsPJQ7aWA7ytlH9eNyeXXvaWkR6iH/UZQQxSKWNoA0KLJ6B3gzimZmAjHfSme4pyS4uPKRrldke4EnBAAABHUGaiUmoQWyZTAhv//6nhAAAaf2U/BcwX/w54AZ4+0X4J6JJE5fmD6MT/TZuAZDa/PBNdNC5lzKAVUo2tlSAO2IplqvCd9D/q7BCj5hSSW5/Ylb+bW1nk7JBMvIiOpWvdp2nbmYrnytBACyTDWTf8i1NNunYgbKjV6z3EaX6dr99RwnySvJa7Q9bBjzfKG6a71fhXi4v47OD/B2rxlVYdte+W8L9wSYGTkuGY/9xD9jZbE0vNJWMRgXLP3DlMva1jEBO1jGxsLyLp3zU9j9i+1DWXXBraspm7+ce3x1ENLqvP9tgbJAC+b0ybtW/I0BqPqceufymSpGZ7xXds1uS79kVtFMD4EydMYSZaTgNZwbvK+I6oD1ex1nvQJPiXwAAAMdBnqdFFSwr/wFs5MuPdBN7G0yH6b7g8ZlMTE4AcXn6vHLc91butwGZPvexA1cX2U4+pNreH9t+X6bKWRAWBlkiPwAaQWn8WgBVMtPYLcahTG4TqiFVoneNmpoo2J3kMMEu7K54tugg/HqixgwfLNGXbdRoLEu/UvwdOTaYSeGc/DxjTa2b/FCS+6AS0XdSVTgNINUglww2Zn1pmYdc+c/8LuTvHzk2wDErc/8HDtF4oRC9a/UUo9cMmp/7ok3JuIZfEtr08MCBAAAAuwGexnRCfwAH72XZkmfsKG3BpVTgAWHyrXnvWtrBYnYxXxU43MqFZqsEzloY2iht5Li48i3sYtJBoh+KFF8oHO9w3aUyuVw+5LDXaS+m4Uj8DkM8Fdw6yaIX96mimgnIxzjz42ANhsu8rHJetPCbQR2r7XA9YzGghlI10SLxFBCTPnGmFRb+/+jEkSXC2Hbc479gHFuyaGhelCCS6a/aVZvc3Y79g/e1Y53kehTdmB6R1oKdbrU52DbgAg4AAADXAZ7IakJ/AAfx4vj0g0b7mmABeYdx+0HmNuHzdFXC7yCuH0NcYWw/3ByzPbVM+bPxTzg8jTxawuGGkqVK3ejZGJuSY+w4avvUa36DVK/lge9+kGbtKeOOX9yq5mkSHAx6mfhbsxPL1BwZMLmtemJmghRsXXYuOshIeTOYdMuLz0E9zrTpIJM+79Cc2LBu7LxxsnW3hXtB9HZpVRyj7Spcn6oqEq1dr6UMhGet5muf/O8kFsfQkCRReyMbc5vp4AwV/I/4Oft7iJfiK4ENse6Jv1extPpMPGAAAAFJQZrNSahBbJlMCG///qeEAAAyfCef3ACRPpbFuneEwb7Uk1qH3VhWj5xiZqBBERzttc5gimJTmOZqhKez9M1/Xeh6qGT5etgQOB/YFMTPYe1Z8rruVjR6OtpKmWmZjaAlr+9m8ApCr7S1mTskqdOueVEpA7ubgp/ohY/Muu4aQLc3GAM3y47NiYkLeBrWtZz8bDLCRbWkXg4h/WK2jyuK4nr/kf1ncHz1cMfZzLwJWqi2tBJuzOdCZ8uUtwWLYbih7ely4URO8gD4mFBWiTfHIHhm/FINDHU3GqtP+hhFKHc/MIwL7PTnneAZ0c9uZDp6At8BZHFyevnanTbHfDWNpMfblcY9HgDy/7RSI7HKwoLCtemVxAqx2T0otnbSSNAm7qlr+L5y0tZbs2Xt6sS3PC7OzNnXL/Da7EuycA2so6bI3s0oSkEA1IEAAADkQZ7rRRUsK/8BbOTLj3QTextMh+m+4PBzNaSlQUwA20nm2o8xzG3Krod/f2HWIpe3PfsXvzGL0vG09ASl1icjYSggAvOFsdY6y17B8toeEcNyLKpg8YqcUbKgsFWrFwyxcqqEQpnPIQwuhPwHPwSXB9pNrglXw1QGJglN/iSta/b5aPp5fkkzmuBtZTVnPzMU02V4b44P/gISrJlt3NTJdSB80dCzfsNX+TNWo8uX1LO0erSv6KyjpodurjPhVyMn9ycfzgR9MdzGN08+qGM42vmQDzM43BxB9dz/WaukrgoDLsd0AAAApQGfCnRCfwAH72XZkmAZVfIAL7xhcxh2I+4F5y5Uh232t3EHP/1rMLXDA6rJzr2aJhfnwMaoKWCUEDLEKl0QyPzxyO6tE+/W26pu3l8O+vWzuQdh9zKdDZNiT0UoFTrXgkl4wwOAuOqalxMFW4c7RTNwU4bCSouPa69m+kOvijR17e2VVWQ2STSjyMjRg+NylhTzh9DLcq1EgdDlRk6rIblz4vaJeAAAANgBnwxqQn8AB/Hi+PR/WLx/8ZmAKBL25x3/26OUHrKQUR71qTK9bIgPGS1nB4dT7MuXv4xFyk+x8lEE8O5JZVYyU7o8W9Dos1H+gBZPh9G9MR3G+UZn5FpjJMXF4pftEc3eNkJoDqiz6ufbouqRCExQpV/i4BW5tcYhxgWqm4xGwCl5g7L3dq4gz2ZMmXCNgZyJZECodelmxG4M/mWgRABchFmQ+YAqCHQqjZeM/1xV1xSBcccFiC45n8MtTy6UKJWQOlwZdzRAl5yiBtfFmU66ykgQ0oRsCykAAAE5QZsRSahBbJlMCG///qeEAAAyfsqU3Xg3w+w7KDkH4LLeoAWpEKJTFpwW2wZbtm1tzbPV0OSDdm85SYlH8NH/ETQKuSJ+5rJJNFvEsG6nWWXk8Rnvh2pJr1ssmQUnI+o/LYh99sLPivhxhzgJft8M8yAxdVUgHxd9FLk4ZYI4a7sNMNR32z82R4QqhQntJejOlA75DxssjHND2fjiwxF2KH6g7uD/BF7ZYvgcpLZffi6enAAAFStriBY3tCJJbf/qgjgsATTwemleRcnrXxNS0A+BvQSFfPoLWwvXX6hGP+Nm8jEwQ2jcwzZ4jFOIlRK8aQ8K/oD1gezL0JNEq709I/CJ583W/M8T8eWCc/GUmESgXMTPkbCOFvYsDlznifeU1xLkbWb3EH7lzvGhpRxRb2k/DcaK4XKCpwAAAOlBny9FFSwr/wFs5MuPdBN7G0yH6b7g8HLsXJ+v8aby7zACMiLxP/pg8fjx21gv8PnpsRaK2g7swiZNb5jPElbFmuqWYGrxxub6nf6nKT6orAxftYFRj8FIc/nZXJW6sd8jm7CWA6n2zJ3Q/9Y6XGe0crAIqM1bAxYit+bDaH3pfVe3QZEs03514K61W/so0hdJ4SQGb1wfOB2xJBEw9/s5Gx01wC7zrZIr1PH1l6xCZcKFpFp5OvGeJkdvV0yN6TwqSvZrs7vuequlY/en9Eu0/N3fn3X8OnkgwwJEu8bvlVveCtoX1ylhdwAAALsBn050Qn8AB+9l2ZJggl/qJgDMAeiQWuwrXshT3Jevgv2QU/KmmFA6A/RkhPGRtUMvpznsG5k4zQQzbOOWH++gEdevyp0d4G3PtNy2wxCpETzHyHW+M7fnhPseiEFN53bSevJ1PIOVEKxReHEHopcibsRyXdjYsERYNiRumd2+u/l+B5NJDCwe5LC0+JpYAcB2HAPp7Yr7ztRtU2NVB4GjIdjlGaxrl+kOvfvVaHrNY3Ti3wGZlpUsAAIuAAAArQGfUGpCfwAH8eL49H9C03nnhsJQAv4ZcyxEMQLfT9pAomUmSR9oZy9BlPsiyS1Xnxwde31zpa8Xh4FmJ+rz8FNqT9qeZVX9TQALthzrx0Ot9a6Jk/ag85NrSM5JK1Ka7Iz59c+ZbP2igvOfZ14yUvS92rYPxipATgIVOXDGBl7WNNjVW5lFLX1Hz1ME8mrD8Gvkn52smmHcN4PjBX9cQfBa2cub98mM/+/FyDZgAAABO0GbVUmoQWyZTAhv//6nhAAAE2+RpA/DmurqQAmidLZ8Vhfg6C8PO0II43gyWQO1hVXgCGOmP/8TW13a/B3rHwtb8BTfPlUJohr/b9enC8rop1dT6cdfeUlAssSoBcCFTRpY1/NF02yAqI1/fZSkFAeYl+7nDNaRIu+8d/yj5FbCtfIjjgYdeP1HC90vvbfrfeMAqBAn6i3pIOVxFgVmlymwEIExegGz2bIqp9znqi649KAPpm2FbzrcaGK/jX+WcNLbNkZY1MSshhqfbUkYWGgsttUjUvSkGXuqbtvI+8aCx0j0vwBcXon7s4BfLFerPfMcROnDyRBhXCjaKKofRrimzBqG/n2RxyxdfMNqvSoR3Cc24+5aBaGBg5ljUg3FBdBUGS2Nf2u7MNW+Rpg70QeadUVux1UzjCCVLwAAANBBn3NFFSwr/wFs5MuPdBN7G0yH6b7g8HApfCk/joyXOieMD2gBXIvHYCFtbLjYndIxgEB9bylZ5H0O25rls/NjY6oGFniCYYLpXefjI+sDPgUgdyohkJW94lh+Oz+s3chZsThZG68sF2GwL04hi1YPlha443bong/f4UbIOtzsuySoqD7mbGOPg9mrZ28NaAkYUQ3zx+aP1vmkCElrk+8lAG/2uD9lhs4xVPHkEvdCkyqGlFwVNuXflTmWfsdSOEeAodIMbR848BASXQaAEGfAAAAA1gGfknRCfwAH72XZkmA/TFH9+i4orKUQD2DK1cZmAGt5AhJftfyUq54aT2fXWZ+sKZS449eq96vdxHfQRGKDtng6ZK2rIH+paHWks23afb6fPSGVRQjE9zbWokDa4NfKFT6gMwK0a/M9W8sah0m2MAMSDs/2jdgDj7qJFTOuXxT9f4TietiDaalvzK8S0CSxrpGZZOWbX90tpr/hQgZg4vS/rliK99nGiTLKmOm7RRKekWoXFLvDmbM+kDkx/OoOEzsvYb9jvJMxeSCNgJUDQFPckKOwIUEAAADDAZ+UakJ/AAfx4vj0f0LVuPbxV7UXWJgAqTQZTZuJS3AAc3+uKiv8q+VK3vZv8cDNrn97DTtAB4h1h+S0Zfhlh/molb5i1QxYeEyaoabywfzlaaO7aQiiC0rqnQoT21utzO9ZkA1WF1L+BzVd11cXEIlCouzUb7/TDeO4ZtVTYRni0hUDgbYAF7dulz6QpZZd27qFLpC6TCVfZzYqOrzNLvYTG0M+nxbqbkeCheW0zxdidR4zU8EQg7rlfsa7nD9S/watAAABTEGbmUmoQWyZTAhv//6nhAAAEu+Rs+NBeI9gcALqjqCuO0ORtoIBLNPw53kfNdbd0K7otM55d6IUWZvKiJ0Yx+F4b792WdIwJh6qd8+XzLRoh+pSKFx/NRWfYrbpxppxNV5lcddQUORakWPbUuUPJ2FLO3LtDPIAsgUpXMXv/j+6qp7bfCk4KWJ/h1ELJduT/6M/QOsVKpCXRcj6HXm7SWU0W7qpnsWvsgd1ZdpgPvN0dSIjoairNzsu8yhn7XE1Yls0Lcx72qpk/LpCAHG0Ob2ABMx5KW0hVIzDf7cdVJN/t0SHivngt4ek6duKJdpnKczXSAEzjn2sfoDuCiBEvXMaVo0Ve7U2/WY1SmP5EVakpJ3+WEestUXtBv8+ocs47xtuXA5Wrtf/xkhxH4iYuTcbyuwAtnfOwy99u3/km4kTcrxE0sZ6oBn6MPtwAAAA8kGft0UVLCv/AWzky490E3sbTIfpvuDwcCmHT3Kh6Ruu/bHHpuxAA49pkqbUnpUFCFL9WyNznsk8qZEWpHGsQQjv17oCQfA+5smh6MIOYHTVuyy0uFbIbr6CrYYEPX7XnxsRDM01AXNaUiFYU7l53xK7bA3+XWs5w9v41f0OuxO2BsK7nZLle6K/ZRHoYEdMQWYGcu1f1JgqO/VkdNdSzFwosFSYEjV6EcBsL6LkDCfUIsLEqNLGMK+mRtD8mt7g5l2W4JWQHSXgKh593Nrppcsc/Or3vHImKjvpasyKWNaRCyb97ZlcHN4IR7rI62l6CAEvAAAAsQGf1nRCfwAH72XZkmA/TFH9+i4iJ7G+ISpgBbVWvh3OkpUPNmnPr2t1FvKbN4Bd6ZBrDXR6zhYm2yjQQzwIRCWKUH4O698IhFpSe3HLLBaT6QEiAXl0vJp14DBGsZD92oRbWO9aDamQO9btSvscC6mtlel7NeuisAurV9iPtvWGRwhppsdjA/DmKRH8Qg4PR8PQ5tEpQ/PR/DzLWSiQcpqrV4CaZa8ouWnqvPSjRhxyDwAAAM0Bn9hqQn8AB/Hi+PR/QtW49vFXn9fWHRWTgBHvEGOVSTYP7aAc4N0BbXso4kFlxqaNzQP97pJFcGtYWZf3qMCwzH2RtOUC4DNf0w9ear6qLnlM9Azp+Ra1gdZwCdpEqfbwhL7C9q76oPa9jKQNdznHGfXk0viPXcQxMvWM6/+rSJNqctsLO7Z52uYZRWTnQyafHR5A1bZR36ZH/K2P84miZcOhioc72Rh0qb7s5EGVDh1MM2WVbSa94ejpSHuyckk/x0hIShp3gk5SYAekAAABP0Gb3UmoQWyZTAhv//6nhAAADd+youqu24ATt0nr+jD2ahd/LWAM+3V+psPiED4ESym+pyah1q5d67M2rdJH1CF1xUNEakVbsu52cDeCrcV8KTjDkkXgyEinE+91VKhmfAWAXSpEMW6PIURuEUZ9l7qP4tI1aL/8e4Qxhgi0JRJUDB6q5xJtlFjpjZK5rTiNiGPW9sMS5me5MgcxQgpjH1uhiz3NuHywfGOtdch5nrqCKsJ2CfPQTBJXDm0BiWlQahH7GKEsQjZHGRL0csOGGvoUp/VaifiaOIhx1xwUm84ubJgG1WjIMisZjh8aVPYwlNC1bxzcCboustrA/sh5re9MIrJSK/OTqn5tjrhCVKe+IkG2qf6TageOsAMrar4P13pTD19nOXUEzmroS0fdlBDk6WK/OWw3QQXQMQGbPQkAAAD3QZ/7RRUsK/8BbOTLj3QTextMh+m+4PBwKYdPcqDZRlJk7dA/foigAan+CFEtNMs5BafrKdDKhIOKsStYmPMRusbRNG3CKnCmhb0l0oXlIhlJ1yddOp0ph5Re5e0Rc0W2ZpTm3nZ8exh890GVhF/vng4u6n7FMSe55nrUsUnGV6CsWU+LcqDAPtQqk9TdRmQ2w5nyBcOF74pDxBd8ODJjL684WZdbPi8LdxIU8UPqmMAXbFmlPC+6uH8sUmAnHp76YdYAMa4uW8HnWoK/u9VvQls7mxhgXiAFtAbgEGgnWsNWDzrTrwpJKiAbIGJkVMR8RoZnrQ8D0gAAALEBnhp0Qn8AB+9l2ZJgP0xR/fotz0XhJuwA6RCgamD1WfL8U/wnF5yDKQgrT+suFEHTuAZ6VLRgI5t/H6ZzzYTlz7B2xRVV+SnEpvFL4A0fnxwyUC8Jmps2q957sz4GUDyHonm4ey6uvQCm7piE/NeJUSTZbwLP4dSvnEylyg5dPmQIRTkOrqGOtVeymTAM0WNKS+mBLyb25w4c8C8ncziO5383jNxfHEKF610WswAnV1UAAADZAZ4cakJ/AAfx4vj0f0LVuPbxV5+2AvgL5AE6UUYp1dp5Uxdg+R1+OrJUrbmZVkrKmB93grUE8UmXq7BqUsOFfliMUmxhN46DwZHLdM8w58SCeXZuMTzSwd9N9NA2S0IcbqVELvNp60R8GNdLeYuTEmgO4aglLNfFgKZRxKE/2nBEURoB74fKrSDezp8YtdbTtwODg3XEripr1FpvzyiRJymQJ5k9JAbOjFG+GLck37yKKJ0ZB2riCvoRel733KY90g2zzRn0lkhWE7LlSx0YMHdcrZ0PvxQmrQAAATFBmgFJqEFsmUwIb//+p4QAAAcb2U/BgJsZKVvBq8slDpBABcmtLQgTo/seo4A0iL5JmewqD/2qFjQZjwFScLOmBoQcriNNK7XPFj48HqMQZNtwgxoBitJZ3D5sNnM5wQ2eZWCxhw4Uqdo+qurQUM4pWrH0O8ozQAh0eZNrruw93OwbjHHIcDnb9RBmdpCaXbrPYdfpzALedhksp8ixvkgka+1Jmbf89T8E5IabYFKYsLa/5BEpMe+iSPn7Q5rtXZbxxc7hnxwLGPa3hSQTrwQDc9XX+mj4aAMN5MV2F6noLuTZZAGbwXs+CZIoNTyVUDpzIaEYvHeUdhgogEnJ/umGc249GsnUswiGTiMn9G6S7mTcoFA5K8Y+G3ZbW5igfzjirruRRcimxyUadgxvLHykgAAAAM1Bnj9FFSwr/wFs5MuPdBN7G0yH6b7g8HAph09yoNlD9J2AOFAshdWguGCIEAK1qze289GDyRkW84526d+JrXBItLr6s78oqt6mim9kU3kEAh++pP5Loug66MrX9Se12aNkcgMVV2AGyXZoHiUNMT00ixVz2nwleoq4cIX/agSCkQeOBkzXBYyOeeuwMgNwMA0oQdzymub1vFfLb/tz5T60M4lXtgdWjh02PxLYP0zJr58CAuLaSlYUEdlQrrc0L0iKH227knoMfxsONA8YAAAAvQGeXnRCfwAH72XZkmA/TFH9+i3Ozbu9AEI8rmUbVXgUg6yXWNHAt1YmBIL1eqXS/UiwGffFzXEeWceYkIwjC0hTLy1uAZOdPls5yvUukPj/BNqIhOahcn1zjAdpLoXMRxlMCbbvEwtha6sAewvT9iwpmkUtpKr1tf7HSvCzC+6Z0uPWTg8xhjsiJs8VkiHjzdzHLqxS5cwZnSCryV43SS+zwqLnBMbYSEsdD2oZJd/27SvUVSCYaI1zvsTaDwAAANEBnkBqQn8AB/Hi+PR/QtW49vFXn7Um6YvYRtpn/udgAVaNG5x3/7lvYyPz8CgpGAiAvNFOaQK++sXRsPYKLM0mi1tiPl4hfVjZMViVdLk7moGl5lOkBUn+99JBtkO618vVm7/ZPY3CfdjoM3rLIl0EQimgH1dGdomwbNXCC8xNJB00tt9DSvp3qTJ4ylTo27RpyOf4vBv4DJ3RNFX0l3iU1mvXGWwfrq9MgYhGbvt3GE/sJooAbxN9aM1vVaCw36fwgycrOOqZ4qs+ASpJGUC7gAAAAUBBmkVJqEFsmUwIb//+p4QAAAMCke8BsR48rlNTTLCp+AAQPgL6VBI5Qq4EvwCDZf4Wzrk3ZmHdHkgwukpoJbRP7weirczDxuyB0wTp1sjrdJX0q+m6k8dgfe85U8wfi5tMZ5VkcRANefaXuL5zTVyvXgJtqPIe3WbiKoiQzCUltMUlQsRCrJRl91bJB9IrpuOBLxuIILCpR5dIKl0fzm5JJuU1pK1/v0g14RWs0k85cOnr6pivbGra2buhuRlDzW4WayGBAmfDgvc6fDEGXTaKZ7wq30R0PQZFr3FP4jaXjoBHKb50F2UCidKS/LQ0Kl3XWBNSMFHjMMr5yn61190x6Vlo/MFh5y65C2UAAv5QXsxoNIgKmIWog2zqtzJFOThzn+GVOhb3aY6Ow9LT8oWEdF4OM2fP44kIe9v6YOUbgQAAAPNBnmNFFSwr/wFs5MuPdBN7G0yH6b7g8HAph09yoNlD4peeSzL1+spCiVzADgyD8brD9axrhEXEbxgsHJsR/Lgy8lNbbwI3OPH8pW4zmiS2k6vIiXyEoKWNrZNDcsVHgUBZN0aztj0wrseLGx2oLKeVHtc5oLDekFXrrQB7c7RYu55FJkuISmpdu/HzCVecmFjqiu+HSZQp8RfLr0o9OnkZLliUvQupLP8HPiwIwf2+t8sFvLlN7t47fwrBNZH5ktMdNUtwXuQb1oobOcBauoj/Wgg3v2lUs03RfxP2O2/Tive498kXr/URD7A+iBj8zHg/gUEAAACzAZ6CdEJ/AAfvZdmSYD9MUf36Lc7LEbtbtbg9Y//85gCj6aCAIgG9lc2bomWj/mIjLd3WRSsO91XhzXmKegualCJmhM+8pHtRBFXYpugFmHiOpWXB3tKke1rPKVQY+jNmT3vIlSXcwIMW9oaa7Vr8Y0/3+7t5PEW5AmgtmcSqgmNvs/2b347/mUB2YLLH5AjzGjAqrNSYlTf377rZG8uC32+gKWzLlxbBTzS6EFtwBoKgd0EAAADhAZ6EakJ/AAfx4vj0f0LVuPbxV5+1wegTau17ayoAqn/cPFgYt7U50aKTydLpPqn/6MohO4ozpyWYpxPy4Ls+QwZFtZFo4WWYG8CzMwQzqv6TIdCmeYHu2M3EiioTOv8yhA1ApNtPVPVp21kFa3FZmV/1A5dOkapCVC83xJRrIzb+Bw6/6UTlPuQh5wbW1oHll/B25v8bziygoJd1inwUgW442hmvEG9Q+zHPFUvVt4B/YOSCTIk3qnSQyAGDCv7VcePGC/LNSjffQIZ3+sQNGfSklMlc/S7U84j1tfpR4K+BAAABBEGaiUmoQWyZTAhv//6nhAAAAwJt/dIhsOIL9FWZc5Zrmojw1AYNXNM2TYM2GFp4R/dHcw5Gg5eCvn3Yij5Zwc+RBp3U+ex6oVd6Sepir+jXRHaEHz6HhD2PVJH6f8Y3LJhUA8kchfa5vKvbwbRWPZ6EM+W/dK+m/oPndqHn95WZnB2SjWmvF7MfkuKXzGEl2rR+bfZWBmdGFY02Cadv9CZddEFZ+We2yEhxAPL0Q4zqBUPz9LyFmPjv1n+TP2vFKyjPCRtcHuxmXv9VHsP/Eog1mM+7SN+p8XCigOoNjQie837D1hX2dejEZpww5mXgMUQiKoLueTIJ+/vZohoZCZ8cErVbAAAA0EGep0UVLCv/AWzky490E3sbTIfpvuDwcCmHT3Kg2UPil55LZYF+uAK35ip6JLHowT5TLj/YdYXg7AOaL0fPwW34YN2WHJOOgu9ip/BM0MT0thn0CVpoljManeUtX8FsEhMFB7+D3jtf7v9XeH+h8zJHvRv+qEydUe7coqhocDWdMXKgV89PLhDr5PexWpdGQmkZacvbsSInBDhRMSCUIljrNskc6xnzEyL1nrGHASqVMoyov24dD2KqUQUxzmuwm45goNh5WqiYR8OOLfn8M+EAAAC/AZ7GdEJ/AAfvZdmSYD9MUf36Lc7IllzJYkkAAQBW/JVWK+bHDCdCihunKYkPWquzpF7Qj7qRQZDEVkx5WlyVnCcGzXlXkW1ijBXeX2AygAae4GJp9klofkFI+/sphWsleVVgSa097kS+jnn3h6G1dL3jiSAJjcXsn0RVPs6l/OKUmeeRN7DSh3ytGJrtSC0wtf1SKiNL0kxvfqgaDgeeiBzY7Vs62wSfAzeeyfrw0MGksNRDrmOjsbalK9mxlBAAAAC6AZ7IakJ/AAfx4vj0f0LVuPbxV5+1JZgoNZtVUSPcj5IC795YZDtJBIwBDxbTAGTiR8sABvaAWmkB86FGiXYGguI4L8aiZwUDl++4+ZYZAFxtNh99pJtymaT71DJHMIO2Btd8kdqbmQsrDz1IAgHvHdXWgcMeNBoJjjIVLaVW/K8FbntMI7Mhsks5TlOgDfRJX1fbtW5xanDt2AxKZNIbvSUp2QRB9kkKrAYztwN3cQyYFjfyxZTzgMqAAAABMEGazUmoQWyZTAhv//6nhAAAAwJd03tRTVA7sBfteUq35BWWExG0AJXclax0dXeeqfHFRIg+1G6YLBKKqRsbTCBJKYF11f/n10lPJyNi2xhkcBtdW0dpWBTmge1iifBrj21Q6CzbgnP7uolNlEwb8h/HNqTudtv+VBTi6bBw/6VTjsJzI40tGE8c6BVnVet3zou+SIvLMzmmdGOqIB9yO78Dhdxj9aASS2nItLNhnvHFaE10ttLH4KabG+l63sSRl/qQcervXOGhR32o5QzXjvJAtjMy/aSBJJv6YIydbCIm3HJsQEiJwbN48uYjC0zvo7qUuYKOzMIjh0DZNYrz0PBvT3hwMSGuxIugtIUEz7qIiY+KxyVByKg1I0OwShl8vOKNNANnxCKUtlGuPxWAi8EAAAEAQZ7rRRUsK/8BbOTLj3QTextMh+m+4PBwKYdPcqDZQ+KXnktRE3uPcpT2QBOxZJhlu+OWomzaTuQM6GZNzG7ONTa1FA7H1tPHEoXqhMTU8DzhYRtvHNI/18PaCtEb4uDDejGCxcaB4QASX7A5cyRG3Zyf9ULjZ55RpCop8Wd+/z63LRwxb0utZuNJcmRavvAo3p9Yq0xW39d0hydn3DxmMQOk/wcJhv6ZHMJw7D6HdiZRR9ae/EcDl+JJ18S52ukB4/oJvvKAhhVP/0LwHqfPMCTvnGPaAE7CjU/cn+a0blsBW/TfberHrZ5uMGTS6UBaq1z4WztPgHLngITPyZcCqgAAAMcBnwp0Qn8AB+9l2ZJgP0xR/fotzsiWXMlpTaIExGz7of9jXAEIjRnnau+r2ECtMK8CnxdE0Xw/DeHg0WQaUTr/zq9x6Z7ExI3N05yP6/g79z+ojT1d7FrLG3P7Tgug4ouzXdUIBUgKvQhygGBhLlSUzunGfBcSJXjTFjyaltSjh3s7e0tRXwqFI4ZLQMrTZJrI/8xi7XQ2XHMnklPFI/T3yq/pJMh9OQNw7o5HnSITpmTmeMxrKMLnwwulnTLmzPa9KuFo8FJAAAAArQGfDGpCfwAH8eL49H9C1bj28VeftSWYKDZDqAF4PJYje+Vj8idO0JBV/+yMgBP1H3lySrzPjzur/TOg2+K4K5cvl03c9WgmFyG0qfx78lLxtyqwKogsqLIEh0K1qFEvq6v6CQqNvP4z+1P09fIY8TKt0WzZ54Pk93nzgVVTM7Db4ngVKhvdKuf+wWQuGVewHABfv1cD1vivnz74IotsrtZloD8fFz5hybPeqB8xAAABTUGbEUmoQWyZTAhv//6nhAAAAwDno2XB/HUANYYUMeHANL3Zzim0r9yMz9/IqBbguXCdXAinyL3dQSgFgLVO//7R6o22XOPVtMZzTWJ5yP5a9rQ3Hhe6coqIJN1E9vQxjGc2W9smePp9Ec4MgPodyepYhzV+y0hBsSAU2U2X+6hOlyIC9lOlbkpMICOELd6xKuRkKbT7ueVrHxMw6TMN0nx5+qS80Zp5jpJ0W3yt5C75KXPG6AlVIbsFEEXJpAg6wvMz/3Ib5H+urhgfXvCRTZ5rIaZPKUdYtVpx3RLYW5+NCioxPGLzQJBn8exoUmS57Dpw+LlR32DBzb2NDitLUz8RRbfIUHkwhlFF+cWo60vRX9/u02P6LU7qKFyUdqfzOeJRL/kTI34av1MnCieoqhbVp7aP3wXpQmNc+DIY0G0Ao7Td8WZWPaPyhrCZSQAAALxBny9FFSwr/wFs5MuPdBN7G0yH6b7g8HAph09yoNlD4peeS1EFLTZCUy0F1RqAErQ568GgLKx2Mxg0kXw8GASRO3Rtz575jBQlwStjTMARw7CZYmlTYva4LxaB4RTFzGPSsTtYl9MfB+YsMchoewfm+jiXWPy4Dvds1QxIWh4Y1dGesbcxCDF6vOSbWWonkNpm3NMwOZNXOalqmwGZHvlhK6M+S4do2TDkwRNc7VcXHRpCPI9iwP9NeJQR8QAAAKcBn050Qn8AB+9l2ZJgP0xR/fotzsiWXMlk9WqBzmGquTx13TFtHivyaQByexFDXSSAuHxBIP7sBsSWWz8azeOaHubVx10BdtDUz8DDiTB42n068+QtTgkVHimVsxibIM+9dVkTSM2iEcF4RmP4+yiMRxCgA+P+chPumMv2e0eCh49QojQ5ju5u1PKYaAEZwZWTgJf5TgR+FajYNrIyKtMNfGEKBqIPmAAAAJ0Bn1BqQn8AB/Hi+PR/QtW49vFXn7UlmCg1mVkSaQcfil0LtlK2TSiaK7eXEC78PDrGABO3qR4l7KcwPx9oScDz3IIzaSZWkUlIpR2Z2bt+4b35Bo4szpj/6dlmgK+1ruF/YMaw8kfh9b5I6Sa3O1YZ2jOcsm68P1Boq8D8cEc2Z+iDkxRv1jzqtWmj2b09QyrVUNaqa3Iiosu8hCXgAAABI0GbVUmoQWyZTAhv//6nhAAAAwD4J+bgE18+T8uwP03OHt/TAoA/iUWOIa5Iqs5RZXM4HbPqvH2t4avzXlf8bXwbt/XK2MKI7mjNqbb47v28HFsAgF5bhS/JZpixN/yPxoStVC/C1vKzqfKOMhGB5iw4nHt9yqBV3y2bZKAxQeJ3EP6BrJuPTiPhVPQq85YV+kR0EHP/b/mlDJUlp3LZc03U86v0Ov0Qb3N3i3uDpa6o1HhgLq3cf6TZGfd/kIV2QTcTcU6IVX7kyrG7+v6So+/PR4RViUQ+Md6qlKgmTLy9kDZArFdAdGDlLgDR1cC5vhsk9WuKiLiqFCxoTGroo675B86ex6fPUngfFE57Ol9E2Dc+aXC2eipPHAGlIWoLrmNNwQAAANBBn3NFFSwr/wFs5MuPdBN7G0yH6b7g8HAph09yoNlD4peeS1EFLTsfKKEALb7ytIOB065xDd4uaZmuQm5tONTCR8sH5CMYN3NMxys4WgaiUXd9mrH/Bm6dzkQ2ZFmGqSSolOuzjqEWuEZLq2AYfvKCUT1zYAV8eLYCDi9VKSYvVM9DePKQTNppg4TJrEZCO3wyk8kitbjgNsAJ8vWuvHpJ1nOI6odVHef6keTNRaDDnM7JdLrA2mTK0DxQF9Ogb4csDsLn4zSu6KA9U1xTzRuAAAAA1AGfknRCfwAH72XZkmA/TFH9+i3OyJZcyWT1aoHWAIqWF6eIAxvPXNi560dggATgYmAr8NyeOzjXkN8HKE0LDPFGLG8hHVjHGIpvmQADnOv/OiwEPFoGxKX8Og0D2jxyXrDO++vMp1COKnrjgwWzurctw8LXfme77E08banaNyBtrFMQjfgUy/V+7N8+O/RLgMoUAwRguXhvcmJ2xQBZ8qnKQFd/lGU9pHx0ONAdY5kK0EDIS+yeKtsr0wgXHRRWFin8bpR4XAd5/a4nXmyz/UfBagLuAAAA0AGflGpCfwAH8eL49H9C1bj28VeftSWYKDWZWRJqoTKADdcRD80HywwzalU96nastnITexU+knD5ZHG12mnn702QYrS0argQb/isB11mQoQmhJo/9YdNmFA7XBhY3oIKwltj+ToLk6/gyszcGyDxIn5/l7zq2WDq2uvTHgSJ7UiKyfKSQI8zOAx+ubODYUJYDZ+H+qWBKuG+ex1Y5GJFkUCJ/q1x0DOmyz0xrJXPg95rJ1pMkeAa7M1mlwg9poq2e/JAPh0qiFFzytjG/9FAlYEAAAFkQZuZSahBbJlMCG///qeEAAADAPl7KfgweOugardoHf1UaZ6DcQAijOSDxErxzP9V+gxupzewB/kgFDuwwW47GPkiW0qBGG0rUKhNZQv24Rs4235mj2f8uiTHrERGbknWm3E7qmepfwqt8xA48rrU5HoFIa8nXyN5Q1L+Q9kZ7S/qbGwcGvF7mRX1NWKrzMYxkvgETzT6W760EV141m6kkCcqL0Nll/0sRBq5jkmVgC2nGkkEdofE0rION8y0VLB8DYUjyA0cQ7/ONJmnh9cy1lNdtC6DRnPGct3j3skc33XJ5/Jy/v0b3y/BInNtxJ62Z5VqcfJHV6cqNUlOK9wXuzumtvWrDEQtj3LtWr63TadVO+3lBxSwy/gE6SaorDMXqpE07U9YYzbZsn7+KoY8uWDhRHZDLmObte6AC3Ao2kKMt9ugEipUTy1Vj5K+XCVwkNhf5gzDovvMa1O7whY2IjaSpoAAAADnQZ+3RRUsK/8BbOTLj3QTextMh+m+4PBwKYdPcqDZQ+KXnktRBTsSHFB9w/WwBD370/i5gzyvLx6oMqRsSz4o4/4ZLMGQcJ4gVqrlTOMiTJSMd/fVb3Nr1g/7PI1MEMyD2XXFqzo24dD/Tu8QOh1fNeIZEPXGObuVVahCeYSMNdyirjvoZVjxbD4SA8v6BmKOzwFmDrOX7K63O2Kgn/mn92+wvGihHt8+G6qNSxsJbw+wFJNmTzgRwIMtdiBLx40Igb26Sz+md0SswNJZrdx5Oc6s522Ot+cReRUS+7wJ37OHLpXtnGpBAAAAuwGf1nRCfwAH72XZkmA/TFH9+i3OyJZcyWT1apzJl/t2wAQiNGedq+X8ri35EoTMNnCBo7wsf+wA9piCmRAny7Vvq2hE4P0uBmoixkXr2lMViUf3LKcT8WlmtBUczOFsNfHRgrdGtvGaIXl7ISQtRBvqgdygMoYBjfxQHKCR1wN7W8OQCLB/uBTRRRAKUQTjQcZBBtXIGwyBeuPinHLimBHkhC1Rmf36im3x7OOmucx1Zw3aN8thw50lImEAAAC+AZ/YakJ/AAfx4vj0f0LVuPbxV5+1JZgoNZlZGyEbih7QWEAOVeBZZSD5Mt0IKagDOl3nn6j5hPCcaJFuGoJHxlNb68GD5SMwzJf96VxJKwo24lq0BJfpsNs4AnNoi+OmWX4qX3kP2krc+ygGNLrcUDDC3TfMJeZOq5d4KJYV/B8ujPO1fL+gY8kyGohfksgni9gqaTEH+qHwW6+/DOatC5zED/9sq/55F/OZhaLaqNtkRSxQ0065JHQE+nvB8wAAASpBm91JqEFsmUwIb//+p4QAAAMAYeZ7fABOOj1/SYCmVUrjqShmLBv3gCP+1o4xe2mlNhRjw+PYhw2jYa/YQg+vjtqXZl3oDT3CcDeJMNt+wDQ95dnug/y5/196UbfT/QignEmZeCdyrujJK7NdJ/TUiLd5kljbyTpWxM1dBHJhIAf5rowglIhXRe8aXjerV8JtU5JAUT375ddKLngBHOrGEMlPiKA5CR1YKg8VAYM4D4XaEiPaA3B/YJh1Xv74WbowIKHRNgTd4xz/H45geT9n3xH6zPKblOBNGvY0ba1Z/VR/b0Uy6UhodQK5pn77T2u1BMuduEzRfinD9uNLoTKrpOQf95sFopmKGYLyUtAQ/yyMx1wvbSbyWv5b+z20/fWFIHx1cVGPv0PtAAAA+0Gf+0UVLCv/AWzky490E3sbTIfpvuDwcCmHT3Kg2UPil55LUQUazAbuyeOOC76FABFXt4WZl+TCmyw0yAJmm8REyRsRCE+9WZylbNjy4sM2n0BCj3wlUBxjbeG5/da+PuRDZvAanF/nR9KvQOdVSyhjBTuUoIWT9JWsuv/7U2I6I5v/iHy1DBjuGtnSVQK5yDdZUYtNoxCbVc8uxkUbpIWWTfBaRsqHic8QuUTcFlU+NwQB6B9LBy9UOW+IngxCa3+DUUMFjJVZ4pZ7aIyaS6EWNrySujeeK2QE3EzJTuTZPetcLJ0fcSXhxw6V5BAK2hwWWPqmVsKBzjGpAAAA6QGeGnRCfwAH72XZkmA/TFH9+i3OyJZcyWT1aiNv2d/3OwAKtGcRC12MDtwk5Jb/hU/gZ7lwLrjZY3jWzh70MVH9QGgAe97DpTKosaadomPGu84DkldH/cz60En+9xZm5gj4riPJr5FM/Fy+KrLjvxtZWUkGG1qxLM8GVrLDzlNzLfE7KmQg7pjU7QZGlTGLupCrD42ubLTgKektaamOBMmAq6fkWqkE9WQlRCHbn5mCwmz09nNM3ThuJquqTvUpKo/eyDd7IYWyHcyM3io6TnxsfR8w3vRtqE2sAKmCSD7pjBZANf5H0ON7AAAA5gGeHGpCfwAH8eL49H9C1bj28VeftSWYKDWZWQUKtVrvfEJ+5AAqT+m7QZPCpNcquIXKHuX7zjB/L9Y4pBQsIz/2vFSHZqtjrGpqJM6kO1WcUgT3goDHXrJ2onK9VlBMd9+I4+vmmbVBiAP7inAyNjH/ssG5ipgyoxOMUdO+4TuSWxGchcnZKIpILfyX23Miic3nNPa+iq1HpWV0D7M+OhVR/NBthsa1HGstgRcB/ZO6y2yD+vhH5KrUEvV+Yky8D1vZ+wXyT97q61S4CA6T4VC8yz9370vwo48ciZBbm+1lSHcCKgbNAAABBUGaAUmoQWyZTAhv//6nhAAAAwBifZUz3jwfVTfgxS1t2ZkABB/gNkGYcjbWXJkUuI1N04wZEi/x3I8hcH+fiDDM8v41+v572Nov8D3m/i4MynWOTrYbSa0eMTGbEO1hzuUhSpusQQlGsXmesiKvZyOcUheoVLpPFH6JGWnNut9vnWhPMJBSViZtvuR5U7N1Lobh9UhnQVN1CfUPV0S4R3o+8+/HQdkxucG6Mm8rl15lPQYIqicZrqxamP0YJbo7CiZ8HStPX77EjGhM45gKFwHbBZXVgyZvsfMs69fwdMut239BjDF0/SUPGCNrNiQWQ1grExl8wG1T9RNxpsU7LPSz2nZD+QAAAIJBnj9FFSwr/wFs5MuPdBN7G0yH6b7g8HAph09yoNlD4peeS1EFGswG+w8uWBlvxADbmSU4vZuuRUn1Sv3YwOejDaAI16BNf7GIBcbflDUQ5O3mm7FemI4PRmRz+fXuGfxBkE67losixE51VmKTpNkzBUoXxl2FuYAxP6pA3fDU0h3QAAAAnQGeXnRCfwAH72XZkmA/TFH9+i3OyJZcyWT1aiU9ufAByj94H8lnOjj/FsuQnTOub6nASMnxC2VAmSbMRtJC594wwZTdHIjzyGOiPohSmTg90VKOab3zk24GYP8Gk4wjpsR+d5FFMgG9u3WPqhcqfmDx9ngLJMdfi7zfodYRKkVuDAk74qN/kASujOzaiuKhM2YN1jHH0UrpewTo+YEAAACRAZ5AakJ/AAfx4vj0f0LVuPbxV5+1JZgoNZlZBKgvE4AHAx88vrvPK1Pe+/CqPeYwofqq6EqAXbpDk2gU+Brv0f0qhDY7Kfq8gneDByu+dR5eX2rO6bqZxk3Cc19giivezzc/jrsqE/5jk1H+gS0NRmQ9/kDSo+kKQCiqofwY4xVprGzWutH5Nkwkpo+MWd5CXgAAAQxBmkVJqEFsmUwIb//+p4QAAAMAZPXvw45aFAC3rfJJ914tsmUeohicatzyn/dvoMyZ1dhqFgfpBCoWEeLa0/10/3m06gwmb2Q8BZwTArYVUVs1Zx43lxcc7PP6er5W3x8LvfwcASx1lsJd9SIT7bDZluKFEhMcTfTbJygcTtCvIDCfLsWowXmilaTuLxLYcAgH7e9wCBN1QcTdIBy2ENtM/sKxKW9kV08iBGmqb0xLym+2q8CmZ4M4m+TGGvXa5lUwqVZ7d7SpMMeRX0DzTD8vmJULMKGorgvYV949gw3/4B58kwGwwl/f4JpmSaST3fX/9JjrfM/CxTj9xgjtMRauMz4+nKtL/O8pJ5oRAAAAuUGeY0UVLCv/AWzky490E3sbTIfpvuDwcCmHT3Kg2UPil55LUQUazAd9/gbiAA4paMw8ebUwu5tAskkEydrynfJp2+Rf7AQ/V4udDDeqTMtESu0BlmzkIkth3fKZCHXA4YqmHTzbWCE1eKIccZs+tFdmvvmmy5Y7PJjKoqH6v6ex9+v0nlfSIUD1KP9hmS82CHzxl/f2XDx4SalU/Nv7BJBHYExtOpSKsjoXBtnIgYmz/qwVp6YE/sOmAAAArgGegnRCfwAH72XZkmA/TFH9+i3OyJZcyWT1aiNuscXAA4KSH3SeWZn6W4rSTb2xx2JMydBMrhOZGFMKDUdewsyqB6WtKViXo3SRkQu3RCqx4+uh19phzFwv+kx+mnZAkp7vuVKXlb5Plx7kakDon7v2+MwHX/pJ1pPIavFP2TnIEqBGg8HlzcAQC0sOgMuUQA8MgBJYZJRSQW+QkRGv3ho/G87AwXr+85xBAY4OOQAAAL8BnoRqQn8AB/Hi+PR/QtW49vFXn7UlmCg1mVkFLtWwOACw+RUNY0ctksE7YupRmcsrgkVEBJza3MTeJEleXXOjlyNbtHISfbI0iZ5uq06JWKgV9MIXrG7WG8xTq6DljvzgzfGEeHSRn8naNrWtVR+0PDC5ZDm4FeigenvGU3DgLr4IihJJoTAsbsosfoxTHgmOQ9M472izxJDyun/LJlwMyCbrkvbI2/TqOdTcxBZfFfMbCX/ao0N4/X93R+Q+YQAAAUNBmolJqEFsmUwIb//+p4QAAAMAZP2U/Bg0TfHAB0GF26MyvdxvUrG1ctlI8L/QOmGEaxqgPJfq39KW3JJT35HmGpUflpyArUOMjTGptAwKLvDu2LmHQ6+RONiwStJDcPJ+6/vqTjC1YCYpBLWwImETv4To+c6MoullDozJzPrRmUPsDm37PJLfkUPIAxZ5xdwXU65g4ABa/XB1p9LrWjeH3ClvGsPl+VHLbH5tFwIt10SOkXbdY6Wpg7kPX/TONf/XRK7bQoOXKC0W8kJIkes8WrU8jH8h1QtV6GlC9HQNB5G9ESUQq0+uQMVdYYunT7/0iS3YoBY0Wz18vGPot7aCy7xboM1Dw9d12L71cICJ0wl4evSCNqJoDjXkuliDP+G1ZmhPiIwpKdfTbANQs4PFZ1GGzD49mmVpqebQMDy1yt9CzQAAANxBnqdFFSwr/wFs5MuPdBN7G0yH6b7g8HAph09yoNlD4peeS1EFGswHjPPAoWVjVh350u/gYuzDgBxiqOxUmD3bXyg3o1tVYE7cXDhVslH1t4Kc0J796wMV8KNFyNwpWf6D/lEHxPurhx/iaCtMZlYSFaSdLJIWL05wJ3Co5h+papPQc8oyPEkzGpZ1aNLvDl66lVyPqpAVJTtxFCi4U4d6wl9b6Av3b/d3Ej0/Cd6ANeN7u6NNgZImdrLe3HZWlu8RrXx4d2FkQ6W/nWuoOswf/9kjdP6FZ5iJawUFAAAArQGexnRCfwAH72XZkmA/TFH9+i3OyJZcyWT1aiY884ApJ0zRe7XQiRjiGS7qAwirqFACdJSobonEaYC/HOKIcqsUtvixfeNMnML27t90+CSNNkV2POixddn+YiP3Wsb/4eZpA3dhGqK0XXqO9dFVf/0COTsbAPjNNIicSHyUUiYxONygzGKGzo1BWH1kNukdoz74QGsHEY7gKvhVIKcc0hmJiSMjCo+njikjMRbQAAAAzgGeyGpCfwAH8eL49H9C1bj28VeftSWYKDWZWQTHDOACPdvYVTE0cmnRm2dqUvNv6akCKNMTLVBNRZY5ObtF+NpVce6Q4/H3si7M4ppZ3zesHVDCGr1eTkVYRS+/7xVg/cTJxbyCamieYCu/hiDvCt4rej6JBfMYRUsvk9TWFFcDNON2Z94LghP1fYk3f2YSTexKBupeMyZUN2VZXK6Rs42yckc9g2j9meX9T1xZoBCYxkpM1s8CEDhALnUaKiNvhtsqFqGZGTPi4CHpgwG9AAABRUGazUmoQWyZTAhv//6nhAAAAwBm4uSABam3WNpuYGiFWLcVae+zdNPieWZoANBTs3oNNzLgplLjZf82QbcdFx2mmuCUjfJqCrikcD5K6dmdM/MvJw6GKOJk9EJSNoDPzpu9M7J7Xsso5V8N9VQDIb8VOcUk9mlIDJneLojCBN3KfY2gi7BhMSjPgOz9jN668pJmwNJaHw3hRpRfRSGFOwNIcHl6sIumRkBxMfkMiHGRVmeUl9Y/1Zjn5o1Wi9BO/cDtLA8ityZb71Dqc1kb/jnUS0QXVGLTiI2r+fOu03+fXz7LIctbnuRKj3WB4orfENLgLfzftnG0r+GgBuydD5RKhMox+3+paVpIzLlIGWvrwUbAAkSf/HMu+2et+R24uu7DWtBYqjFlQ2PNb0hXzS+fEiqg8ggROc54j+kiBCCGYjO0qgkAAADpQZ7rRRUsK/8BbOTLj3QTextMh+m+4PBwKYdPcqDZQ+KXnktRBRrMCBct2vFB9wy6ACKv6RY+FOb6LG+bfuUCAxmup2y+XrahlHkdosHMN84T6oWjyE79s+Kek0Dl1KVFa9rq/fi7p0lizska0Gq8swE5McFh9mL6pzoxyzQw0hhOB0Zs0Mh5i9jkATkMRsxg0mw4H/1wmtT6kXNeQmGxGpvylhVVubsJIKDecYh32zPwQNlLQodjuzD7gr1Qy/ZPitVGE5Ddog8VppReKKkOWiPH07xpUsBhgSjTDZEiU6NPH5wDQKp/rRcAAACiAZ8KdEJ/AAfvZdmSYD9MUf36Lc7IllzJZPVqJG/Z2Dn5mAH9Pbc5me235cHvhU2YqB3sjZHRdBccdRTi+yYPNdGuz5iWZJyYz9QEnNT6YeZP81bzHIOZk7+iCWd6CLDX/z2Dadq+cI2zP/HCDX1JI5NNzTf+ZivBbl5vRsNGI+IVWiioFIi4nyHWhHdFGYlaSmQpDKqZh4rgOEdxBIcTgwNqAAAA5wGfDGpCfwAH8eL49H9C1bj28VeftSWYKDWZWQVStenGFsRJOgAjUdxf2qq7n8E3TL4KlHrZPvMTXUhX6B9DH4ow+Xkv2l9dbBVwge19OWsgCaDQHv7vQuEiGVmeNjnhjqCYsQDZKUFokkF6x+aqUYVl+tbBI0MASSSW1+boUK2RxkM/WeWvavE/9M4LBpzw4AVcuyVbsnMS0+9grNUxjx6D97TteVfCEG4OLY3m8oMJASWu3DsNnnlrG0+XBu+d0rEe7e8zB+nHCpWtyxjwgZhiOSdxyXd+HHZe2LcX95PLKvTH3ICpgQAAASdBmxFJqEFsmUwIb//+p4QAAAMAZ32VNHd3W9akNO2BqFB4y+vVtu5hzms9++2bMzTbZfEN/NxzIg2v0Zc46JDc2rHEjYXt52L2ai7RLF3mOYuhU2fI6iKuuHw49WLPV/sfzea/nBxKrqJOzeYjDLDNyoctBoQvQYuHeOhqem0ucUOAXMkJZi4mLiK3+qCw8slFDfm7X6Ughkht44ptFmMG8MNgONhc0vxuepnFVeSkfvbSG+6LMPxKd8MIRCJy7+f1VGQYj8/eEXAJdj0LoMv575MDNpZG05vJbDp7D7Dv0IcDC8KQ3vpuqk1fJrYxDj+/dsHH7xFK56+VZQMH5uML7DAfrcts4/OfvV0lBs0uG0SdcuAgyqQ4IH+o5mhtprRSFDJSWl/xAAAAs0GfL0UVLCv/AWzky490E3sbTIfpvuDwcCmHT3Kg2UPil55LUQUazAgqq7vU7MY7CtpwAczvH9A+zpVeGmWeA1v5TiRA+plHe1xXFwRJfri6zszij2kr1Px17+BDBQdDCi31iSiikdyn4C+tGQhUMz8xDXP3Np1bSyDf4VlNwqAZKUf6f19ZZ2yBkqoAgRFjYS4GeRXooHtaSOJYUMr3qQHbhJc8cH6Kbkd6fL41qvlK4B9xAAAAiwGfTnRCfwAH72XZkmA/TFH9+i3OyJZcyWT1aiYujggxFP/TDKqACBXniyouVC5hx+3jWKE2bZUlrPYBqGDMapjYnA2ktsk3dv9oLTjL50agbGWD9ZGQ3pxBxYm6EvPEhN9xEC1RLtDgBf86vEjNJIzdhao/+9tT6Yeq+UJiQHP6kWbEK9HQxc4Ak4AAAACHAZ9QakJ/AAfx4vj0f0LVuPbxV5+1JZgoNZlZBKy6rON1pAAsDXzZOLT4JEkZSmZ3TgqehMv14mRtn3MR+RbKuuC76zRV6QBOVJBKTAIwj0kXDO6ED060vrDNd2eAQE1tMRpuf8WtInWCn2bNdtxJFh+HKnTOhi4cys0jJItRRquiLNUS6wOuAAAA8UGbVUmoQWyZTAhv//6nhAAAAwAn/vCW8Juut3FJ+lwAG0oDOU514KaPpOp4/0OhwdYLymFwfwuuLUxNOb1n0YbRCsO25n10p5LuXQgEtg0KjIDdnAiywnyxrpwH7k2qDYmwp3uGn17zKemeag3iN3/MY41b9qEmY2IxPGwArezxZKfhTXTh3wI1hQoa6R7IpCbHl82/elraIlehigxR5FttVIj/1PAZ1ip7ZYrfwjbkYh1u5oJT1dKgbAkkeJP+4Dd4AUNJzEn+kLRGpeRN1SrT5I0d7MtGHbBzoDGjydsf80fAS8QjOGY8HSxMakO75hcAAACtQZ9zRRUsK/8BbOTLj3QTextMh+m+4PBwKYdPcqDZQ+KXnktRBRrMB1nemwzgunZNIs0+6bvtWdEAEQebhWUrbrL3UokXFiMcKtYJ5WQYiWsFVZt79wSwAHPNkoXzfe8uhCW65E62iMgZ1vbt2YoedXStS9rbx1OzGtl5HsuA3SZErjX9ZfyjzFLOJC6u1OxSomxS0yYYThEt360d+sk1GeVoHetApcwREpYAdMAAAABxAZ+SdEJ/AAfvZdmSYD9MUf36Lc7IllzJZPVqHJOlv58ol1oTBeWwqetXvMm1tccNx+RXJHbXxPKHo2BLIHieYx4JaU8u6l+Cx1V9aCgiUI7eUAHKGeYvwtKSIxSJQZg7Gjafi/LFFE3ZOx0lFmSKQoIAAACjAZ+UakJ/AAfx4vj0f0LVuPbxV5+1JZgoNZlZBIVZUHUpfYLtSdufZwATioRch9ewHyXzH20Bd5KCDc0tnHTwdxSwx8evMb1HVKjSodHlpiaRAGnVymKFLMunPrtPEUo3ajccadBsFhIhI6LBVwt8FiEfJS9kMu5Hn2ESUn4LW7QzlQFk0nQs+xOyZvWshDsYzwI27dpWFsX4yluLZDbrctQRLwAAAPBBm5lJqEFsmUwIb//+p4QAAAMAJ/zLuTwASu4gPsCGbQl3JQkvOwTe5AIl3IdDO79h6OZe9dcC5CT30fb3JwGcrMxv4R6Wk4U1/f803rchBRKoFkbBEvkHQSfqo/YLtfNGbxi3SnSiMNUyYQVmFTELkB5264Bq8gUPOCelrTzu+XvPM7DLJPNVrLhFlqQyW3aEnTu/PzEEgjoAH90wdJRjReWO/xz2VMizIoKqMCI0S1NpVN5nUcQkdw67qUabAC+fbegx97F3+M4Zexxa3vFPU54M+ynXQ+toofFVq3cQBw5sWcI9YkTe1xGq0Yd/KXgAAACtQZ+3RRUsK/8BbOTLj3QTextMh+m+4PBwKYdPcqDZQ+KXnktRBRrMB1mnSBtapvosAHKeosF8Hq715PCjs6lIKMVwLdEfAlemfbdLRly9JtqxH+RLGc5PXnmUaLU03Uls4pCUjQ1ddQ8W1PE+bDohFD4I9zIMF27zHNECL41NYG/GCPmbAb82LMiySROw6jQY7CUa0I/UdpWObzkpBHyyl/cB+nAImcM/ak02CFkAAACDAZ/WdEJ/AAfvZdmSYD9MUf36Lc7IllzJZPVqICyjbb7d1EiADizmyYajYSFFpUSiGCFVCt1FRchM02L/dSfi8TiToLD74mE+C2IpcLyLvnVjO26bFJgdaeEz/kDAcAi3q8eBHZW9sLqp0lLqGPUCSUuEcR7N2sly1YhmHndU1DdgCtkAAAC2AZ/YakJ/AAfx4vj0f0LVuPbxV5+1JZgoNZlZBIVZW9a9uD2+5jeAFSI72UCTZU7ceo1JXKEQ41a1K3xxRuUaZ3/J5X1Ub/+VyItE6+ubm/1+jVN4dM9z7dj3BHqmXxoa31BVdF0K3ddWaCCkylY49XoRuu8DB8zzLjzMTRN+Lg2KqAEImNUtlH0GRhyJBduWH2gkD0VSulJJLOlCnMVqfYAFbPWrb05Fch3wJbh+mzbVfp4AYEAAAAEhQZvdSahBbJlMCG///qeEAAADACf+8KwWIvAC2GRa9lEurm56I165IqH45e3/6I44r+MkJPi1PHaN/TKx7wJgRxNOeyaK2JNBs1eWlqq/PfK3BjsmyzQVPmk1m6NfD3gDMlVpozzeV/d/Xf5ppVYtrBL3dn1JWvN7V26tqPhBut7xxu7Ww/ybZSDcIDPeVeAsLWSSIOxiy+SvN9+4Ik013uZEZznJFi9lNN5oTfvjvhZCMEI2YT00I+nrCqSu3giIluJe/fgSYT1ouVvUf0Q9f39+k2O+uJo30Ko58ziIyMIiEYTVxc/u6IwZfx//niylRfEtLBVxhNrPIYycgAQuiRkHx1cjXrRsbhxjmgUFn+n7saJn8/MK1DJZ1GqkfmilxQAAAJJBn/tFFSwr/wFs5MuPdBN7G0yH6b7g8HAph09yoNlD4peeS1EFGswHWadIG4duEXzDQAcFP2YWjBFQF+J/i4Goc0CyinXwAbbg6kJBmUVRmyDpy1ALlk8wAc7CV4giz/ClFUj5oJu5Zf5m8KlEkYTpVSL4rjKiH5My2M9AYSnSb2vtrawroBcxcHeuyN/5J3MLuAAAAJABnhp0Qn8AB+9l2ZJgP0xR/fotzsiWXMlk9WogLKPV+LggVCYAOkZwZGaDEAr0HM/4ltPoF6rqAf4NNaj7saPbscEPNM84/cKtTmyHrU3I+hD1El8ZP5OA5Ucu8gYYm97zqbnFGSry/2v2FuzDIKViUBEKv5KCTXBbLQP0MLdTQll5ecIvBCZoKmQwzXoA64EAAACgAZ4cakJ/AAfx4vj0f0LVuPbxV5+1JZgoNZlZBIVZWLmFWbcIAQ2Kji4cvLjaqH320yVj0NaUP4c6J3YIs8tS3V+625IsPF7wdO6OCBP2wYM5z/XVjvo9Q4q5WCfFVAf/kpCsv7o/++0aLMNIKAxN+qn02VPVNfEXazIGX5DCC4uisqW3g3faJrkkR+cmS3KOb57kML7QrxIufRxNRqEGBQAAAQJBmgFJqEFsmUwIb//+p4QAAAMAJKo5XAC2kH5ht9ymvQWY2AYEGKNxfgdiDGl6oLvWcPO6U40GlkP6UGDD7zQ4ov93UHoiVe9cO2yxkl6FROE3A7RZkFTvAomCOTSNqJuP3Nr4i+VpCk3u6+2wILvo/MRz9EJjkCKJdWw79eRinOKURfbB54J06pwjgHOtYuGoYu9ufmFe0uhgpZpjfMyQOufrqYBmGB6g9FVsJ29veppRG6MeTgrElzVf5A5KKX0biQkGwY/lq8iP57n5Ji6FgtvHFAnL9pSUm4GGqj0HIRdg8Wz1OMSy24aGvT/EQovDjpdTveXxhUdLEw/l9mPBJQcAAADPQZ4/RRUsK/8BbOTLj3QTextMh+m+4PBwKYdPcqDZQ+KXnktRBRrMB1mnSBomwcAUwzem/gY8uudhZxbiG7KM8R2FmkLXsWK9MUpjl+zOrqK4EFJOTCEN33HZ2Cf31b19ghyHm5BDZ3Buh/FtkHmKFwFZaes33NC138nDJvFfs02iHSuvMQw0ZD5I57GArfI3vdtgzdsJq5vkNLnMDgDkEOowDNSd/AQ3zoaMtwWF03LaS3uku6MEOnD74CmG/AXd11BlhjNRDG/Fbh8EDAvYAAAAmQGeXnRCfwAH72XZkmA/TFH9+i3OyJZcyWT1aiAso6r8dNNJOfYAo0vzaFf3x+bPrtwnmhV6qpTD7Azvh/s7/5ZsgDTEvCTk9MMlMiOY7apMJbv1GjQioCHrO41vrDBPu6MjC9HvqqbbKLxQkecB4HuJ6oc0PNuelhqhlVwKBK+HS4YBtnDHB70txxxxlVLj5ymeV67h7sgB6QAAAKMBnkBqQn8AB/Hi+PR/QtW49vFXn7UlmCg1mVkEhVlcqG8Ao5YADVX69eFEg0a0stQFuyKFZBmb6EIO16sGnWOmRKPnC0dSTRP/mkDpymsSEF4fihEmKxACbEAGj9edjLmMwpJfPnvVLZlRddhu5+IkLbZ8PGp2aWzIHkkULdetYSZtPkxZtkRR/dcVL3T2ceL3DmEvy8znySK7ie+/vSlCNgwIAAAA9kGaRUmoQWyZTAhv//6nhAAAAwApG+xoMhNr4gBbH6Xzli27KB9b7YYQakwfvJDO05aouvlL1bCu4QQnCotPTcnGb5JcsoGpgLAUShg+hdzF7wqJV1Ti5UCOAaCiLLYsk50FokBexD6N+UYijSW1oAmjyPbPidEO4sWFtun5r8OFN8ZSExR/z/3EqpbSBvaUSoDnYRzWrnAlg9EbiTm9PN23UgqOnr60Z5h8E1dZvbT8zfgnKrfFd611ZZRfObtlIL7IgbMM+LAJUNg+8TQ/KlhsxEJqE5WOolcSvXfUxxYVxQUk10hUAk/hPUjsxKiWfXRt6XQYOQAAAN5BnmNFFSwr/wFs5MuPdBN7G0yH6b7g8HAph09yoNlD4peeS1EFGswHWadIHOYoSPdeEQBEhN85NAzun32WAPZM/QI9Ut8166oo1IO20uZW05MDQdNbBMVcdqjZSd7Zn59zcvoNi3v2NGcSJLe9N6vkJWw9rwb6DNNEfiqgRRUFxVScWA+NaCcp9pfH9jLtIO62vQlMd6eMeUm0DZyIGjqTJzXsh61MhyJsUzYEfinQUjG9z+jZfrICyZz+ZGc0XKC6BOyPrHsyi9eqny1WxWx66t8el0An50BAw5oIKmAAAACVAZ6CdEJ/AAfvZdmSYD9MUf36Lc7IllzJZPVqICyjqujKwAX+z8lJGMA14XW0hoAzSN4TxqC5jfN068Yz6ejxa4iWtDiDkMYIwsEO0nbFgVpucJ36i5i02UiUDfR+e6fC/YZLoncv8pNz0Rj/21f/DjeIT03xt7PAQjrlBuwYieffOIK+MceQblVZTWqhmGk1pTAAccEAAACtAZ6EakJ/AAfx4vj0f0LVuPbxV5+1JZgoNZlZBIVZXyb+OygCt8YmPanWv6YlSw+1/c+hgk8L9H5x9FiDCCrfLqU6J53BB1CK8ayTuriEkfD30uwP7pc/ULMtOOaUd+dl0D62uM61riV7QyVLze7YntjfQeeO0xd72WvDUkL57p7zbIg9cy7fJxwDKhmXWUIdcysgy6Is2zjknsdLDm/w3eO/W3NVxbLFSvazRgUAAAFUQZqJSahBbJlMCG///qeEAAADACjgoh6y/gu60ABGKAwCC/689MfLjRoX04y3a4utVyTpgP7NcBlPUuA7dk+YueP1ImF28hn/Yw23fuxe80yYfTd1s2ni8wwiHsoT+oJh3kdod4aRHknFKOUVym1bjUiIauCwlqjHMLogYTqq2lR9m1AA997nPMlijYYrgpK26CalEtQ5t3ChMAoVQpxURt+G2VHZsmZLLfsjnm6TQR6eDNnDKD5yvxOcdcMp/Y2oNG01LmrMKg4x+75n95hKy7Pm4EGYLV3aEddxgjvAN4K090q+yYPWBDG0xt4tgp1h41znj539wa1ZnrBKnxSEL7VpsWc5yPghmlYQmChC7uUA+7SJfFLsSyvjZP8ClF5gjm3gPERWMDrFfJDgj5EkpFSo5INh+TrNcn20kKYeoNGBX9XbZxk0eWBSCLCrTnIf1mML8wAAALRBnqdFFSwr/wFs5MuPdBN7G0yH6b7g8HAph09yoNlD4peeS1EFGswJX3lJLrEY3uSDYcCEX2AEXyr1280HMbN5LnI6tF8iMiZo4xzSzoajTdDQR1s1nVxHT5bODnNQPPFK4/LJU8xmNHCvxbh8cwg/otVACLkWDxfuFEQHrTETZ1IH80eeTJROi59bo8N8gX5bg3VR7LG/p+8/WGoB2+rV10Pr/CwTBrl4iMulSRMu7lqlofMAAACrAZ7GdEJ/AAfvZdmSYD9MUf36Lc7IllzJZPVqICyjwTzbZuCJUUYADjeRBXa3IaVAdt77kugLX3HTDjkpB+w3BKdoRNi4gEN3yeAkEG3DHQ9D5ooQ6hT9jxYBvfNKbBx7Q+hCIuMGCR8UViDfgQX3UPDAAdVHxWU/oqKFAK0bEzqBJGLRFqGdLZtBi811AVlxrZPeaKnn8pOpRz2WkPTTtT085xQOvWQqhEHHAAAAjQGeyGpCfwAH8eL49H9C1bj28VeftSWYKDWZWQPqZCU8jYIQHGEZaozudJykzd6thH0AC+CEX42MQLfNu4j1M5yn7ky1z6gM9jp1pefizNbHqOuWBSZq6AVujcfgDzR0tlPlG0wy/5R2/K3QZNwSjYXXF1oQkSGQAsnaiQnGyf1kilOjDkJA9W7Q40phVwAAASNBms1JqEFsmUwIb//+p4QAAAMAJt8jauyuSVmvruKIALQ7iX14vnd1PvUY1QmlizGeciQ6SSYWtu2cokJjLm7bItVZWbD++uQCnCbf40y9aHTIxukpRfiVV4gDed74xkeyGiOnCCwOVxIN4TPm5dLIfV8FxqSSy1qLvvkaon2pYNtY01MAERNK+7LmTOC2Jt7X7EWp1o3e+riNAXJPBdxDSSZ8WuTXdMYE3X3Sqds7s63ZliGHY6V0n/tZCZfXFLHBJzf1176Eoxp99iNwPlTz3kt9RjR+1PYYoq385opxbSAc3FY83R7ZiGZXd/dsM+t8PGM/1RE0+PUH5OQGFKOqLTuUf/e6OvOPOJ/OFtW6jybCHbpiUIWtFVHGFrpPnFrP3N0AAAC1QZ7rRRUsK/8BbOTLj3QTextMh+m+4PBwKYdPcqDZQ+KXnktRBRrMCV9xANokzrnfThhdM/AZ61iCYUOheFACy9RQw7Rfq6PeOgnkGWscSefEfKDKnRvv69f03Wa885WIFM0gUJScl2L9C59sR2o/91E3t56SWJLrf9UfU5ThxqCQEvvZqZJJNWMXN75OChmLBKd17MscP9FfDvrMtSf7vh9BsBWFS0HE/f1x91oMd12rJAAKmAAAAHkBnwp0Qn8AB+9l2ZJgP0xR/fotzsiWXMlk9Wock45SvxvgC1sSzka9tHrFvNIZNtHufgZ2X4cT5KMbpxfTGzZ2QdDYsQBJq1d4XvUCO85/IQ217xw53inZf15twTB/EiC1PDuDALg2EgDJoI2Y+P97t2MS/gFz/AEHAAAAoQGfDGpCfwAH8eL49H9C1bj28VeftSWYKDWZWQPqW0v2BgCPPI+tZPBDj5qLq0B5u00t5nWqtwtoa1d9Fc/Nilcdb+ORW5l3cogCl/jmWa2r+cj1g1RE8mpvnyuml/iJKWoVYhGSAUczfqMmn7cf6w/w+yV6tf4ZKaXBr2pFUnpwsQNwxXCPzwugMvoQQHOdtD2W+kwDiGuXFIO01L/VADuhAAABAEGbEUmoQWyZTAhv//6nhAAAAwAkpdlQAH+C+pk/HKpsqO3E41w8Dk4ZzznSruA2RwDOl4dJ4UmfGtyWKNNgmYtbWi4e3P6k1R61XTxobkLcYMPxxzohqC4y5TSimr9LraQlxqO4ckfMLfTOOw4mbZjVmG5h1iPOXqszPPJMrOK3CUMV46OFTXo9CHBvx/2Ah6J4Au98vCIy1ZeDYT3ctVaR+TkKSe6abPIUrEJRK40UBA+h0yxoB0bAzcExlSLTcNU9dm9cRe71hyzfcg9klsjxSlPO9QLzF5KMO1APsWcCFchfrcZTuSzpmTK21kELW0avWNXMV2p2iszsYPd/C38AAAC8QZ8vRRUsK/8BbOTLj3QTextMh+m+4PBwKYdPcqDZQ+KXnktRBRrMCV9xANODxVAs9ABdR3JOLL74Mc8GBVc5p+J0RtjADnLkhG3QcRULhjYPJa5a/HIhJQ2oD7V917krvGqmz7h5pjfMpx2CAjhdRQADRZ+BoVis6WHMqO7MxwpG9AIIxiQ8nLrd6+A5AhEH1BQ8SwNRv9GZ+HDlJjeqdIY+Y4BpD4C6dq39MT98OZ8RpXNbC7DNu9wAfMEAAACbAZ9OdEJ/AAfvZdmSYD9MUf36Lc7IllzJZPVqHJNC8G5XXvysjDdic3mhdQQ3wAmlu46NDpRxfJLfqW7r+o67iw7J1U30ivezs0hYI2iRZmABmRHurwkAV4KV+u5+oP7qHC7aeuBXDxUDyQPXzfLFqgOostYu5fK2zB3UX4Gz6x8fimyB8eXN53/CBnNDpMOJJ6/SzsOWTCegBiwAAAChAZ9QakJ/AAfx4vj0f0LVuPbxV5+1JZgoNZlZA+pfMxlHgBuYA+g803I3G1KvmQDf71Sce3TUHfmceoJP5mED8yQESZ7zrvVCfs9qKLu/H6KSTDhc4vSTmlYO6LMinO9jmkU3z83+WsWB/ZlBC7uvUSym4TTn7afBT0MGRKFWn1iUnQwJUnNBKnkHP0BiefG3mGF+lxJ6kfKozjfot8gABNwAAADwQZtVSahBbJlMCG///qeEAAADACSqEBnp/ZLSAFBHx/nw2F+TUJg366neG/Ireea5hfmgZScOVncGsajdrcdouwHtbsKpys9bcE+isGx5ErM6d1RCRroxuou9tjulZ9cOQmqf0mDPvHr3lIZn+M3dYAk81zM/Z4eiqbvqn9wCRdrgtTOPJ6TPGhRcpFbjU44ej0rcuYpZLnlS1d7OFfscS4cjewXCEs0bx1T3+RZ9RpJEqgoKxkNVBNtSBehpLmRVKO1cLqK/aqFpBsxXckaYl3WrV6rdsPqWR0+nLh0l+t8+2MFLCWul0zWwkJ+m4oKBAAAAq0Gfc0UVLCv/AWzky490E3sbTIfpvuDwcCmHT3Kg2UPil55LUQUazAlfcQDTUdLiw6rlawib3T7ain0XIlICOewSkwIqFM1OMf9LwAtVtZxX4+Z0HQQVUlA2ePYDwzc1R8oSWzFUVMOo9XPTlR4/Su+k3FX7L8VfvfhZHlTqDh0SCod2RcC+jQ2aE/2BRcCRGwoLoscz4rkn6IX3oiGzeZJJ0/FA/A0PAAA4IAAAAIcBn5J0Qn8AB+9l2ZJgP0xR/fotzsiWXMlk9Wock3rMGADYhKB3LuzuD4bHMRzu+f8S1p265BEMbsDg9cgaw8KoMSKUxq952+inTDPMRTq4D35MgLwitotOosdBrX5kUVXYnPaOekL97WhvLp3P7af//N+HSkMoURbTSs98Gi+sOkmAKxwAg4AAAACGAZ+UakJ/AAfx4vj0f0LVuPbxV5+1JZgoNZlZA+pkSxuADki20D2hsq5exAlm5dNcAp3csVy3bc5me235cHX9MpPAFLxv/1pFRklF/N9urjkog4/9WcFWpo/4BTLvDYNh/F/SwpWfmxdRgwNc9EKKH1xn0xmqW2i0P7sBLhMyZ/xghlgAGpEAAAEZQZuZSahBbJlMCG///qeEAAADACSmOgQAqT1oq5xMf8iU2p9Fyi/9q/xnkImWMbZABnACNtzN+oKdw8NA47wvcJuuJXrA3nrGN/rxCpR0oeJnQYA1GE9Nj2ZDDI28QO2vDXzoNqWO6+H0neX3x7dl9Xh0SR8cCEEcvbZXapLQyWujHJaZZcQwugxVDJYGHvoMnW/+xV+Tp3DnCsz1SmhSuOGluAONP+Y1HIvjCaMIYI1vONQnUbk3ZW2TFzJhVsPjX6ftFr8g0V0uqdUFut7QYM6LbmShIO3FqObz3BlpJzdu5pdDvI0FcBWnjwCYKEDx6v/1gwxmZ7QaxPVfUE8K149cTCp9WFnaaF4791jIE2RwtONbj3mgbsAAAACqQZ+3RRUsK/8BbOTLj3QTextMh+m+4PBwKYdPcqDZQ+KXnktRBRrMCV9xANOGGfMApJIwNuuHpO6MI7sqcQlIAc4RwB2Ux0NruU7/XnW9kqBM6Luy0qs40llxI39szWunwh0wD4jrKR5x2f8NbBCGo7qY85IT4Mb/vJrr/U8OVJbqerlhe8B1mRwlDnX3xGeLGeUcyXpx6y38bx6WLXvVOjFOV2hcVK4kJOEAAAB3AZ/WdEJ/AAfvZdmSYD9MUf36Lc7IllzJZPVqIWyo/G9PJ9LhhqaKEznGJaf0RACcIVkjRqmTXNLnsWORrxnpIYQBDQbtuOvwz4IcHr5Mw+SorztN9yVlOVspO2yYZ5IG5vgL5qSgR2V9igA98v9J+MpnqfgAqYEAAACZAZ/YakJ/AAfx4vj0f0LVuPbxV5+1JZgoNZlZBKy6qKKZ9fQAq0aNyXTlIfZhcfObsi1M+yYBsn7ts1n+EMyozKAttO+V5/ToYmfTq4rvnMeBHZs/x1sQrMatuZ7+9XaJM5fOOPX1ZBnDh7slsJFoC8hKYCwH9EfMTt6UEMIO24Vq59fw/9r1An2GR+ykdZaROQlvNyW/jobUAAAIdGWIggAEP/73gb8yy2Q/qslx+ed9LKzPPOQ8cl2JrrjQAAADAAADAAFHh7Xrjd2DW0nQAAAawAOkH8F5GDHQI+PkcI6BwESLwW4r8NrQDmAT+Wpfnc8izF1JAO/3MaKlHV/Pedi6m0VARPJgs1WangogT/+R/96JwJUwmbs5tNICdN/LocVXuP1qZTdWcn3zZyo8AE6h7wft+rInZBt0tGqkL4cKM9peuYn2V0PowPuCL+34RIWFKKjW/yWIRelUfQWbUzgyxBHVpsVYPNVNNkHklz371D3/FZp+nq+pRYmYTYr3AccWmhuIlXw/5WjbB+shdXrdhEk7I0SDFbjF7Dck9YyXoYnSCI65QZTeaIfM7wgE+KCeq1mRbBqgMYmRONLjsPJkW+rxw3kX8D97NlL4L10pX3xGaneQXlNhS/xeIcCwL6xObRx0C5qtVx+5aQhLLqGe6e4dtyKjOafLVEvDPLI5Arw+JxcY17V6+EAOUNehazJkT4r7E67h1azTHdqt3TKhTkreX8wUaO5TbK76RowkAFVUZBx4XWkpZFSjE28t23/8dvGv7v++ufQgseH1cFx0Bq4RbDHLEQgBakxEXghbpNpBjdygpGmvo1CG+Hi6T0y5Jm2Jga0iU6swz8Tn9vQgrwu5UEt7x9n4gaBKT6wAMpN/HAL+cIPnEqu2DUnqQd9yurCgo8Xz5asuSV+QjY566XTu4By7yg0Vy2QzhMLpYCym8CMRA/9icyAGAHirph/f8HVUcN7f+XpP/HH0mRKMY5a4LQpqmS3n8EPbMPZDSO8wH2ltVCdm0Xa1hJVI6s+kW6rRVMhd7ZOosYnZRcSZ7ivyZf+9PlDa5uz5X3mbgY6JXSxmPRfzjOd2MITantfulCEZSUPK9L0OXCO1YzxG8Xpe6N97rCuLpJHJjk95oLcWf8Cbo/f6aOKUt0lgiJkq+rXOYmOnEdn5na85LklIDExRT4kYGYgPPSU7wwUwIExiz+M8SofUiCOZm4sNbQyH9hgBkAxHzZhpvfWDROa8WU/jh5Y/fLMMJ+JLOeNyxKz49922L/1TLW1yiCth0lt8Lp7RjGGD+Z2om7hgPOaoAsC1LXitk5TxJuNZyEeZwQFoHk/2UG+6IUykayhsfid0mmv21Ze1CrCO02M1Eetja7cZ/jEAJVswsnri100Z93/yWaXP1VdhxJ9lvoCwoeCmpHnRI4jv8ATM1XUV9h3Bzn2PJLLEdI7DjRFFdjRymaLOfMJqJepXxo+pA6O7pKED/+IZ0f1T6wy42rS3uEBx7kYXZyYyG3kDs9eZg2hVJTqF5SYZmDC7Rpaf8wxySdaCG2MUFnbVgpF5RdWf38njTs4Cac/q+oQlfHQihvoUWJlOGjiV4W6S+ijeD375vLklNmj12PjPpMEa1Ip6oubw+LUiKYGu/bSQDlSOUOZNiXhuUy3HzM7wuHqi7MjjNKfXecRHTl1BpNUOK2xE/77b+kQhDS8EC0/yi0ACsDhngA65PyE8AW3EVGpWbzjK/xw7DDaPazsP2byiLz+HweiVFQZxy4tsNxMT5ajtOIYwK08BxtCmzbdR8H5N29yOUJr7uyxAVnJT//TTvmZNl992vNOZnmJetXLki/XoXZfPVpB5QE0M9B4BsuHuEwWXxGDEFQd4LxwperMEoVqwWJBqjcRiZl8x36JEQJ70UoBnzRqOxaM2tND9vJ7s207juODeQI/u4UZ9A73+7/bOBT8ASWmEBmoAsVVYaMbbWChYYOPG2clYPEHTAs5M7WCatAxa7HXsJwNkzzbta0KJEbpTT4/2fHPzYP25vjcyrRZUtyaRBVXdrT1eFQ6/a1zpZzva9T6jggxRS/D01BslBwMbAVUeeVlU0zsLLEQdVAE4W+3V4sbYP/0mX8DJfFn+g9Ci1nQLonWQW76AYl4287qCBH2Vfw12cbLVaxkUPjlExG7tjSUSCP3xLKV52CFzpYyWIJ8XjUXR297MtWVrvPT/L95L0PXHEJcZ2/cXGT1wMRU/WldxJUYbeiF/FuA9y/X0h0gXZ38tMDsPDCT3U1JcBBEjXbXJ49sNQm7Ss4daDnuq8hodlxadI3qAx5Qbesahm/vMslzj6Dq1VoO3YX/pHjY16r9Jvx6yCd41HMTvXxUfuBua+MZQUPugg1LNDS+UOBMXMmMMBBV3mXqqEeDuxcDu4+JCyu1vmon0VtwGRGLqal1Cy4RczMsS6iljxSMo/DvQrkYuKqpturorkAapcL69OJsC5l1g/QukvD19JdBj7TKefotwCER9YGov+codW8nAfDJVTsBAf56lUOO3+P1cEjnvxuZFYkB8Y5XH+01k98DfoEbredmXn+uWtGlDdnA1wXpI8Cv3MxeVMMBf04Tmtu11rM+6Hz0lHrN0a2iCNcytyc3vbHK7Md+/0psusqN3lyqbiWQvjm5fPP2KlH8aTA7xgMdeFmZhjFQ1gIUnMr7t9fiHcSH+zNW4eeVabW3drotFI+7gOiZKAmuuNNfY2nnO8f4j4uCkBtimayQKrK/SEiCANF2IY9LiikTUvmxRwjU9Uxfjdv1HtBekWf06bi1nh85//8cj3doRHIrj3Ill/o+74IwCvxwg9OVXusDUv5kxtIQJwxjSFw6RxnA6pwQzwwuSVVp2zc6/F3x2f9K2x0rlv3yi9e7l1doDH7OS0gG/MDMyXE57D44oMV5FhGPehM5P/TidNi/PqE6d8m3iCN1oTzV7pYb5ghX7llCXKkn6KGiLwcCL6xmTxXi2F7yenMaW8qjwL3WkbJIFHqUAJndWpMHuxumXM+95Ll31Cm4ZPvc1J9nxRivl1FR//8jFDZcVUAiedQ8B7eHTdCOEQ8ZNGERGCmAbyts1TVQAAAMAAAMAAAMAB80AAADvQZoibEN//qeEAAADACf77am/Tv+IAWx8ZBBlreB8VLhvfeTpGhcJBSBjFrnn9fa644gGKOgP/x+R0UxDQVFEYODIG7j6yoPTt/TL4aatU0a4z6/lnclYeUnhWkHeNB0pRGtv2PBzJXVouPOp1r9EGfALIwr4pDijAMllXH5IkXg2/Wf24BM8w2BptHFx+UB14rSbvVIkTOhg46OmuutKE8YulVYB87afoGipPPM2i2va7jl47hUSqRywHqEz6pvYBuZres3r0qeRXzWOIl+gkOK402kChi/N0wX9Ak3fqOiw6tHCO+uZdiDhkPjS6OAAAACOAZ5BeQn/AAADACoaQrMyAFhqkzyltNMke/Qk1wSbszBPGBrSVg2q9GlSrIraN3wkSMNnIaPF1+IBUxTybIVOPFp4GjvkGoy+tnkOZowPoVgCv7e6RnUDL40PGHNr1f713O1D5TyJ0UeD0NWJaIOm/lgj2qPHem7PRNsianQw0SeZLHnmARoHLBAws5YD1wAAAOpBmkY8IZMphDf//qeEAAADACo7++C7pQAC5PBZB529dHG2P6YpYG3tmrygSpMxpGZvlatLye1jtu0xZpVF6OJhDrLb+1D00KYhtblTJ9mfMfeiQXvpf7WfJigzzOOnt1O8VAPNmeEavyxlPxm9a8GD9hh+ZSn1UsPANGUMtyRB9M+56RitekfSid3X4le3haEjbNUeS0lr017HvAyJ8od9EzNn/PYkmfOO5Vn9BN2foRIK0+dSzB5jaNwjcouilif4piMTB4ZFfpTLknJ9fgYCvR0R1v+eTFJY6naPP/xAWOu5whDQs8i0UykAAACyQZ5kalPCvwAAAwAhuu5Xk8MgABAGukwy4CXQ+zyNOjaMwdNzFoBzkIHgSyKxgc62+dmAEiaqH/7GB4ncP0bDNQ+FQhEQWc/9SxT0EUdorA9SdGyi0c5WhNO8fq3k83Htlc2iKjSQHSXdUiwswTlZhPmKd8C2CKJsLSnUz4spSAe/7stF0HPpvKS5TM2jCNBwB9HVJ0TZeY78a86837NOoxIILKXFsfj2CuAVtfJJzwfagAAAAH8BnoN0Qn8AAAMAKZKvxGrzRKA0qAFhls6Ar9Z4MxN3DjBs7fRHP933xQeJu6bbY7VokJkquwTff7531zkvXNSSWuMbJ3eAe2eaZkS8McCRHnPqcZEBm2BX8L/LYeQWxhVgozly//aNpkgXNEmQhpNzxxKGrd2dfE2+g7jgyMCAAAAArAGehWpCfwAAAwAsVvUtEAjUvbsAoDKOIXIeNMraKvETIRlSecrypFZZdUEyPkE448VEsiZmYgProic3t7dVjS7csxiUYbDW1KsHHIEz9rfsev94IO9BiIdJCr5w837sk0ORfUGN5wAfQxAw+gUzsVbkNyRbJc5iO3FweSjcyVahsCpIg3auzM89h6lXMS9EPbMPIAuBnIuEwBWm/mz21UOe6YGpVnS+d294Zm0AAAELQZqKSahBaJlMCG///qeEAAADACo+8Jbwi0UIakAhDa9gIrMRGcjoJ8vcnEzn9V1FyjbW+BAnlWuThQqVIfbVhlX2+HF4uUM9wLZHW8MGA//ypBd9hEYmeJHgAnXi+Wf9HhMfL9+Y8cgnQ56MJJfAJvkIw+ECyO1NDIiRv/ffOBbOcsL9njBgqQe1JVBbsB7tgA4YeSeXDkxQh8XR/Yw0kIfqr5wBwe4igo6TCvjN5kA/4Br2czTsrgpLI2uGgHQzNVPtxKZ1ISrUfjy3O6NLl8epTQ7yf9DYD9dSbM3zdJ84laMPzHcwQANHEQaydkIAjEJJlVlIKdkHis/Sw+6JSZ2f09nL/qumfovAAAAAn0GeqEURLCv/AAADACGyE/+6xfM5JSAL/AJI8vWUUagsymVxhp7a+f6L2EOf+E51yivULaUzLHYQ0oOuiR1dxaAhhBjzOvvmoS74qQ1V5YpYUBcXJdEX92kLL/y7+BxDPOl15SFRNP/oBD7XQWDubjONsEkBUYQMI98Dp3TMoNTWwdfGNOpVhp58dDTiGdEH5PcIPMiOXGSW5NShFTgj4QAAAJEBnsd0Qn8AAAMALEinuthWqIQBono3JCzjAOGdOHiP3TF+S0MHsrsZmfGr54FfHmjykKYdoQFsHlCLH1IiFkzQShKjrxFDrBm2yrHZVvxMxsXaL97alt7mJuQvqIKHmMBMjPjv5TlVnDnHBhPb6wpDe8V1oEfHRGWOAzVdLf3LMhGgOfT6x/xRB5HL1nRgCBJwAAAAhwGeyWpCfwAAAwAo9xkTbpjsmLbgBY8bGv6T62qIKSwUybfSN84VXvjYZJeEwV8aMp/uzzzcTezmYQ4yfaTc8rEDZdaZamIIqfEy9uzECemBIWWU7IO+MFDegc4TpO4OKTMFKCUQ9AiED/6fm7XGmvmwCxKhhYrBQyFSCPJIGgGk7CJgfaABQQAAAPhBms5JqEFsmUwIb//+p4QAAAMAIqRNuVk3mrsI/OIHtuIspAFtxckuNhTGfIE9VejQ1gDw3h+0rumIUyhBik7yoWWdEv+eNEabtVbqukwcM4S+kg/jhHG+RgaJZXJJx+9EjCNbob8dWWIQz6x2Q+98aw1GtPRVTCdMG5wmb3bu/OEuoKBTj4kfX0rLfMZ0nS3j/Vfaz3bazh9sQPNY3XzCQHKNpNbP7lk98XjoPOEIJMDhk3BVRGzO/nKOBoxrK6PldbfnJMeIjwd2A2tIw5WFoj7YwDcwzaquKeAcCMUGiU9g013aiHqgrcG4sz/tbh/74f+FltTj6QAAAHtBnuxFFSwr/wAAAwAfGvhjGtTWQ6o3FdhvACuJ+urdjhFdhP3AMTRGdVVUuCnZyC+HH81jfuzeeQFRNU760PnDI231DsNk7wHFKOqBkdVhRfbTanp9xQb6slCUbn5Sscqa7EjUSPid/NKjjr0Ve45QodEnORwG+ax5FcEAAABqAZ8LdEJ/AAADAChytYwV5OrGfqz8kFBrqzZXIAHmpb667lwdTlvY802abGD45d8dOK5Yd/jpB1n744+mj9wcI04ivWXR0bl4HZoGwWtl2BpDp/uUuy5wqau+7q/GGHRVLfAm2aK6PYr2bQAAAIYBnw1qQn8AAAMAKHK1jhvpdHVH9NNC/mfV4ADjeWDzZ1Mu5W91ypqU2aRzpf395G83Lhi+G7L1K0nhKLxdT4SlBvEejpjTJSOLHwCwwsDXLlrginUebpgIB70pOEtIi3i3w5iKcOArp/0X8ajmK6Q4u2MOpuSC+VupOmaMPhpgJSq3apadWAAAAR5BmxJJqEFsmUwIb//+p4QAAAMAJKXVEAK6h8w27ar0JOmwV99iYb9Fh5NmGqZ2qB9raNRwJfrTCkn1IH8viRAcS0vLgXA7ko/86Xn4SVbm2Qkpz12v68ji8BhL61YT7I1nCg6fgwWTPDBv5VgLueJ67ycOr5/dyLOrvvOsNIFoyQ5YR2aJJLh6JAW5UCQyaqyXo6j8ZTaQBnMSLVJKBCuect9D/HI4HyhEEH8L0fM1Au/I5ELlHbq05VY6t7CGyCZTauJRFSgevFWhcYyPIzYNgFO17Nj3jtttsakAwE9Ntj1SQzXW/TDW63UDlk2/RBy6BmfkonWHRk80ru1g1EY+WftpfgeLhIawlPB7Q5q0HKvrQRmU4zrlOwUehLswAAAAmUGfMEUVLCv/AAADAB22S85lWUuwVYfodLnWdtFTC0ciDDACWq9BFHbJf+T+E+qCXrxga8LjZDmJQMgOfzEaEe2aichptdrjyOvclYzgsO2iqPEILDN9M8b1UXBdnwLy8240J5tV9/D6q8v4RBiqdPT0MXVIwF43hI4RHFcqIqSLFwQSrBAin3vjHKFDGkbZl+dAyZEczLpJeQAAAFABn090Qn8AAAMAJa1qu6DlokNYFz3mpSexUAE6xwF8goLNYYP4j6Np9iT6S2numtY7cR+zUi/Gn61Hp3qZnJlPE9s4fXShQYqm08ivaOdIOAAAAH0Bn1FqQn8AAAMAJrtr4QgBGR0osLKSmTwe/KlbKj/J/28F9PgRZHmbx974sPeLZIiUa+r0imLNfRxYS5NGVck61YFMLt2O6S8Dd9b9ge0wGgw4DwSyx32/AvQcBCki591he6fKJPDj/8BWmRkx2uUKY81h6n/WULZfGxoRNAAAAMtBm1ZJqEFsmUwIb//+p4QAAAMAJ71A+gBKeJ+9Ov8OyDCHCKPG4fRSmDGVWzyTVUKr8ECaFGvo1TAvI0odf6Xr3lx5GfPBohZ9ame3321h09GQwf3YZCDt3zK0evF/TKc/NPcljOTEsM4DWOSLvKFYMLiwAkZDgMQ60kpVLiwck273uAB32+wWZQ6zQJ26HNflS7JlNiiSVKL2eveJqfthvcHR2E8H550/HHaZ6T7E0zDv9AgCYuJ5toMny82M25hVxyRHnYNPLz7TsQAAAHhBn3RFFSwr/wAAAwAfdR3181MADsYXVBPDPXZiHYIWX962yTQexPEgN7zlhuvTyryzdojQEJqTdaAHxs379PbWwrf2zhrdK8xP9Lr5WI7gmsDlKJ8tgXuwU1T6lnMQ/wrd0i8ZdO/B3bNNBry4ajqBOQblQRZUFWEAAACVAZ+TdEJ/AAADACfaO0rAANQ39ZqaSfmaBx+28rkN9nZeCW74vpw/HwAEmkqdsTFMwJlJqieT8ty3mfef5mIdQEwPYFhlNWckZ0v0hs3lhmIqzFP+ZBQa1z3WuFonZEu7Ey35/vWLwodNLvbvZkV1ZEX3ohH4j8nyDxVTTP2TAyYDuR+lOcwB0LJ6rofsWoFj7EMbapkAAACEAZ+VakJ/AAADACoW9/HgAjsCdTosXTmx0tqibF9y+s4ADDY5oBZ4bRS4RMn4kSP4rBXuP+GvsFyCZVZZcbInDiA8Ig96NiqGok5/I8lfj93y5yBe4M3D0Mjw8s6K/cVqrRX3Iy/Mgb7zIN1MVcB31gmY04IvqkhzQjPFydKvmqar5QGzAAAA70GbmkmoQWyZTAhv//6nhAAAAwAn/vCgG1G2agBNXoHxU08Er5EpSMgghf6ugKbiudlPJCojUirROOjis/XKGZGdIvMVP1UMHS0nR1+pivzzpvFw2L4zxdXqIgfrAmvbYM24vnEUoMYi7WATHC+TtTEIOTxs7ccHNAiIcvIsHqYlle04G9Nc2rm7nugru7dJWAQrCCEAgvx8o4F2Q+vs/S32NAjcEFSKW3TE11j4tmqGn3AjmslQXW1PArT7ETmf0bNUn/PjhIvcNsBO5mHjQLULbLmYwIrcvPBRJWUTFc+KUG+xu0QBxCOU/TdG/3iPAAAAYEGfuEUVLCv/AAADAB/ASquL48XyOi4Dn4ATrI8A08UWLhSytASSwx6uvzw7vJdG11c5vI/xVeAFBd12nA+wsvTJ1Bih+V+/jih1ZvHzj0cPAnV+MSZEM3mWc8SlEeiGLQAAAGcBn9d0Qn8AAAMAKgjem/6VIA3EbPu2qK0KfwoBktRMiDNouEWCoIfrbImF85LB4vLUjE/n76y5oJmVKWOwnwwT2FdJM9pB4ejolUWt8lhV8GesQSpKH7IEg2rvwWm6VX2juDWQA4Q8AAAAeAGf2WpCfwAAAwAk1R3AJoOG5xjS9yhE1/MV238YUVUzkfWLR0FccPYVPi/lv7UDGkfTpdWLEmlPIOIyCtoOsLK+1KakJXUD7RYYxx+DehSopWAc53GmN62pKI2PvI38dU8f6dte+um0ISXqX9AkRIksTOgbLao7gAAAARNBm95JqEFsmUwIb//+p4QAAAMADnk4OoARtoz2yJ53ILmdYScbmaO6sSdiLiBXUf1blQOJhJumGncJ2Nt5wR7luuof4LTCzsd7DW/hjVTJgQxtXMDaW9ge2g6s6BwJAto4v0ypIWArUuCZn76fnKISFu0prSzfSWcZssN1dAnrMf191Lm6XQprOzQD++GNT1ZPTnX8mfwcMxv5UAhcPvlGUasriDLDanG8Zn5O79PGXmFCqezaCKiAoKd7xP//DDijf8AU6OAU+MdruHtl+wq/SCNWEh+Ys+sk+ht1uUO9GVPR8m9juQU0bNc3tJU1899hmw+wGCe++wcTL5nSSocQ2uvUeGPY8V7ZWHZeLqhcgbmj7wAAAJBBn/xFFSwr/wAAAwAexR3Agfl1rEDQXKMhACTh53vm6wxvNKkCKePqIYS7AiMcIEW3g3l//qTCZcPSovBVpu5iz4nM2cxVgp7JoKBuzXvrGKogE7jVlv1ZaT22NyB3ciqFzXSlUeStbRBkTvr1ggxh6dDyINQC/cfrEp+EFiT5iQIMgDJwHdKOFDT32yweRxwAAABjAZ4bdEJ/AAADACjo3oQ+oMEv3HPn0AKkH7jdx3Fc5TU6fIEklRKtM5/WcsFpInAk0fNs5sH49C+QtNs5eStzS48rSryPboTCbUee6G24qKlcYNyjq/UHByczJrgLHqlePXuBAAAAggGeHWpCfwAAAwAo9xWaLgkOagBQbKDiNSYOisgoyhzMMqw4aHJBqqYghh61BsdbRqHZb0BseLWsY9jw1g2UR9CqWz6zMbMKFGnecn47tFis73JYbYvyH7j6g5ZbVd0jYXlGOV498FEGlau/x735ru2OxQOomCfDkKMoD3OgPVfFAuMAAADyQZoCSahBbJlMCG///qeEAAADACSwBqQAn/Xqp+VDM/8f/YG1o8kn+OiMNuki8jTo13KjEMJ3R7AkNrEPDgt7lsvSd/wgsH7G56b0kTZofNLVzDtgFvh8wteSrysXmKV09DLwy1Ojq9ssQIp1h/i5ayO/6nk4C2WJAVM2ZlW82U8/rzduCe1QMtyS81BBRe7ybk3vn9pL4VDHhdt2mqA1BFzulGCsOU/l6U0U0TqKoOlnY3ZNflKaQAp2qrV8J3knUe1PIk94Ac80OHM6pZ4A2I2soeEVIRSE8SK+GUZZI15ZN34cCrXmOM65Xi6Xhn0K03oAAACHQZ4gRRUsK/8AAAMAHxr30/5GY3tmtIgCdiyTDJ3jGqaHNElvhgPd8yhTLxnCx0f5pOy1r8tSMxHUFvnRthaiFU04KuTbEhPtzfroJrWEVJRAOT5wUA3isaznwdvkQEv7FMwmntKkjMhIdbN9u2RFUxyie2/rtjVwj0GmXvtZiR9Hd/pa6Y0ZAAAAewGeX3RCfwAAAwAo6ORNc7BtHL/4EALd7S+tnkN/gGqBqKQZuq0XiqNk7csCDFnI8yPBbeG10dvq2gdM14xslGOhzryxfkWpj/i9fwhGauQM/9E/WB1rGBi7H0CYnHlXQlCHn+xODg23yeynK3HEfHc5eh1+QyLa0tBdwAAAACgBnkFqQn8AAAMAKPcWqZxmsLLND2AWHYV3cm1nP2Rf4g5RdDCRACpBAAAA8EGaRkmoQWyZTAhv//6nhAAAAwAh3yNgYsH4TgZMABtVyXdfFyD6IDBcAj580YFsQob6sL+qawuevoJnN1gxcSQ5CNfpQA0tP8sFsyQJM9Vn7kO6gsZ9eaP+HgebdnOqAuNZt3g5kHydWEsbIgLATyecif1Q+Eovvl94jpvnkHs11PmEhzYGGVcpM8FosCn/xC6x6GMZxR0DsrbLQBzMdBhacN0HLNmE4/VIi1ku2nILaEZNydV71pZpD+bEpn+bTdkt/dlIfyM2kgPn14+HoatuEcWp1tM/RSXnF1SofY5dlsKvLYkVMHlAl+mSft7woQAAAGhBnmRFFSwr/wAAAwAfGvgBw9eT2T13/4x0Snx9gn+f7conCwZMAFksssv8YJq8zFKCgRnp3R6RV2IZFOeWiOgbr+N/1JcKmSq346MblL3oDMlhVCREm0tSQgLFzV6tedZuYhOdExregAAAAFABnoN0Qn8AAAMAKOjkTBH8Juv+eSVDRn3eACcaHvj5tgBvchF0wP9X9clCkpAYAOvXLeLqTBIE0aNgwC9QjZ+1dHDeGC7htU6OacPbmkaMuAAAAD0BnoVqQn8AAAMAKPcWqLS/1H8fF3d4fRxIAS9+/eiqwIWNFMR5zRDiRQ7GLmV/NCW4e9eFXuXAfkEHv6rBAAABOkGaikmoQWyZTAhv//6nhAAAAwAksUbM889Q1ADN0moIuf9cfqYlEu6VodaesouMRnvF4URGOuw20yDwRr/ayeRMZxnKqEU4fBc+Pzph1/gpXF97NVlgUhmBAOng7ofpNkbpfN5lZjB/Kq8x9eIuhnkGv3zAHrDo4nNIOxOgWW4HTtQ+u8w9HqbxYgEQv7mo1XyPzmPjJhYCHg6neKrgMjFv696NZ+tuceo/2yFwtpB+H6CxTQo82AuG7HX6i3Bbw7snWwJrKWwouSXdiZKotU48U3w21tBKfWtW1/O7GHVQR9W5oo93Bi+a94No8mGHYxPW/of12r28MtIlBKlgI2AuhfKboiFAkSMAX1eVw3vL3Fd4sVNmdw5W8uWXGZU5rALxHx7ixJ7kimjY01Rn8Lwzvec5a2lzvSV+AAAAZEGeqEUVLCv/AAADAB8a+AHN/ctLI9iCNQgBrNYHgsWdMfgLXELCtzzbgILFZmFVyCj+FwB8mLRyy1DhuorePg1sGf+DOyQ9yWCrU01cqUy/a4xtjlcZPcS4fqAB1aLyCsQsP1MAAABRAZ7HdEJ/AAADACjo5Ey8l99YwggA12nhCWggnAps36hJwovmnrBlzVMoKnCwNnSUyJ8HP2pe18J85oThRLzHM+s6XR7jJDKt6wkEZs0lswccAAAASQGeyWpCfwAAAwAo9xapnGau1Xm3QANi9zjH7yUZhPNYPo8+1MuNFH1uJ3nb9ktx5KiCoXlBBtJofmZ6g7asltqQgKJMHAgIlYEAAAEJQZrOSahBbJlMCG///qeEAAADACDfI2EHIrgCuDZluUCmoqPyRpCIaISwVOLeSzS36ERrPczT3jbMdkBZNclWtOl9ELXCtJt1tXySatX6z+FUtdQcFsew48mhDqou2BlIeInRG691iTz6gM772673+pv6T5d8PSsVLpls9xj2R7/kaUpiU36P0sMEOnadZJ/1fqSmZFKIWtG3xIDo7pxZ6lEkUGB2Uqzft5au9RONj+Pn1eUJdyZhPcP0yRBVip6Egm9KqdGr59ZxGfgn2C5DWQH0eXHbDGueE1fv4B1lK5o2r565vR+rKlg0SZ/VNN21hFDqWWmswEaQelgjLJnkMiprdPDp+w48XQAAAGZBnuxFFSwr/wAAAwAfGvgByfJnssZoptky8M8gCAMlTq8mfzEgWOrAq9xjForGbnBAwv1glrQapo+XBYBYDKuE9XJ6L5YSvqPML9QwVleaPckD/TQBnlmO6+rB/6WZP4veVaO9kXkAAAB5AZ8LdEJ/AAADACjo5ErHU6Rm+YcRAFczQzVGHYmOMuzgme9/6ZPoob12CQIJ+yUKh6wQgl/s0X6C55++pIn5DvUc91UN78cEOFW+OxYdcTkOWwGlK73gV+9crfASufRV6n3jUf91hKNGgT1pNhSGJ3aU/vQHaFK2YQAAAFYBnw1qQn8AAAMAKPcWp4NpQtyS6AOf0x2+SK5g/4eL+Leay2cCqbD5QT7GuT1REDK/QlBU8jG9LQbzNsLVY9xprRS6U3Eez4s3DW7GtSa9o3crL1SLgAAAAPFBmxJJqEFsmUwIb//+p4QAAAMADueyptF1CLipJAF90PdcweiVZsCSGiVT67eNgcbICOu1sUNScpeuFQq7xIpiBHOTcJY31huMnrd5OeLicoQA6gAP5zYRKPBFBK2rB0HaOqBvnzSZwCrcPOrZOzaUcUPQixq21SG7/7kXn8ijRuJFbL1ga8OA6j6WYV2jZzkoGT+okf2tcA4FnimWtC0cJaE1HpfAKHXRAZ1O1L8c+zWV8YZg/r883cnKIEOzAR8KVe0Xl8ZAis/MxT7bjUR3CQ/Nez1JtvcHqJkWzZlXB4hWP6tKI7pCYDt39b+PjubgAAAAi0GfMEUVLCv/AAADAB8a+AHQrZboXIBCPKoDc/lmXYZRObg0Oz/up3xcVmBYMhUqCcPW41oHAJSHfEtjHdUmCRJ0hVORtVtsHo52kfjd2rn30bFkovvoEauYNJFBTXIBCDqgL4Q1wag5fmh/5DSCSQLr1Ob2PBkcOI5+QPZBH2s/q7HDC4iJ9GXLlTEAAABqAZ9PdEJ/AAADACjoydNYOXAvRSYArU4pKGnQ/O5HK1dFcqNKimcmOGsPmXxGLhkTV2QEsACXZU6rf2stZ9fShmYdNb58OrmqMig3E0rtLSkRgHBWnruRprsxunsXzy5LHTdgoQfLWkBZQAAAAFMBn1FqQn8AAAMAKPcA3pAbyyDtR5W+5bjHMCsAEzfvS4wUhqC5/d7XJ3x43QUfXgwKE6jH6dX+QW2uVDP/Oc1OLD82l1QwoLBas0JMKfZw9g/SzgAAANVBm1ZJqEFsmUwIb//+p4QAAAMADo8J7m8AB6V9QDBIPe5XDVd48Xd7LAzB7tXCQCMlQtwd80kqp4eRkpWk3G///43HW6W7P/h4jjdUVsGfUBtrZINLwjKjTne+HXLDCE8jartvW916eXg4BunGnZI0JjYxT/bGAvmBivF7G7H8TIAN8HNyQrwGlCfvRvIhuNlAjmCrqZPlfMWwtSSoA5JYKf8vfkdn3LsiP7ISCvdEBJlagm+99pu5Z9AjJGWEYyzfqTiwUX1Vjkbxy4yV0VlkSkZicuMAAAB9QZ90RRUsK/8AAAMAHxr30/5RuGYZdnn9AB5RAWrdqQoTIbQVqG5rBmNlm8Y5I5YXF/DigJgpSGfjTjFzP09D6o3HMuAjX0qmDFDhvD2Y4L91i0hfZEtJAk9RsyPL2DeURyMblETU7pMdpA2HGvafsUwGkdmjajyaQbKgu4EAAACFAZ+TdEJ/AAADACjo5E2GT4AHSAUmQXFAwX/p7C8/ddo0e/9BVPTAl4oPOaoRv05+ryR6fp2bVnVrAUXGKUMUf2piL5JmNMmpqMt13GUr8he690yUVg2pnna2mEhu07cV/0FOFwxtf8eS/uTTrCHvxuZA4FkiIQDtVrPKND3X1NPpQURCbwAAAEABn5VqQn8AAAMAKPcWqQWwZfk6AgAhulO9WOBAo4dGLHQqKr7FneFLtB/Hi69RHGQHFefgXcaHtbZCmlkxjlGzAAABI0GbmkmoQWyZTAhv//6nhAAAAwAOj7Km1cX4AKk6TQXEW09pbeoXOhdfisO9MqqT+USoV7TMx1Xaet04xUVdITNrz+fnjWmaJpUo4nFAswKJFX6qRAlnWBTKwZOcKhZaRlPCWAO0Y/bof9F7Z1c3ICW6antMPBDPlvX5L9KayNT8yzuTi2CYZV4rbL1Ls8Zhfl/WyoI9lwZ42qWRz80ITo/8gOCza56ghvmO6aVpSyJqLAy5g7SGDYAFdy2BJTRSKN5WOO1CHMCL0ULAQZi9L6i5/s1pON7y2sxmnQ2Pk0ioGXVuDWgVgFGvr2LLwBbacRqsldfzkRr+86GKrcGmK5o15cK0qdyTQtvQAEUcmIxXclwKejoOU8oSzQ+62vYWvpo4sAAAAGFBn7hFFSwr/wAAAwAfGvgBzIcjkCQBHYMXPcX/Q78Pwc49om/rcR/d5MOBbEky3J9X7BxbirWw02p19kzSp1LqLQd+6Y80eGDOSSS+aGBHFuehym9DK/lBM7bov91HvMD/AAAAdAGf13RCfwAAAwAo6ORMkHUBO8HcD7a3yb4ecb1trbINKEdH329pOVGNZUzY9xjeYVvBJKCTxcsRo/gNrHdCtmeJ75AH1voWS5vjZnS1wDBGJqb4ndUvfPih8mIHNNYMnDTh0twuetOhLPFAz00SOQyU5wJOAAAAZgGf2WpCfwAAAwAo9xbkUAC/2fk6YuJh5el4jFwfxCauxRQm6Y4IEhZmOveSoDl3ZIhK8FdsJXZzDE+SJi5OSZOTHmSxIjoCVNlGE3upMQ2F+Fg7xFT3zKpvpRcjRLJQqEZneyEFbAAAAPFBm95JqEFsmUwIb//+p4QAAAMAIt03tRF1BDjE+CiudP1loigBGJ/20pmp5+JlNLi6m9KsVLrxUc/TVM8123tHESw8AcJGNt4Ld9gErfEOdUA8t9iS+dmu34u4MSXFh+HTRXh/KC8NrqOtud5fCRED2WLViehQWYtHUAdiJt5t6oVquuNPgRpih8pAO1KTU8RxIzan5E65cny/pWJQQw8euJ4XJaB8NE1pCWqy8c2m1iXrCUZ6oUcwNTbpMhGp8gdzZNKhwPpaafp2A8BD9AslHgqXTwIwcxCtGUGOjvwSxemHdO44gHipZm8pRjFWDrVVAAAAhEGf/EUVLCv/AAADAB8a9/rAIlwLzuoAvxKTdn0PkhuAe2PAL1+5urX8u0fNGHsmhX9UxpSLLJw3x/fJPIJ/W8pEzFgl2PQhy6uNgcRkTXhvVLzYOqB0p9kUnfqo1bqiiQymCO9xxWsV8Q3c1zQdytsMnFwQS5DNH8M8LGwwp76OgH4EbAAAAGwBnht0Qn8AAAMAKOjkTXOwcSbBiNbQAiDsIi+8/poLBCbffZ1FPoEGm9EZMCLzq8XZKF4axZmu479tiAGcgP8nPWApRsKDAgSFE72APyf3iwvB90+9uHb0cTlbsGWqOfhOxsRTlh5iL9qof4EAAABaAZ4dakJ/AAADACj3EgE36sW65g/gUQATrLzpmLlF5Mr+EdFI0Ak1wsGrWqtgd7Ttqtk6+gSmuufX5ms80+QN4KJW5vcvTGKGMm1h7rOabiWOfQDNodv9VQWVAAABDEGaAkmoQWyZTAhv//6nhAAAAwAls+I+oAh3DJNr5NcoAGXmXXgwFRytgjPYAsopK7IuAn5MDGGv+VAov5uXuhrjxXS2ovfPFr/PYC1XXiTVcWo8yznYJD3pnSWZhF1fT9OlpyHO9XyqncZS/tmK++QLg04TF1VPeJuDsEYPTsi4hAKH8/9DnYb2ExLE44FJFv04GBPkHJKM5d6V6ahK2nkh/XfuBlAZb4rn6Fl5207B7TyNz7IEj/VGzXzhXZIgSJKPPcdl9GVm4x+/NfhEfqkQUJo8tBiEM4MPMk8MQIlq4HMiwujmxXAn2IMvOGXKip5+gnZtSIqYKtEIgwcKcIqSteOoUKL9bg7cASAAAABcQZ4gRRUsK/8AAAMAHxr0s+3BIlgCGSd7aQAgcImWGVzwOL/idMQ45tr5i+MIoyrKkGfbpT02WNxJqRa/hETiVbZx7QLJGbZd2Hpwmcw8zXIjJHkPnrTjF4MtCXkAAABJAZ5fdEJ/AAADACjoyhhcHrjkJjHQb3gAOkcmVr41hapk4BgzquzNTHKGy0Me+oAiVsQVqOAI+WQ60OelPx0aJHTh8x7xddxGBAAAADsBnkFqQn8AAAMAKPcA3qVsignB1VKh2byKly6zwBazODK0vOGIxakyAzrgrh69b5n5KwBLsZqAgWhf4QAAAGRBmkZJqEFsmUwIb//+p4QAAAMAJaZBXAELq2C2q4c81eielqDHE+sgSJag6QCbZFYuM+mdt5gOsGqtAN/CLSnb13ULnKhAf0f8EgKx+0ph7bjp90YOqMNggufU0HHYjT8xm4g5AAAAKUGeZEUVLCv/AAADAB8a+MgHP133vp1/vEEr4xsSdIlvFmEFRppiLGVAAAAAHAGeg3RCfwAAAwAo6MoYXQfMenfk5+HPJN8Agd0AAAAbAZ6FakJ/AAADACj3AN6lNj8ZKhm81q5NAPSBAAAAZEGaikmoQWyZTAhv//6nhAAAAwAkqi8gAVOXhx0QGf46L67NF7JRV19AfoGIEY/LGYGBKZvnnCsBjsi3LSd/CaDpOJS+zTEd9KFAci1PEvpPdqy9JnJZ5dINif4o9Hi+hEpMlPgAAAAnQZ6oRRUsK/8AAAMAHxr4vnWk/Ei3WVAJNmmULq9PJVMxu215AA6ZAAAAKAGex3RCfwAAAwAo6OJJnwA6AvpUHZW9z056fmeJWCKMpbXmsh1QCtgAAAAcAZ7JakJ/AAADACj3GRN9oIAU2UqT++hp6cCpgQAAABxBms5JqEFsmUwIb//+p4QAAAMAAeVPFcHmuU45AAAAI0Ge7EUVLCv/AAADAB8a+GMhT8E/CKmpG4+NqprQvVa5ABVxAAAAGwGfC3RCfwAAAwAo6Oc2y1pwHXI7Ace1i5IGDQAAABkBnw1qQn8AAAMAKPcZE32ggBTZSo9Q+AZ8AAAAGEGbEkmoQWyZTAhv//6nhAAAAwAAAwDUgAAAACFBnzBFFSwr/wAAAwAfGvhjIU/BPwipqRuPjaqDf/XgM+EAAAAZAZ9PdEJ/AAADACjo5zbLWnAdcjruNbAoIAAAABkBn1FqQn8AAAMAKPcZE32ggBTZSo9Q+AZ8AAAAF0GbVkmoQWyZTAhn//6eEAAAAwAAAwM/AAAAIUGfdEUVLCv/AAADAB8a+GMhT8E/CKmpG4+NqoN/9eAz4QAAABkBn5N0Qn8AAAMAKOjnNstacB1yOu41sCghAAAAGQGflWpCfwAAAwAo9xkTfaCAFNlKj1D4BnwAAAAXQZuaSahBbJlMCE///fEAAAMAAAMAHpAAAAAhQZ+4RRUsK/8AAAMAHxr4YyFPwT8Iqakbj42qg3/14DPhAAAAGQGf13RCfwAAAwAo6Oc2y1pwHXI67jWwKCAAAAAZAZ/ZakJ/AAADACj3GRN9oIAU2UqPUPgGfAAAExJtb292AAAAbG12aGQAAAAAAAAAAAAAAAAAAAPoAAAsZwABAAABAAAAAAAAAAAAAAAAAQAAAAAAAAAAAAAAAAAAAAEAAAAAAAAAAAAAAAAAAEAAAAAAAAAAAAAAAAAAAAAAAAAAAAAAAAAAAAAAAAACAAASPHRyYWsAAABcdGtoZAAAAAMAAAAAAAAAAAAAAAEAAAAAAAAsZwAAAAAAAAAAAAAAAAAAAAAAAQAAAAAAAAAAAAAAAAAAAAEAAAAAAAAAAAAAAAAAAEAAAAACYAAAAZAAAAAAACRlZHRzAAAAHGVsc3QAAAAAAAAAAQAALGcAAAQAAAEAAAAAEbRtZGlhAAAAIG1kaGQAAAAAAAAAAAAAAAAAADwAAAKqAFXEAAAAAAAtaGRscgAAAAAAAAAAdmlkZQAAAAAAAAAAAAAAAFZpZGVvSGFuZGxlcgAAABFfbWluZgAAABR2bWhkAAAAAQAAAAAAAAAAAAAAJGRpbmYAAAAcZHJlZgAAAAAAAAABAAAADHVybCAAAAABAAARH3N0YmwAAACXc3RzZAAAAAAAAAABAAAAh2F2YzEAAAAAAAAAAQAAAAAAAAAAAAAAAAAAAAACYAGQAEgAAABIAAAAAAAAAAEAAAAAAAAAAAAAAAAAAAAAAAAAAAAAAAAAAAAAAAAAAAAY//8AAAAxYXZjQwFkAB7/4QAYZ2QAHqzZQJgzoQAAAwABAAADADwPFi2WAQAGaOvjyyLAAAAAGHN0dHMAAAAAAAAAAQAAAVUAAAIAAAAAGHN0c3MAAAAAAAAAAgAAAAEAAAD7AAAKuGN0dHMAAAAAAAABVQAAAAEAAAQAAAAAAQAACgAAAAABAAAEAAAAAAEAAAAAAAAAAQAAAgAAAAABAAAKAAAAAAEAAAQAAAAAAQAAAAAAAAABAAACAAAAAAEAAAoAAAAAAQAABAAAAAABAAAAAAAAAAEAAAIAAAAAAQAACgAAAAABAAAEAAAAAAEAAAAAAAAAAQAAAgAAAAABAAAKAAAAAAEAAAQAAAAAAQAAAAAAAAABAAACAAAAAAEAAAoAAAAAAQAABAAAAAABAAAAAAAAAAEAAAIAAAAAAQAABgAAAAABAAACAAAAAAEAAAYAAAAAAQAAAgAAAAABAAAKAAAAAAEAAAQAAAAAAQAAAAAAAAABAAACAAAAAAEAAAoAAAAAAQAABAAAAAABAAAAAAAAAAEAAAIAAAAAAQAABAAAAAABAAAKAAAAAAEAAAQAAAAAAQAAAAAAAAABAAACAAAAAAEAAAoAAAAAAQAABAAAAAABAAAAAAAAAAEAAAIAAAAAAQAACgAAAAABAAAEAAAAAAEAAAAAAAAAAQAAAgAAAAABAAAKAAAAAAEAAAQAAAAAAQAAAAAAAAABAAACAAAAAAEAAAoAAAAAAQAABAAAAAABAAAAAAAAAAEAAAIAAAAAAQAACgAAAAABAAAEAAAAAAEAAAAAAAAAAQAAAgAAAAABAAAKAAAAAAEAAAQAAAAAAQAAAAAAAAABAAACAAAAAAEAAAoAAAAAAQAABAAAAAABAAAAAAAAAAEAAAIAAAAAAQAACgAAAAABAAAEAAAAAAEAAAAAAAAAAQAAAgAAAAABAAAKAAAAAAEAAAQAAAAAAQAAAAAAAAABAAACAAAAAAEAAAoAAAAAAQAABAAAAAABAAAAAAAAAAEAAAIAAAAAAQAACgAAAAABAAAEAAAAAAEAAAAAAAAAAQAAAgAAAAABAAAKAAAAAAEAAAQAAAAAAQAAAAAAAAABAAACAAAAAAEAAAoAAAAAAQAABAAAAAABAAAAAAAAAAEAAAIAAAAAAQAACgAAAAABAAAEAAAAAAEAAAAAAAAAAQAAAgAAAAABAAAKAAAAAAEAAAQAAAAAAQAAAAAAAAABAAACAAAAAAEAAAoAAAAAAQAABAAAAAABAAAAAAAAAAEAAAIAAAAAAQAACgAAAAABAAAEAAAAAAEAAAAAAAAAAQAAAgAAAAABAAAKAAAAAAEAAAQAAAAAAQAAAAAAAAABAAACAAAAAAEAAAoAAAAAAQAABAAAAAABAAAAAAAAAAEAAAIAAAAAAQAACgAAAAABAAAEAAAAAAEAAAAAAAAAAQAAAgAAAAABAAAKAAAAAAEAAAQAAAAAAQAAAAAAAAABAAACAAAAAAEAAAoAAAAAAQAABAAAAAABAAAAAAAAAAEAAAIAAAAAAQAACgAAAAABAAAEAAAAAAEAAAAAAAAAAQAAAgAAAAABAAAKAAAAAAEAAAQAAAAAAQAAAAAAAAABAAACAAAAAAEAAAoAAAAAAQAABAAAAAABAAAAAAAAAAEAAAIAAAAAAQAACgAAAAABAAAEAAAAAAEAAAAAAAAAAQAAAgAAAAABAAAKAAAAAAEAAAQAAAAAAQAAAAAAAAABAAACAAAAAAEAAAoAAAAAAQAABAAAAAABAAAAAAAAAAEAAAIAAAAAAQAACgAAAAABAAAEAAAAAAEAAAAAAAAAAQAAAgAAAAABAAAKAAAAAAEAAAQAAAAAAQAAAAAAAAABAAACAAAAAAEAAAoAAAAAAQAABAAAAAABAAAAAAAAAAEAAAIAAAAAAQAACgAAAAABAAAEAAAAAAEAAAAAAAAAAQAAAgAAAAABAAAKAAAAAAEAAAQAAAAAAQAAAAAAAAABAAACAAAAAAEAAAoAAAAAAQAABAAAAAABAAAAAAAAAAEAAAIAAAAAAQAACgAAAAABAAAEAAAAAAEAAAAAAAAAAQAAAgAAAAABAAAKAAAAAAEAAAQAAAAAAQAAAAAAAAABAAACAAAAAAEAAAoAAAAAAQAABAAAAAABAAAAAAAAAAEAAAIAAAAAAQAACgAAAAABAAAEAAAAAAEAAAAAAAAAAQAAAgAAAAABAAAKAAAAAAEAAAQAAAAAAQAAAAAAAAABAAACAAAAAAEAAAoAAAAAAQAABAAAAAABAAAAAAAAAAEAAAIAAAAAAQAACgAAAAABAAAEAAAAAAEAAAAAAAAAAQAAAgAAAAABAAAKAAAAAAEAAAQAAAAAAQAAAAAAAAABAAACAAAAAAEAAAoAAAAAAQAABAAAAAABAAAAAAAAAAEAAAIAAAAAAQAACgAAAAABAAAEAAAAAAEAAAAAAAAAAQAAAgAAAAABAAAKAAAAAAEAAAQAAAAAAQAAAAAAAAABAAACAAAAAAEAAAoAAAAAAQAABAAAAAABAAAAAAAAAAEAAAIAAAAAAQAACgAAAAABAAAEAAAAAAEAAAAAAAAAAQAAAgAAAAABAAAKAAAAAAEAAAQAAAAAAQAAAAAAAAABAAACAAAAAAEAAAoAAAAAAQAABAAAAAABAAAAAAAAAAEAAAIAAAAAAQAACgAAAAABAAAEAAAAAAEAAAAAAAAAAQAAAgAAAAABAAAKAAAAAAEAAAQAAAAAAQAAAAAAAAABAAACAAAAAAEAAAoAAAAAAQAABAAAAAABAAAAAAAAAAEAAAIAAAAAAQAABAAAAAABAAAGAAAAAAEAAAIAAAAAAQAACgAAAAABAAAEAAAAAAEAAAAAAAAAAQAAAgAAAAABAAAKAAAAAAEAAAQAAAAAAQAAAAAAAAABAAACAAAAAAEAAAoAAAAAAQAABAAAAAABAAAAAAAAAAEAAAIAAAAAAQAACgAAAAABAAAEAAAAAAEAAAAAAAAAAQAAAgAAAAABAAAKAAAAAAEAAAQAAAAAAQAAAAAAAAABAAACAAAAAAEAAAoAAAAAAQAABAAAAAABAAAAAAAAAAEAAAIAAAAAAQAACgAAAAABAAAEAAAAAAEAAAAAAAAAAQAAAgAAAAABAAAKAAAAAAEAAAQAAAAAAQAAAAAAAAABAAACAAAAAAEAAAoAAAAAAQAABAAAAAABAAAAAAAAAAEAAAIAAAAAAQAACgAAAAABAAAEAAAAAAEAAAAAAAAAAQAAAgAAAAABAAAKAAAAAAEAAAQAAAAAAQAAAAAAAAABAAACAAAAAAEAAAoAAAAAAQAABAAAAAABAAAAAAAAAAEAAAIAAAAAAQAACgAAAAABAAAEAAAAAAEAAAAAAAAAAQAAAgAAAAABAAAKAAAAAAEAAAQAAAAAAQAAAAAAAAABAAACAAAAAAEAAAoAAAAAAQAABAAAAAABAAAAAAAAAAEAAAIAAAAAAQAACgAAAAABAAAEAAAAAAEAAAAAAAAAAQAAAgAAAAABAAAKAAAAAAEAAAQAAAAAAQAAAAAAAAABAAACAAAAAAEAAAoAAAAAAQAABAAAAAABAAAAAAAAAAEAAAIAAAAAAQAACgAAAAABAAAEAAAAAAEAAAAAAAAAAQAAAgAAAAABAAAKAAAAAAEAAAQAAAAAAQAAAAAAAAABAAACAAAAAAEAAAoAAAAAAQAABAAAAAABAAAAAAAAAAEAAAIAAAAAAQAACgAAAAABAAAEAAAAAAEAAAAAAAAAAQAAAgAAAAAcc3RzYwAAAAAAAAABAAAAAQAAAVUAAAABAAAFaHN0c3oAAAAAAAAAAAAAAVUAAAjFAAABBgAAADoAAABEAAAANAAAAKYAAABTAAAANwAAADIAAACWAAAASgAAAD0AAAAwAAAAigAAADsAAAAsAAAASAAAALcAAABVAAAAKwAAACcAAADLAAAAZAAAAEMAAABAAAAAqQAAAEQAAAChAAAARAAAASMAAABLAAAAOQAAAGYAAAHNAAAA7gAAAGIAAACjAAABNwAAAaQAAADbAAAAkAAAALEAAAEpAAAA0AAAAKEAAACzAAABVgAAAKYAAACVAAAAqQAAATQAAADeAAAAxAAAAMYAAADJAAAAwgAAAL8AAACwAAABFQAAANYAAADBAAAAxQAAASwAAAC9AAAAwwAAAIYAAAFtAAAAwgAAAL8AAACyAAABPAAAAOgAAACPAAAArQAAATcAAADZAAAA0AAAANQAAAE+AAAAiQAAAL0AAAC0AAABRAAAAOUAAADZAAAAvgAAASYAAACqAAAArgAAAL8AAAEcAAAAvQAAAMIAAAC3AAABHgAAAMQAAACwAAAAkQAAARAAAADYAAAAkwAAAIQAAAE4AAAA6wAAAJ8AAAC9AAABHAAAANoAAADFAAAAywAAAUoAAADsAAAA3AAAAMoAAAEEAAAA1wAAAMsAAACiAAABHwAAAOQAAACUAAAArgAAAUcAAACmAAAAmAAAALcAAAEiAAAAyAAAAMgAAADDAAABJQAAAL4AAADWAAAAwQAAASEAAADLAAAAvwAAANsAAAFNAAAA6AAAAKkAAADcAAABPQAAAO0AAAC/AAAAsQAAAT8AAADUAAAA2gAAAMcAAAFQAAAA9gAAALUAAADRAAABQwAAAPsAAAC1AAAA3QAAATUAAADRAAAAwQAAANUAAAFEAAAA9wAAALcAAADlAAABCAAAANQAAADDAAAAvgAAATQAAAEEAAAAywAAALEAAAFRAAAAwAAAAKsAAAChAAABJwAAANQAAADYAAAA1AAAAWgAAADrAAAAvwAAAMIAAAEuAAAA/wAAAO0AAADqAAABCQAAAIYAAAChAAAAlQAAARAAAAC9AAAAsgAAAMMAAAFHAAAA4AAAALEAAADSAAABSQAAAO0AAACmAAAA6wAAASsAAAC3AAAAjwAAAIsAAAD1AAAAsQAAAHUAAACnAAAA9AAAALEAAACHAAAAugAAASUAAACWAAAAlAAAAKQAAAEGAAAA0wAAAJ0AAACnAAAA+gAAAOIAAACZAAAAsQAAAVgAAAC4AAAArwAAAJEAAAEnAAAAuQAAAH0AAAClAAABBAAAAMAAAACfAAAApQAAAPQAAACvAAAAiwAAAIoAAAEdAAAArgAAAHsAAACdAAAIeAAAAPMAAACSAAAA7gAAALYAAACDAAAAsAAAAQ8AAACjAAAAlQAAAIsAAAD8AAAAfwAAAG4AAACKAAABIgAAAJ0AAABUAAAAgQAAAM8AAAB8AAAAmQAAAIgAAADzAAAAZAAAAGsAAAB8AAABFwAAAJQAAABnAAAAhgAAAPYAAACLAAAAfwAAACwAAAD0AAAAbAAAAFQAAABBAAABPgAAAGgAAABVAAAATQAAAQ0AAABqAAAAfQAAAFoAAAD1AAAAjwAAAG4AAABXAAAA2QAAAIEAAACJAAAARAAAAScAAABlAAAAeAAAAGoAAAD1AAAAiAAAAHAAAABeAAABEAAAAGAAAABNAAAAPwAAAGgAAAAtAAAAIAAAAB8AAABoAAAAKwAAACwAAAAgAAAAIAAAACcAAAAfAAAAHQAAABwAAAAlAAAAHQAAAB0AAAAbAAAAJQAAAB0AAAAdAAAAGwAAACUAAAAdAAAAHQAAABRzdGNvAAAAAAAAAAEAAAAwAAAAYnVkdGEAAABabWV0YQAAAAAAAAAhaGRscgAAAAAAAAAAbWRpcmFwcGwAAAAAAAAAAAAAAAAtaWxzdAAAACWpdG9vAAAAHWRhdGEAAAABAAAAAExhdmY1OC4yOS4xMDA=\" type=\"video/mp4\" />\n",
              "             </video>"
            ]
          },
          "metadata": {}
        }
      ],
      "source": [
        "import glob\n",
        "import io\n",
        "import base64\n",
        "import imageio\n",
        "from IPython.display import HTML, display\n",
        "from gym.wrappers.monitoring.video_recorder import VideoRecorder\n",
        "\n",
        "def show_video_of_model(agent, env_name):\n",
        "    env = gym.make(env_name, render_mode='rgb_array')\n",
        "    state, _ = env.reset()\n",
        "    done = False\n",
        "    frames = []\n",
        "    while not done:\n",
        "        frame = env.render()\n",
        "        frames.append(frame)\n",
        "        action = agent.act(state)\n",
        "        state, reward, done, _, _ = env.step(action.item())\n",
        "    env.close()\n",
        "    imageio.mimsave('video.mp4', frames, fps=30)\n",
        "\n",
        "show_video_of_model(agent, 'LunarLander-v2')\n",
        "\n",
        "def show_video():\n",
        "    mp4list = glob.glob('*.mp4')\n",
        "    if len(mp4list) > 0:\n",
        "        mp4 = mp4list[0]\n",
        "        video = io.open(mp4, 'r+b').read()\n",
        "        encoded = base64.b64encode(video)\n",
        "        display(HTML(data='''<video alt=\"test\" autoplay\n",
        "                loop controls style=\"height: 400px;\">\n",
        "                <source src=\"data:video/mp4;base64,{0}\" type=\"video/mp4\" />\n",
        "             </video>'''.format(encoded.decode('ascii'))))\n",
        "    else:\n",
        "        print(\"Could not find video\")\n",
        "\n",
        "show_video()"
      ]
    },
    {
      "cell_type": "code",
      "source": [
        "# Install Git\n",
        "!apt-get install git -y\n",
        "\n",
        "# Configure Git\n",
        "!git config --global user.name \"AyaanZ30\"\n",
        "!git config --global user.email \"ayaanrzaveri@gmail.com\"\n",
        "\n",
        "# Clone the repository\n",
        "!git clone https://github.com/AyaanZ30/Lunar-Landing-AI.git\n",
        "\n",
        "# Change into the repository directory\n",
        "%cd Lunar-Landing-AI\n",
        "\n",
        "# Move the notebook to the repository directory\n",
        "# Replace 'Lunar_Landing_Project.ipynb' with the name of your notebook file\n",
        "!cp /content/Lunar_Landing_AI.ipynb /content/Lunar-Landing-AI/\n",
        "\n",
        "# Add the notebook file to the repository\n",
        "!git add Lunar_Landing_AI.ipynb\n",
        "\n",
        "# Commit the changes\n",
        "!git commit -m \"Initial commit of Lunar Landing AI project\"\n",
        "\n",
        "# Push the changes to GitHub\n",
        "!git push origin main\n"
      ],
      "metadata": {
        "colab": {
          "base_uri": "https://localhost:8080/"
        },
        "id": "ehxTLEG2uEEw",
        "outputId": "d4b3cef3-3e32-4f26-ad45-a3db5c4b86e9"
      },
      "execution_count": 3,
      "outputs": [
        {
          "output_type": "stream",
          "name": "stdout",
          "text": [
            "Reading package lists... Done\n",
            "Building dependency tree... Done\n",
            "Reading state information... Done\n",
            "git is already the newest version (1:2.34.1-1ubuntu1.11).\n",
            "0 upgraded, 0 newly installed, 0 to remove and 45 not upgraded.\n",
            "Cloning into 'Lunar-Landing-AI'...\n",
            "remote: Enumerating objects: 3, done.\u001b[K\n",
            "remote: Counting objects: 100% (3/3), done.\u001b[K\n",
            "remote: Compressing objects: 100% (2/2), done.\u001b[K\n",
            "remote: Total 3 (delta 0), reused 0 (delta 0), pack-reused 0\u001b[K\n",
            "Receiving objects: 100% (3/3), done.\n",
            "/content/Lunar-Landing-AI/Lunar-Landing-AI\n",
            "cp: cannot stat '/content/Lunar_Landing_AI.ipynb': No such file or directory\n",
            "fatal: pathspec 'Lunar_Landing_AI.ipynb' did not match any files\n",
            "On branch main\n",
            "Your branch is up to date with 'origin/main'.\n",
            "\n",
            "nothing to commit, working tree clean\n",
            "fatal: could not read Username for 'https://github.com': No such device or address\n"
          ]
        }
      ]
    },
    {
      "cell_type": "code",
      "source": [
        "!ls"
      ],
      "metadata": {
        "colab": {
          "base_uri": "https://localhost:8080/"
        },
        "id": "MuaLAi-3wxcM",
        "outputId": "8921ab55-ad90-43b5-c46f-350f88b4e50c"
      },
      "execution_count": 4,
      "outputs": [
        {
          "output_type": "stream",
          "name": "stdout",
          "text": [
            "README.md\n"
          ]
        }
      ]
    }
  ],
  "metadata": {
    "colab": {
      "provenance": []
    },
    "kernelspec": {
      "display_name": "Python 3",
      "name": "python3"
    },
    "language_info": {
      "name": "python"
    }
  },
  "nbformat": 4,
  "nbformat_minor": 0
}